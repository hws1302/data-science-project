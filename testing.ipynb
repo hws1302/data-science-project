{
 "cells": [
  {
   "cell_type": "markdown",
   "id": "fa782038",
   "metadata": {},
   "source": [
    "# Part II Computing Project: Surveying using stars \n",
    "\n",
    "To do: \n",
    "- fully understand the SVD theory and have some form of write up on that\n",
    "- understand why the sampling changes things? something to do with neighbourhood sparsity \n",
    "\n",
    "\n",
    "Plan: \n",
    "\n",
    "### Physical theory\n",
    "- Why we have these large telescope arrays\n",
    "    - Gives the precision of telescope that large, without the same amount of light\n",
    "    - How does interferometry work, taking paths lengths to be equal when the visibility is maximised (check this!) \n",
    "    - we have the three things that change, the carts, the POP mirrors (which are not given) and the \"constant term\" which is the same on any given night\n",
    "- Coherence\n",
    "    - Interferometers combine light\n",
    "    - Light is oscillating E field much greater frequency than can be detected therefore, we only see the beats\n",
    "- What are our ground truths \n",
    "    - That the measures occur at exactly maximum visibility and therefore zero path difference\n",
    "    - That there is no error in the elevation and the azimuth measured\n",
    "    \n",
    "- At CHARA\n",
    "    - star is so far away that we get plane waves therefore giving a constant vector of the waves\n",
    "    - assume that the spatial coherence is good\n",
    "    - different consists of internal and external \n",
    "    - external delay is related to the difference in distance due to the star position\n",
    "    - if the star was directly above this would be zero and if at angle we see the diagram\n",
    "    \n",
    "- Why the star position matters\n",
    "    - give the 2d example and then raise to 3d to show that with the star vector it is possible to get an equations in terms of the star vector and the baselines etc. \n",
    "    - why we need many data points, how this could effect the error\n",
    "    \n",
    "- What data is there\n",
    "    - The data is from 4 days in 2019 and many days in 2012\n",
    "    - The task is to find the model parameters (this is the telescope locations and the POPs) \n",
    "    - We do this via least-squares linear regression\n",
    "    \n",
    "### Mathematical theory \n",
    "- Explain that we have many linear equations... sounds like a matrix, explain how we can formulate the equation to get design matrix equation \n",
    "- Then show that if we could find an matrix that minimises the 2-norm that we have the least-squares regression\n",
    "- Why is the least-squares regression favourable, what are alternatives \n",
    "\n",
    "- eigendecomposition, and how SVD is the generalisation of this\n",
    "- How the pseudo-inverse can be arrived at from the SVD \n",
    "- \n",
    "\n",
    "### Code techniques\n",
    "- Standard packages used\n",
    "    - matplotlib for visualisations\n",
    "    - numpy, how it has c-like speeds and why is python so popular for data science despite the slow speeds \n",
    "        - created in 2006\n",
    "        - python not originally intended for numerical efficiency \n",
    "        - explain the difference between the two languages\n",
    "        - Show some tests for efficiency (can write a function that shows the difference\n",
    "        - How we can time our code with `%timeit` \n",
    "    - In the years since python has added in many symbols which help make linear algebra easier e.g. `@` symbol for mat mult\n",
    "    - Python is easier to learn \n",
    "    - Cloud computing allows for \n",
    "    - JIT compilation\n",
    "    - Jupyter notebooks (how has the flow here matched what a data scientist would do in the field)\n",
    "    - Pandas\n",
    "        - history\n",
    "        - built around pandas.DataFrame object which can be populated by CSVs, JSON, excels files etc.\n",
    "        - works well with notebooks\n",
    "        - built upon NumPy meaning fast operations can be applied to entire rows e.g `df[df['tel_1'] == 'E1']` give the proper snippet with the output too! \n",
    "       \n",
    "\n",
    "### Data processing\n",
    "- Removing outliers (especially important as least-squares)\n",
    "- Creating the design matrix, how we made the most of vectorisation to map over from DataFrame to design matrix \n",
    "- Why the design matrix was designed inefficiently, how it could be designed better\n",
    "\n",
    "\n",
    "\n",
    "### First task \n",
    "- Telescope locations for a single night \n",
    "- Are the errors how we would expect?"
   ]
  },
  {
   "cell_type": "markdown",
   "id": "0673c130",
   "metadata": {},
   "source": [
    "## Things to consider \n",
    "\n",
    "- The time complexity of the mooore penrose psesudo inverse\n",
    "- How do we know if the design matrix is full rank? surely it isn't as it is very sparse\n",
    "- Would be really cool to add in an animation showing how the position updates are estimated after each piece of data\n",
    "\n",
    "\n",
    "## Theory of the SVD\n",
    "\n",
    "(Numerical Linear Algebra)\n",
    "- If we look at the elipse, we see the left singular values for stretched elipse and the right singular values for the unit vectors of the preimages of the principle semiaxes. This gives the equation \n",
    "$$Av_i = \\sigma u_i$$\n",
    "\n",
    "Then we assume that V is unitary so we can invert via its Hermitian to get the SVD formula (although this is the reduced formula) \n",
    "\n",
    "\n",
    "\n",
    "\n",
    "- Eigendecomposition\n",
    "- Given an example of a 2x2 and show that it is stretching along the principle axes of an elipse, this is generalised for n dimensions\n",
    "- Then introduce that we might want to do the same for a non-square matrix (why eigendecomposition doesn't work for this\n",
    "\n",
    "- SVD generalises this, give logical dervation towards this \n",
    "- What do the two U and V basis vectors represent\n",
    "- Show how that can be n dimensional elipsoid embedded in m dimensional space (this is the analogy on wiki)\n",
    "- What do the singular values represent \n",
    "- Show that we can get a pseudoinverse, how does a computer calculate this -> show on a 3x2 that this leads to non-zeros where there should be zeros for analytic\n",
    "\n",
    "- `numpy.linalg.svd` using fortran (another compiled language) with the `LAPACK` library using divide-and-conquer"
   ]
  },
  {
   "cell_type": "markdown",
   "id": "e270117b",
   "metadata": {},
   "source": [
    "# Task 1: Finding the telescope positions \n",
    "\n",
    "- For telescopes the angular resultion $\\propto$ diameter as can approximate light from very far away to be plane waves \n",
    "- Economically unfeasible to have such large telescopes has led to the idea of telescope arrays \n",
    "- Still limited by the amount of light but get a better angular resolution when combined (give proper explanation of the science) (this is how the black hole was imaged)\n",
    "- Do this via redirecting light to the centre of the array (show in the figure)\n",
    "- But to join them together we need to get the path difference to be zero -> mention to coherence of light and the visiblitiy\n",
    "- Show on 2D diagram that the path difference would be dependent on where the star is and the baseline between them, talk about this interms of projections\n",
    "- Therefore we can a system of things to equalise, we know we are equalised when we have maximum contrast fringes \n",
    "- Have fixed POP mirrors of unknown path difference and carts that can be moved to sub micron accuracy \n",
    "\n",
    "- In the tables, can use the elevation and azimuth can be used to convert from horiz (give descriptions) to find the vector of the sun-telescope array, again assume constant\n",
    "\n",
    "- Therefore can set up a equation for each measurement\n",
    " \n",
    "$$\\hat{\\textbf{S}} * \\textbf{x_1} + \\text{POP}_1 + \\text{Cart}_1 = \\hat{\\textbf{S}} * \\textbf{x_2} + \\text{POP}_2 + \\text{Cart}_2$$"
   ]
  },
  {
   "cell_type": "markdown",
   "id": "a9c7dad3",
   "metadata": {},
   "source": [
    "### Finding the lengths for telescope positions for a single night \n",
    "\n",
    "As discussed above, we have an equation for each night and should construct a design matrix, **how do we represent these equations in a design matrix?**\n",
    "\n",
    "$$y = X\\beta$$\n",
    "\n",
    "The equation above relates the vector of outputs of the model, $y$ which is the cart distance to the design matrix, $X$ and the model parameters vector $\\beta$. The data gives the $y$ vector ($\\Delta \\text{cart}$) and want to find the positions of the telescopes, which are model parameters. Therefore an inverse of the design matrix must be found to find $\\beta$. As the matrix is not square, it does not have a determinant and therefore an inverse. \n",
    "\n",
    "\n",
    "The Moore-Penrose pseudoinverse (notation $X^+$) can be used to invert any (?) non-square matrix. This is particularly useful in data science as large datasets often form \"skinny\", having more data points that model parameters. \n",
    "\n",
    "\n",
    "The process of using a Moore-Penrose pseudo-inverse is equivilant of finding the least-squares solution for the line of best-fit.\n",
    "\n",
    "\n",
    "(On any single night we can assume that the \"constant term\" doesn't change)"
   ]
  },
  {
   "cell_type": "markdown",
   "id": "0b160570",
   "metadata": {},
   "source": [
    "Least squares solution: \n",
    "- $m$ measurements with $n$ model parameters leads to a $m \\times n$ matrix\n",
    "- $M > N$, as is the case often in data science, this leads the problem being overdetermined (show a graph of what this looks like, e.g. 3 equations and two unknowns?) (this is called a \"skinny\" matrix)\n",
    "- We have the residual vector, $\\textbf{r}$ given by where $\\pmb{\\beta_0}$\n",
    "\n",
    "$$\\pmb{r} = \\pmb{X\\beta - y}$$\n",
    "\n",
    " - We find the solution that minimises the residual in some norm, for least squares a 2-norm is used although a higher degree norm could be used to find least cubes. Though least squares is used as it maximises likelihood and is the best linear unbiased estimator (i.e has the minimum vairacne amount linear unbiased estimators)\n",
    "- also 2-norm solves linear equation when you take the derivative, easy\n",
    "- But sensitive to outliers \n",
    "\n",
    "\n",
    "- Showing how the SVD is a three step process to rotate stretch and rotate\n",
    "- How the low-rank approximation can be used "
   ]
  },
  {
   "cell_type": "code",
   "execution_count": 43,
   "id": "2552f0e2",
   "metadata": {},
   "outputs": [],
   "source": [
    "import pandas as pd\n",
    "import numpy as np\n",
    "import matplotlib.pyplot as plt\n",
    "import matplotlib.animation as animation"
   ]
  },
  {
   "cell_type": "code",
   "execution_count": 44,
   "id": "002a0104",
   "metadata": {},
   "outputs": [
    {
     "data": {
      "text/html": [
       "<div>\n",
       "<style scoped>\n",
       "    .dataframe tbody tr th:only-of-type {\n",
       "        vertical-align: middle;\n",
       "    }\n",
       "\n",
       "    .dataframe tbody tr th {\n",
       "        vertical-align: top;\n",
       "    }\n",
       "\n",
       "    .dataframe thead th {\n",
       "        text-align: right;\n",
       "    }\n",
       "</style>\n",
       "<table border=\"1\" class=\"dataframe\">\n",
       "  <thead>\n",
       "    <tr style=\"text-align: right;\">\n",
       "      <th></th>\n",
       "      <th>Unnamed: 0</th>\n",
       "      <th>utc</th>\n",
       "      <th>star</th>\n",
       "      <th>elevation</th>\n",
       "      <th>azimuth</th>\n",
       "      <th>tel_1</th>\n",
       "      <th>tel_2</th>\n",
       "      <th>pop_1</th>\n",
       "      <th>pop_2</th>\n",
       "      <th>cart_1</th>\n",
       "      <th>cart_2</th>\n",
       "    </tr>\n",
       "  </thead>\n",
       "  <tbody>\n",
       "    <tr>\n",
       "      <th>0</th>\n",
       "      <td>0</td>\n",
       "      <td>2019-04-07T03:18:25.000</td>\n",
       "      <td>#93396</td>\n",
       "      <td>0.086178</td>\n",
       "      <td>0.022330</td>\n",
       "      <td>W1</td>\n",
       "      <td>W2</td>\n",
       "      <td>P3B3</td>\n",
       "      <td>P5B2</td>\n",
       "      <td>62.585687</td>\n",
       "      <td>80.000000</td>\n",
       "    </tr>\n",
       "    <tr>\n",
       "      <th>1</th>\n",
       "      <td>1</td>\n",
       "      <td>2019-04-07T03:18:25.000</td>\n",
       "      <td>#93396</td>\n",
       "      <td>0.086178</td>\n",
       "      <td>0.022330</td>\n",
       "      <td>S2</td>\n",
       "      <td>W1</td>\n",
       "      <td>P2B4</td>\n",
       "      <td>P3B3</td>\n",
       "      <td>39.085558</td>\n",
       "      <td>62.585687</td>\n",
       "    </tr>\n",
       "    <tr>\n",
       "      <th>2</th>\n",
       "      <td>2</td>\n",
       "      <td>2019-04-07T03:18:29.000</td>\n",
       "      <td>#93396</td>\n",
       "      <td>0.086177</td>\n",
       "      <td>0.022325</td>\n",
       "      <td>W1</td>\n",
       "      <td>W2</td>\n",
       "      <td>P3B3</td>\n",
       "      <td>P5B2</td>\n",
       "      <td>62.610570</td>\n",
       "      <td>80.000000</td>\n",
       "    </tr>\n",
       "    <tr>\n",
       "      <th>3</th>\n",
       "      <td>3</td>\n",
       "      <td>2019-04-07T03:18:34.000</td>\n",
       "      <td>#93396</td>\n",
       "      <td>0.086177</td>\n",
       "      <td>0.022320</td>\n",
       "      <td>W1</td>\n",
       "      <td>W2</td>\n",
       "      <td>P3B3</td>\n",
       "      <td>P5B2</td>\n",
       "      <td>62.641690</td>\n",
       "      <td>80.000000</td>\n",
       "    </tr>\n",
       "    <tr>\n",
       "      <th>4</th>\n",
       "      <td>4</td>\n",
       "      <td>2019-04-07T03:32:01.000</td>\n",
       "      <td>#93396</td>\n",
       "      <td>0.086174</td>\n",
       "      <td>0.021492</td>\n",
       "      <td>S2</td>\n",
       "      <td>W1</td>\n",
       "      <td>P2B4</td>\n",
       "      <td>P3B3</td>\n",
       "      <td>43.169167</td>\n",
       "      <td>76.216268</td>\n",
       "    </tr>\n",
       "  </tbody>\n",
       "</table>\n",
       "</div>"
      ],
      "text/plain": [
       "   Unnamed: 0                      utc    star  elevation   azimuth tel_1  \\\n",
       "0           0  2019-04-07T03:18:25.000  #93396   0.086178  0.022330    W1   \n",
       "1           1  2019-04-07T03:18:25.000  #93396   0.086178  0.022330    S2   \n",
       "2           2  2019-04-07T03:18:29.000  #93396   0.086177  0.022325    W1   \n",
       "3           3  2019-04-07T03:18:34.000  #93396   0.086177  0.022320    W1   \n",
       "4           4  2019-04-07T03:32:01.000  #93396   0.086174  0.021492    S2   \n",
       "\n",
       "  tel_2 pop_1 pop_2     cart_1     cart_2  \n",
       "0    W2  P3B3  P5B2  62.585687  80.000000  \n",
       "1    W1  P2B4  P3B3  39.085558  62.585687  \n",
       "2    W2  P3B3  P5B2  62.610570  80.000000  \n",
       "3    W2  P3B3  P5B2  62.641690  80.000000  \n",
       "4    W1  P2B4  P3B3  43.169167  76.216268  "
      ]
     },
     "execution_count": 44,
     "metadata": {},
     "output_type": "execute_result"
    }
   ],
   "source": [
    "df = pd.read_csv('data/2019_04_07.csv')\n",
    "\n",
    "# elevation and azimuth are the wrong way around \n",
    "df = df.rename(columns={'elevation': 'azimuth', 'azimuth': 'elevation'})\n",
    "\n",
    "# change to radians\n",
    "df['azimuth'] = df['azimuth'] * 2 * np.pi / 360\n",
    "df['elevation'] = df['elevation'] * 2 * np.pi / 360\n",
    "\n",
    "df.head()"
   ]
  },
  {
   "cell_type": "code",
   "execution_count": 45,
   "id": "26528c3a",
   "metadata": {},
   "outputs": [
    {
     "data": {
      "text/plain": [
       "(2034, 3)"
      ]
     },
     "execution_count": 45,
     "metadata": {},
     "output_type": "execute_result"
    }
   ],
   "source": [
    "# how to find the s vector \n",
    "theta = df['elevation']\n",
    "phi = df['azimuth']\n",
    "\n",
    "S = np.array([np.cos(theta)*np.sin(phi), np.cos(theta)*np.cos(phi), np.sin(theta)]).T\n",
    "\n",
    "S.shape"
   ]
  },
  {
   "cell_type": "markdown",
   "id": "0948f915",
   "metadata": {},
   "source": [
    "In each row we have:\n",
    "\n",
    "$$\\Delta C = S . \\Delta x + \\Delta d$$\n",
    "\n",
    "therefore for a single row in the design matrix we need to solve this. we can do the s vector with the two components of the\n",
    "\n",
    "Lets make the frist row of data into a design matrix..."
   ]
  },
  {
   "cell_type": "code",
   "execution_count": 46,
   "id": "2a90eb46",
   "metadata": {},
   "outputs": [],
   "source": [
    "# Order is E1, W2, W1, S2, S1, E2 (each having 3 position and 5 POP model parameters)\n",
    "\n",
    "length = len(df)\n",
    "width = 45\n",
    "\n",
    "design_mat = np.zeros((length, width))\n",
    "\n",
    "telescopes = ['W2', 'W1', 'S2', 'S1', 'E2'] # we don't need E1 here as we define this as the zero point\n",
    "\n",
    "for i, telescope in enumerate(telescopes):\n",
    "    \n",
    "    i = 3*i\n",
    "\n",
    "    design_mat[:,i:3+i] += S *  np.where(df['tel_1'] == telescope, 1, 0).reshape(-1,1)\n",
    "    design_mat[:,i:3+i] += - S *  np.where(df['tel_2'] == telescope, 1, 0).reshape(-1,1)\n",
    "    \n",
    "POPs = ['P1B1', 'P2B1', 'P3B1', 'P4B1', 'P5B1', 'P1B2', 'P2B2', 'P3B2', 'P4B2', 'P5B2', 'P1B3', 'P2B3', 'P3B3', 'P4B3', 'P5B3', 'P1B4', 'P2B4', 'P3B4', 'P4B4', 'P5B4', 'P1B5', 'P2B5', 'P3B5', 'P4B5', 'P5B5', 'P1B6', 'P2B6', 'P3B6', 'P4B6', 'P5B6',]\n",
    "\n",
    "for i, POP in enumerate(POPs):\n",
    "\n",
    "    design_mat[:,15+i] += np.where(df['pop_1'] == POP, 1, 0)\n",
    "    design_mat[:,15+i] += -  np.where(df['pop_2'] == POP, 1, 0)"
   ]
  },
  {
   "cell_type": "code",
   "execution_count": 47,
   "id": "f2611acc",
   "metadata": {},
   "outputs": [
    {
     "data": {
      "text/plain": [
       "array([-1.19213932e+04, -3.39705459e+05, -2.27348939e+04, -1.45878452e+04,\n",
       "       -3.36611001e+05, -2.32509041e+04, -3.50134681e+03, -4.89613355e+05,\n",
       "       -3.11282468e+04, -3.01100338e+03, -5.83718899e+05, -3.62939050e+04,\n",
       "       -4.75884048e+03, -1.82508464e+05, -9.14341311e+03, -3.18368978e+05,\n",
       "       -3.81368970e-07, -3.18309199e+05, -3.18243120e+05, -3.18112021e+05,\n",
       "        5.34246531e-08,  2.77420722e-09,  3.33370997e-09, -2.56709620e-09,\n",
       "        2.21080244e+04,  1.91032358e+04,  1.91169273e+04,  1.91358055e+04,\n",
       "        3.02801760e-10,  1.90678854e+04, -2.53437699e-10,  1.72042969e+05,\n",
       "        2.77023497e-35,  1.72086003e+05,  1.72121167e+05,  2.66217950e+05,\n",
       "        0.00000000e+00,  2.66273902e+05,  2.66328524e+05,  2.66358120e+05,\n",
       "       -1.35657019e+05, -1.35683197e+05, -1.35586980e+05,  0.00000000e+00,\n",
       "        0.00000000e+00])"
      ]
     },
     "execution_count": 47,
     "metadata": {},
     "output_type": "execute_result"
    }
   ],
   "source": [
    "pinv = np.linalg.pinv(design_mat)\n",
    "\n",
    "y = df['cart_2'].values - df['cart_1'].values\n",
    "\n",
    "beta = pinv @ y\n",
    "\n",
    "beta\n",
    "# the first 15 elements are the different components of the telescope vectors RELATIVE to E1"
   ]
  },
  {
   "cell_type": "code",
   "execution_count": 48,
   "id": "035b24ba",
   "metadata": {},
   "outputs": [
    {
     "data": {
      "image/png": "[encoded data removed]",
      "text/plain": [
       "<Figure size 432x288 with 1 Axes>"
      ]
     },
     "metadata": {
      "needs_background": "light"
     },
     "output_type": "display_data"
    }
   ],
   "source": [
    "plt.plot(np.arange(length), y - design_mat @ beta)\n",
    "plt.show()"
   ]
  },
  {
   "cell_type": "code",
   "execution_count": 49,
   "id": "c57b4ddb",
   "metadata": {},
   "outputs": [],
   "source": [
    "df2 = pd.read_csv('data/2012_all_v2.csv')\n",
    "\n",
    "df2 = df2.rename(columns={'elevation': 'azimuth', 'azimuth': 'elevation'})\n",
    "\n",
    "l = []\n",
    "\n",
    "for pop in POPs:\n",
    "\n",
    "    l.append(set(df2[df2['pop_1'] == pop]['tel_1']))\n",
    "# l"
   ]
  },
  {
   "cell_type": "code",
   "execution_count": 50,
   "id": "562602bb",
   "metadata": {},
   "outputs": [],
   "source": [
    "S_vector = lambda theta, phi: np.array([np.cos(theta)*np.sin(phi), np.cos(theta)*np.cos(phi), np.sin(theta)]).T\n",
    "\n",
    "def create_design_matrix(df, telescopes, POPs):\n",
    "    '''\n",
    "    Description \n",
    "    '''\n",
    "\n",
    "    length = len(df)\n",
    "    width = 3*len(telescopes) + len(POPs)\n",
    "    design_mat = np.zeros((length, width))\n",
    "\n",
    "    theta = df['elevation']\n",
    "    phi = df['azimuth']\n",
    "    S = S_vector(theta, phi)\n",
    "    \n",
    "    for i, telescope in enumerate(telescopes):\n",
    "    \n",
    "        #i = 3*i\n",
    "\n",
    "        design_mat[:,3*i:3+3*i] += S *  np.where(df['tel_1'] == telescope, 1, 0).reshape(-1,1)\n",
    "        design_mat[:,3*i:3+3*i] += - S *  np.where(df['tel_2'] == telescope, 1, 0).reshape(-1,1)\n",
    "    \n",
    "    for j, POP in enumerate(POPs):\n",
    "\n",
    "        design_mat[:,15+j] += np.where(df['pop_1'] == POP, 1, 0)\n",
    "        design_mat[:,15+j] -= np.where(df['pop_2'] == POP, 1, 0)\n",
    "        \n",
    "    y = df['cart_2'].values - df['cart_1'].values\n",
    "        \n",
    "    return design_mat, y"
   ]
  },
  {
   "cell_type": "code",
   "execution_count": 51,
   "id": "420dd2f6",
   "metadata": {},
   "outputs": [],
   "source": [
    "S_vector = lambda theta, phi: np.array([np.cos(theta)*np.sin(phi), np.cos(theta)*np.cos(phi), np.sin(theta)]).T\n",
    "\n",
    "def create_design_matrix(df, telescopes, POPs):\n",
    "    '''\n",
    "    Description \n",
    "    '''\n",
    "\n",
    "    # ea. row must contain (x, y, z) for ea. telescope (except E1, the zero point) \n",
    "    # and all 30 POP settings for ea. telescope\n",
    "    length = len(df)\n",
    "    width = 3*(len(telescopes) - 1) + len(telescopes)*len(POPs) \n",
    "    design_mat = np.zeros((length, width))\n",
    "\n",
    "    theta = df['elevation']\n",
    "    phi = df['azimuth']\n",
    "    S = S_vector(theta, phi)\n",
    "    \n",
    "    for i, telescope in enumerate(telescopes):\n",
    "        \n",
    "    \n",
    "        # for ea. new telescope must jump 3 places for (x, y, z)\n",
    "        i -= 1\n",
    "        \n",
    "        if telescope != 'E1': # keep 'E1' as the zero point\n",
    "\n",
    "            design_mat[:,3*i:3+3*i] += S *  np.where(df['tel_1'] == telescope, 1, 0).reshape(-1,1)\n",
    "            design_mat[:,3*i:3+3*i] -= S *  np.where(df['tel_2'] == telescope, 1, 0).reshape(-1,1)\n",
    "\n",
    "        for j, POP in enumerate(POPs):\n",
    "            \n",
    "            # for ea. new POP\n",
    "            #j *= 30\n",
    "            \n",
    "            # not working because E1 isn't in the list of telescopes \n",
    "            design_mat[:,15 + 30*i + j] += np.where((df['pop_1'] == POP) & (df['tel_1'] == telescope), 1, 0) # add when it is tel_1\n",
    "            design_mat[:,15 + 30*i + j] -= np.where((df['pop_2'] == POP) & (df['tel_2'] == telescope), 1, 0) # subtract when it is the tel_2\n",
    "        \n",
    "    y = df['cart_2'].values - df['cart_1'].values\n",
    "    \n",
    "    pinv = np.linalg.pinv(design_mat)\n",
    "        \n",
    "    return design_mat, pinv, y"
   ]
  },
  {
   "cell_type": "code",
   "execution_count": 52,
   "id": "b219b9fe",
   "metadata": {},
   "outputs": [
    {
     "data": {
      "text/plain": [
       "array([-2.84363799e+00, -1.15012685e+01,  6.00600064e+00, -1.20921789e-01,\n",
       "        4.53634824e+00, -8.11425177e+00, -2.55915336e+00, -1.10608592e+01,\n",
       "        4.77246358e-01, -4.98153917e+00, -8.93927747e+00, -5.22433689e-01,\n",
       "        8.49948603e+00, -4.88687075e+00,  5.47881947e+00,  7.21027926e+00,\n",
       "        6.18857384e-01,  4.03349610e+00,  7.48656057e-01, -8.53998091e+00,\n",
       "       -1.01026395e+01,  2.14397334e+00,  2.42080698e+00,  6.02670885e-01,\n",
       "       -2.22036266e+00,  2.25322872e+01,  7.25630090e+00,  2.53129742e+00,\n",
       "        1.97909114e+01,  2.21459801e-01,  3.64287330e-03,  5.38124959e+00,\n",
       "       -1.13308017e+01, -1.32682287e+01,  3.38332385e+00, -1.00044808e+01,\n",
       "        5.42107116e+00, -9.78930703e+00, -6.10174020e-01, -6.31865646e+00,\n",
       "        3.71952470e+00, -2.31433413e-04,  5.55400963e+00,  5.29242369e+00,\n",
       "        3.65950325e+01,  6.05458890e+00, -3.93450581e-01,  2.42369550e+00,\n",
       "       -1.18024068e+00,  8.53223450e+00,  1.56106812e+00,  4.61619741e+00,\n",
       "       -2.24756587e+00,  1.36937319e+01, -5.02012185e+00,  3.65717450e+00,\n",
       "        3.14936110e+00,  7.32226660e+00,  4.11340026e-01,  5.12054274e+00,\n",
       "       -4.10058143e+01,  6.17991063e+00,  3.85712334e-01, -5.96807439e+00,\n",
       "        1.04471502e+01,  6.55018746e-01,  3.38447341e+00, -6.61018383e+00,\n",
       "       -1.58393704e+00, -7.60044384e+00,  2.68376729e+00,  7.22980503e+00,\n",
       "        3.36833389e-02, -2.87628389e+00, -6.90113597e+00,  7.23806540e+00,\n",
       "        4.29519587e+00,  5.74547646e+00,  2.99131076e+00, -4.38698923e+00,\n",
       "       -2.33665798e+00,  2.68776543e+00, -9.75268177e+00, -1.28403557e+00,\n",
       "       -1.43562662e+01, -8.57847672e+00,  1.58610293e+00,  8.00254988e+00,\n",
       "       -9.11082947e-01,  5.98982273e+00,  6.06266900e+00, -1.13254757e+01,\n",
       "       -6.28971953e+00, -6.52668098e-01, -1.56077864e+00, -6.84036767e+00,\n",
       "        2.31468097e+00, -6.63864083e+00,  1.25133549e+01, -7.83881916e+00,\n",
       "        1.36324970e+01, -1.56825779e+00,  1.49717318e+01, -6.01237049e+00,\n",
       "        5.46024722e+00,  2.52103788e+00,  1.64726962e+01, -9.85146298e-02,\n",
       "       -2.55292467e+00, -5.45984107e+00, -3.41980659e+00,  3.01903362e+00,\n",
       "        1.64599394e+00,  2.30958726e-04, -2.75639192e-01,  8.56127837e-01,\n",
       "        2.47055181e+01, -6.26342151e+00,  1.84304672e+00, -1.10589566e+01,\n",
       "       -6.63337207e+00, -1.02608285e-01, -3.64224676e-03, -4.82852082e+00,\n",
       "        7.99611464e+00, -6.38239344e+00, -1.95984118e+00, -1.59579537e+00,\n",
       "       -3.47133770e+01, -2.05596465e+00, -6.80990598e+00, -1.11273544e+01,\n",
       "        1.21484601e+00,  6.09424716e+00, -7.34695198e+00, -6.29583916e+00,\n",
       "       -5.64059592e-01, -1.44020577e+01,  8.27187288e+00,  5.84175011e+00,\n",
       "       -3.01789863e+00,  1.37103482e+00,  3.13579518e+00,  6.53108594e+00,\n",
       "        3.86656358e-01,  1.00135691e+01, -1.03688212e+01, -5.00803338e+00,\n",
       "       -6.11891640e-01, -7.59408832e-01,  5.48287032e+00, -1.02638562e+01,\n",
       "        2.83564788e+00, -9.20675829e-01, -6.60430738e+00, -1.01659465e+00,\n",
       "       -1.21942935e+00,  2.34989377e+00,  9.92407270e+00, -1.50772906e+00,\n",
       "        5.30478336e+00, -8.52737469e+00, -4.59595364e+00,  1.69395880e-01,\n",
       "        4.33994643e+00,  5.30890635e+00, -1.02807448e+01,  3.08841948e+00,\n",
       "       -1.57809733e+00, -1.28703897e+00, -1.15460789e+01,  6.02536478e+00,\n",
       "       -6.80379899e+00, -6.42878844e+00, -2.21815174e+00,  2.83230508e+00,\n",
       "       -3.49216975e+00, -1.99193449e+00, -4.12199930e-01, -4.43081556e+00,\n",
       "       -8.10798767e-07, -2.23922944e+00, -8.58205039e-01, -1.43853003e+01,\n",
       "        3.20973014e-01, -1.46661619e+01, -3.62862831e-01, -2.12737889e+00,\n",
       "       -9.01960696e+00, -1.49861015e+00, -7.22406175e+00,  6.92466227e+00,\n",
       "        1.25468196e+01,  6.77503414e-01,  5.76552538e-01, -1.45889624e-01,\n",
       "        3.13618298e+00, -1.39503360e+00, -3.50506504e-01, -2.37033996e+00,\n",
       "       -3.32997155e+00, -1.49256948e+00,  5.25640261e+00])"
      ]
     },
     "execution_count": 52,
     "metadata": {},
     "output_type": "execute_result"
    }
   ],
   "source": [
    "telescopes = ['E1', 'W2', 'W1', 'S2', 'S1', 'E2']\n",
    "POPs = ['P1B1', 'P2B1', 'P3B1', 'P4B1', 'P5B1', \n",
    "        'P1B2', 'P2B2', 'P3B2', 'P4B2', 'P5B2', \n",
    "        'P1B3', 'P2B3', 'P3B3', 'P4B3', 'P5B3', \n",
    "        'P1B4', 'P2B4', 'P3B4', 'P4B4', 'P5B4', \n",
    "        'P1B5', 'P2B5', 'P3B5', 'P4B5', 'P5B5', \n",
    "        'P1B6', 'P2B6', 'P3B6', 'P4B6', 'P5B6']\n",
    "\n",
    "df = pd.read_csv('data/2019_04_07.csv').sample(frac=0.1)\n",
    "df = df.rename(columns={'elevation': 'azimuth', 'azimuth': 'elevation'})\n",
    "\n",
    "# change to radians\n",
    "df['azimuth'] = df['azimuth'] * 2 * np.pi / 360\n",
    "df['elevation'] = df['elevation'] * 2 * np.pi / 360\n",
    "\n",
    "design_mat, pinv, y = create_design_matrix(df, telescopes, POPs)\n",
    "\n",
    "beta = pinv @ y\n",
    "\n",
    "y - design_mat @ beta"
   ]
  },
  {
   "cell_type": "code",
   "execution_count": 53,
   "id": "4a495064",
   "metadata": {},
   "outputs": [],
   "source": [
    "n_solutions = 10\n",
    "\n",
    "betas = np.empty((n_solutions,18))\n",
    "\n",
    "for i, frac in enumerate(np.linspace(0.01,0.3,n_solutions)):\n",
    "    \n",
    "    df = pd.read_csv('data/2019_04_07.csv').sample(frac=frac)\n",
    "    df = df.rename(columns={'elevation': 'azimuth', 'azimuth': 'elevation'})\n",
    "    df['azimuth'] = df['azimuth'] * 2 * np.pi / 360\n",
    "    df['elevation'] = df['elevation'] * 2 * np.pi / 360\n",
    "\n",
    "    design_mat, pinv, y = create_design_matrix(df, telescopes, POPs)\n",
    "\n",
    "    beta = pinv @ y\n",
    "    \n",
    "    betas[i] = np.concatenate((beta[:15], np.ones(3)))"
   ]
  },
  {
   "cell_type": "code",
   "execution_count": 54,
   "id": "cdfc4749",
   "metadata": {},
   "outputs": [
    {
     "data": {
      "image/png": "[encoded data removed]",
      "text/plain": [
       "<Figure size 432x288 with 1 Axes>"
      ]
     },
     "metadata": {
      "needs_background": "light"
     },
     "output_type": "display_data"
    },
    {
     "data": {
      "image/png": "[encoded data removed]",
      "text/plain": [
       "<Figure size 432x288 with 1 Axes>"
      ]
     },
     "metadata": {
      "needs_background": "light"
     },
     "output_type": "display_data"
    },
    {
     "data": {
      "image/png": "[encoded data removed]",
      "text/plain": [
       "<Figure size 432x288 with 1 Axes>"
      ]
     },
     "metadata": {
      "needs_background": "light"
     },
     "output_type": "display_data"
    },
    {
     "data": {
      "image/png": "[encoded data removed]",
      "text/plain": [
       "<Figure size 432x288 with 1 Axes>"
      ]
     },
     "metadata": {
      "needs_background": "light"
     },
     "output_type": "display_data"
    },
    {
     "data": {
      "image/png": "[encoded data removed]",
      "text/plain": [
       "<Figure size 432x288 with 1 Axes>"
      ]
     },
     "metadata": {
      "needs_background": "light"
     },
     "output_type": "display_data"
    },
    {
     "data": {
      "image/png": "[encoded data removed]",
      "text/plain": [
       "<Figure size 432x288 with 1 Axes>"
      ]
     },
     "metadata": {
      "needs_background": "light"
     },
     "output_type": "display_data"
    },
    {
     "data": {
      "image/png": "[encoded data removed]",
      "text/plain": [
       "<Figure size 432x288 with 1 Axes>"
      ]
     },
     "metadata": {
      "needs_background": "light"
     },
     "output_type": "display_data"
    },
    {
     "data": {
      "image/png": "[encoded data removed]",
      "text/plain": [
       "<Figure size 432x288 with 1 Axes>"
      ]
     },
     "metadata": {
      "needs_background": "light"
     },
     "output_type": "display_data"
    },
    {
     "data": {
      "image/png": "[encoded data removed]",
      "text/plain": [
       "<Figure size 432x288 with 1 Axes>"
      ]
     },
     "metadata": {
      "needs_background": "light"
     },
     "output_type": "display_data"
    },
    {
     "data": {
      "image/png": "[encoded data removed]",
      "text/plain": [
       "<Figure size 432x288 with 1 Axes>"
      ]
     },
     "metadata": {
      "needs_background": "light"
     },
     "output_type": "display_data"
    },
    {
     "data": {
      "image/png": "[encoded data removed]",
      "text/plain": [
       "<Figure size 432x288 with 1 Axes>"
      ]
     },
     "metadata": {
      "needs_background": "light"
     },
     "output_type": "display_data"
    },
    {
     "data": {
      "image/png": "[encoded data removed]",
      "text/plain": [
       "<Figure size 432x288 with 1 Axes>"
      ]
     },
     "metadata": {
      "needs_background": "light"
     },
     "output_type": "display_data"
    },
    {
     "data": {
      "image/png": "[encoded data removed]",
      "text/plain": [
       "<Figure size 432x288 with 1 Axes>"
      ]
     },
     "metadata": {
      "needs_background": "light"
     },
     "output_type": "display_data"
    },
    {
     "data": {
      "image/png": "[encoded data removed]",
      "text/plain": [
       "<Figure size 432x288 with 1 Axes>"
      ]
     },
     "metadata": {
      "needs_background": "light"
     },
     "output_type": "display_data"
    },
    {
     "data": {
      "image/png": "[encoded data removed]",
      "text/plain": [
       "<Figure size 432x288 with 1 Axes>"
      ]
     },
     "metadata": {
      "needs_background": "light"
     },
     "output_type": "display_data"
    },
    {
     "data": {
      "image/png": "[encoded data removed]",
      "text/plain": [
       "<Figure size 432x288 with 1 Axes>"
      ]
     },
     "metadata": {
      "needs_background": "light"
     },
     "output_type": "display_data"
    },
    {
     "data": {
      "image/png": "[encoded data removed]",
      "text/plain": [
       "<Figure size 432x288 with 1 Axes>"
      ]
     },
     "metadata": {
      "needs_background": "light"
     },
     "output_type": "display_data"
    },
    {
     "data": {
      "image/png": "[encoded data removed]",
      "text/plain": [
       "<Figure size 432x288 with 1 Axes>"
      ]
     },
     "metadata": {
      "needs_background": "light"
     },
     "output_type": "display_data"
    },
    {
     "data": {
      "image/png": "[encoded data removed]",
      "text/plain": [
       "<Figure size 432x288 with 1 Axes>"
      ]
     },
     "metadata": {
      "needs_background": "light"
     },
     "output_type": "display_data"
    },
    {
     "data": {
      "image/png": "[encoded data removed]",
      "text/plain": [
       "<Figure size 432x288 with 1 Axes>"
      ]
     },
     "metadata": {
      "needs_background": "light"
     },
     "output_type": "display_data"
    },
    {
     "ename": "TypeError",
     "evalue": "'PathCollection' object is not iterable",
     "output_type": "error",
     "traceback": [
      "\u001b[0;31m---------------------------------------------------------------------------\u001b[0m",
      "\u001b[0;31mTypeError\u001b[0m                                 Traceback (most recent call last)",
      "\u001b[0;32m/var/folders/yr/nz2d8_8n42g11zxgd7yjxhq40000gn/T/ipykernel_18416/264417771.py\u001b[0m in \u001b[0;36m<module>\u001b[0;34m\u001b[0m\n\u001b[1;32m     30\u001b[0m \u001b[0;34m\u001b[0m\u001b[0m\n\u001b[1;32m     31\u001b[0m \u001b[0;31m# Create the animation\u001b[0m\u001b[0;34m\u001b[0m\u001b[0;34m\u001b[0m\u001b[0;34m\u001b[0m\u001b[0m\n\u001b[0;32m---> 32\u001b[0;31m im_ani = animation.ArtistAnimation(fig, ims, interval=700,\n\u001b[0m\u001b[1;32m     33\u001b[0m repeat_delay=1000, blit=True)\n\u001b[1;32m     34\u001b[0m \u001b[0;34m\u001b[0m\u001b[0m\n",
      "\u001b[0;32m/usr/local/lib/python3.9/site-packages/matplotlib/animation.py\u001b[0m in \u001b[0;36m__init__\u001b[0;34m(self, fig, artists, *args, **kwargs)\u001b[0m\n\u001b[1;32m   1524\u001b[0m         \u001b[0;31m# over by the machinery.\u001b[0m\u001b[0;34m\u001b[0m\u001b[0;34m\u001b[0m\u001b[0;34m\u001b[0m\u001b[0m\n\u001b[1;32m   1525\u001b[0m         \u001b[0mself\u001b[0m\u001b[0;34m.\u001b[0m\u001b[0m_framedata\u001b[0m \u001b[0;34m=\u001b[0m \u001b[0martists\u001b[0m\u001b[0;34m\u001b[0m\u001b[0;34m\u001b[0m\u001b[0m\n\u001b[0;32m-> 1526\u001b[0;31m         \u001b[0msuper\u001b[0m\u001b[0;34m(\u001b[0m\u001b[0;34m)\u001b[0m\u001b[0;34m.\u001b[0m\u001b[0m__init__\u001b[0m\u001b[0;34m(\u001b[0m\u001b[0mfig\u001b[0m\u001b[0;34m,\u001b[0m \u001b[0;34m*\u001b[0m\u001b[0margs\u001b[0m\u001b[0;34m,\u001b[0m \u001b[0;34m**\u001b[0m\u001b[0mkwargs\u001b[0m\u001b[0;34m)\u001b[0m\u001b[0;34m\u001b[0m\u001b[0;34m\u001b[0m\u001b[0m\n\u001b[0m\u001b[1;32m   1527\u001b[0m \u001b[0;34m\u001b[0m\u001b[0m\n\u001b[1;32m   1528\u001b[0m     \u001b[0;32mdef\u001b[0m \u001b[0m_init_draw\u001b[0m\u001b[0;34m(\u001b[0m\u001b[0mself\u001b[0m\u001b[0;34m)\u001b[0m\u001b[0;34m:\u001b[0m\u001b[0;34m\u001b[0m\u001b[0;34m\u001b[0m\u001b[0m\n",
      "\u001b[0;32m/usr/local/lib/python3.9/site-packages/matplotlib/animation.py\u001b[0m in \u001b[0;36m__init__\u001b[0;34m(self, fig, interval, repeat_delay, repeat, event_source, *args, **kwargs)\u001b[0m\n\u001b[1;32m   1465\u001b[0m         \u001b[0;32mif\u001b[0m \u001b[0mevent_source\u001b[0m \u001b[0;32mis\u001b[0m \u001b[0;32mNone\u001b[0m\u001b[0;34m:\u001b[0m\u001b[0;34m\u001b[0m\u001b[0;34m\u001b[0m\u001b[0m\n\u001b[1;32m   1466\u001b[0m             \u001b[0mevent_source\u001b[0m \u001b[0;34m=\u001b[0m \u001b[0mfig\u001b[0m\u001b[0;34m.\u001b[0m\u001b[0mcanvas\u001b[0m\u001b[0;34m.\u001b[0m\u001b[0mnew_timer\u001b[0m\u001b[0;34m(\u001b[0m\u001b[0minterval\u001b[0m\u001b[0;34m=\u001b[0m\u001b[0mself\u001b[0m\u001b[0;34m.\u001b[0m\u001b[0m_interval\u001b[0m\u001b[0;34m)\u001b[0m\u001b[0;34m\u001b[0m\u001b[0;34m\u001b[0m\u001b[0m\n\u001b[0;32m-> 1467\u001b[0;31m         \u001b[0msuper\u001b[0m\u001b[0;34m(\u001b[0m\u001b[0;34m)\u001b[0m\u001b[0;34m.\u001b[0m\u001b[0m__init__\u001b[0m\u001b[0;34m(\u001b[0m\u001b[0mfig\u001b[0m\u001b[0;34m,\u001b[0m \u001b[0mevent_source\u001b[0m\u001b[0;34m=\u001b[0m\u001b[0mevent_source\u001b[0m\u001b[0;34m,\u001b[0m \u001b[0;34m*\u001b[0m\u001b[0margs\u001b[0m\u001b[0;34m,\u001b[0m \u001b[0;34m**\u001b[0m\u001b[0mkwargs\u001b[0m\u001b[0;34m)\u001b[0m\u001b[0;34m\u001b[0m\u001b[0;34m\u001b[0m\u001b[0m\n\u001b[0m\u001b[1;32m   1468\u001b[0m \u001b[0;34m\u001b[0m\u001b[0m\n\u001b[1;32m   1469\u001b[0m     \u001b[0;32mdef\u001b[0m \u001b[0m_step\u001b[0m\u001b[0;34m(\u001b[0m\u001b[0mself\u001b[0m\u001b[0;34m,\u001b[0m \u001b[0;34m*\u001b[0m\u001b[0margs\u001b[0m\u001b[0;34m)\u001b[0m\u001b[0;34m:\u001b[0m\u001b[0;34m\u001b[0m\u001b[0;34m\u001b[0m\u001b[0m\n",
      "\u001b[0;32m/usr/local/lib/python3.9/site-packages/matplotlib/animation.py\u001b[0m in \u001b[0;36m__init__\u001b[0;34m(self, fig, event_source, blit)\u001b[0m\n\u001b[1;32m    967\u001b[0m                                                       self._stop)\n\u001b[1;32m    968\u001b[0m         \u001b[0;32mif\u001b[0m \u001b[0mself\u001b[0m\u001b[0;34m.\u001b[0m\u001b[0m_blit\u001b[0m\u001b[0;34m:\u001b[0m\u001b[0;34m\u001b[0m\u001b[0;34m\u001b[0m\u001b[0m\n\u001b[0;32m--> 969\u001b[0;31m             \u001b[0mself\u001b[0m\u001b[0;34m.\u001b[0m\u001b[0m_setup_blit\u001b[0m\u001b[0;34m(\u001b[0m\u001b[0;34m)\u001b[0m\u001b[0;34m\u001b[0m\u001b[0;34m\u001b[0m\u001b[0m\n\u001b[0m\u001b[1;32m    970\u001b[0m \u001b[0;34m\u001b[0m\u001b[0m\n\u001b[1;32m    971\u001b[0m     \u001b[0;32mdef\u001b[0m \u001b[0m__del__\u001b[0m\u001b[0;34m(\u001b[0m\u001b[0mself\u001b[0m\u001b[0;34m)\u001b[0m\u001b[0;34m:\u001b[0m\u001b[0;34m\u001b[0m\u001b[0;34m\u001b[0m\u001b[0m\n",
      "\u001b[0;32m/usr/local/lib/python3.9/site-packages/matplotlib/animation.py\u001b[0m in \u001b[0;36m_setup_blit\u001b[0;34m(self)\u001b[0m\n\u001b[1;32m   1279\u001b[0m         self._resize_id = self._fig.canvas.mpl_connect('resize_event',\n\u001b[1;32m   1280\u001b[0m                                                        self._on_resize)\n\u001b[0;32m-> 1281\u001b[0;31m         \u001b[0mself\u001b[0m\u001b[0;34m.\u001b[0m\u001b[0m_post_draw\u001b[0m\u001b[0;34m(\u001b[0m\u001b[0;32mNone\u001b[0m\u001b[0;34m,\u001b[0m \u001b[0mself\u001b[0m\u001b[0;34m.\u001b[0m\u001b[0m_blit\u001b[0m\u001b[0;34m)\u001b[0m\u001b[0;34m\u001b[0m\u001b[0;34m\u001b[0m\u001b[0m\n\u001b[0m\u001b[1;32m   1282\u001b[0m \u001b[0;34m\u001b[0m\u001b[0m\n\u001b[1;32m   1283\u001b[0m     \u001b[0;32mdef\u001b[0m \u001b[0m_on_resize\u001b[0m\u001b[0;34m(\u001b[0m\u001b[0mself\u001b[0m\u001b[0;34m,\u001b[0m \u001b[0mevent\u001b[0m\u001b[0;34m)\u001b[0m\u001b[0;34m:\u001b[0m\u001b[0;34m\u001b[0m\u001b[0;34m\u001b[0m\u001b[0m\n",
      "\u001b[0;32m/usr/local/lib/python3.9/site-packages/matplotlib/animation.py\u001b[0m in \u001b[0;36m_post_draw\u001b[0;34m(self, framedata, blit)\u001b[0m\n\u001b[1;32m   1232\u001b[0m             \u001b[0mself\u001b[0m\u001b[0;34m.\u001b[0m\u001b[0m_blit_draw\u001b[0m\u001b[0;34m(\u001b[0m\u001b[0mself\u001b[0m\u001b[0;34m.\u001b[0m\u001b[0m_drawn_artists\u001b[0m\u001b[0;34m)\u001b[0m\u001b[0;34m\u001b[0m\u001b[0;34m\u001b[0m\u001b[0m\n\u001b[1;32m   1233\u001b[0m         \u001b[0;32melse\u001b[0m\u001b[0;34m:\u001b[0m\u001b[0;34m\u001b[0m\u001b[0;34m\u001b[0m\u001b[0m\n\u001b[0;32m-> 1234\u001b[0;31m             \u001b[0mself\u001b[0m\u001b[0;34m.\u001b[0m\u001b[0m_fig\u001b[0m\u001b[0;34m.\u001b[0m\u001b[0mcanvas\u001b[0m\u001b[0;34m.\u001b[0m\u001b[0mdraw_idle\u001b[0m\u001b[0;34m(\u001b[0m\u001b[0;34m)\u001b[0m\u001b[0;34m\u001b[0m\u001b[0;34m\u001b[0m\u001b[0m\n\u001b[0m\u001b[1;32m   1235\u001b[0m \u001b[0;34m\u001b[0m\u001b[0m\n\u001b[1;32m   1236\u001b[0m     \u001b[0;31m# The rest of the code in this class is to facilitate easy blitting\u001b[0m\u001b[0;34m\u001b[0m\u001b[0;34m\u001b[0m\u001b[0;34m\u001b[0m\u001b[0m\n",
      "\u001b[0;32m/usr/local/lib/python3.9/site-packages/matplotlib/backend_bases.py\u001b[0m in \u001b[0;36mdraw_idle\u001b[0;34m(self, *args, **kwargs)\u001b[0m\n\u001b[1;32m   2053\u001b[0m         \u001b[0;32mif\u001b[0m \u001b[0;32mnot\u001b[0m \u001b[0mself\u001b[0m\u001b[0;34m.\u001b[0m\u001b[0m_is_idle_drawing\u001b[0m\u001b[0;34m:\u001b[0m\u001b[0;34m\u001b[0m\u001b[0;34m\u001b[0m\u001b[0m\n\u001b[1;32m   2054\u001b[0m             \u001b[0;32mwith\u001b[0m \u001b[0mself\u001b[0m\u001b[0;34m.\u001b[0m\u001b[0m_idle_draw_cntx\u001b[0m\u001b[0;34m(\u001b[0m\u001b[0;34m)\u001b[0m\u001b[0;34m:\u001b[0m\u001b[0;34m\u001b[0m\u001b[0;34m\u001b[0m\u001b[0m\n\u001b[0;32m-> 2055\u001b[0;31m                 \u001b[0mself\u001b[0m\u001b[0;34m.\u001b[0m\u001b[0mdraw\u001b[0m\u001b[0;34m(\u001b[0m\u001b[0;34m*\u001b[0m\u001b[0margs\u001b[0m\u001b[0;34m,\u001b[0m \u001b[0;34m**\u001b[0m\u001b[0mkwargs\u001b[0m\u001b[0;34m)\u001b[0m\u001b[0;34m\u001b[0m\u001b[0;34m\u001b[0m\u001b[0m\n\u001b[0m\u001b[1;32m   2056\u001b[0m \u001b[0;34m\u001b[0m\u001b[0m\n\u001b[1;32m   2057\u001b[0m     \u001b[0;32mdef\u001b[0m \u001b[0mget_width_height\u001b[0m\u001b[0;34m(\u001b[0m\u001b[0mself\u001b[0m\u001b[0;34m)\u001b[0m\u001b[0;34m:\u001b[0m\u001b[0;34m\u001b[0m\u001b[0;34m\u001b[0m\u001b[0m\n",
      "\u001b[0;32m/usr/local/lib/python3.9/site-packages/matplotlib/backends/backend_agg.py\u001b[0m in \u001b[0;36mdraw\u001b[0;34m(self)\u001b[0m\n\u001b[1;32m    404\u001b[0m              (self.toolbar._wait_cursor_for_draw_cm() if self.toolbar\n\u001b[1;32m    405\u001b[0m               else nullcontext()):\n\u001b[0;32m--> 406\u001b[0;31m             \u001b[0mself\u001b[0m\u001b[0;34m.\u001b[0m\u001b[0mfigure\u001b[0m\u001b[0;34m.\u001b[0m\u001b[0mdraw\u001b[0m\u001b[0;34m(\u001b[0m\u001b[0mself\u001b[0m\u001b[0;34m.\u001b[0m\u001b[0mrenderer\u001b[0m\u001b[0;34m)\u001b[0m\u001b[0;34m\u001b[0m\u001b[0;34m\u001b[0m\u001b[0m\n\u001b[0m\u001b[1;32m    407\u001b[0m             \u001b[0;31m# A GUI class may be need to update a window using this draw, so\u001b[0m\u001b[0;34m\u001b[0m\u001b[0;34m\u001b[0m\u001b[0;34m\u001b[0m\u001b[0m\n\u001b[1;32m    408\u001b[0m             \u001b[0;31m# don't forget to call the superclass.\u001b[0m\u001b[0;34m\u001b[0m\u001b[0;34m\u001b[0m\u001b[0;34m\u001b[0m\u001b[0m\n",
      "\u001b[0;32m/usr/local/lib/python3.9/site-packages/matplotlib/artist.py\u001b[0m in \u001b[0;36mdraw_wrapper\u001b[0;34m(artist, renderer, *args, **kwargs)\u001b[0m\n\u001b[1;32m     72\u001b[0m     \u001b[0;34m@\u001b[0m\u001b[0mwraps\u001b[0m\u001b[0;34m(\u001b[0m\u001b[0mdraw\u001b[0m\u001b[0;34m)\u001b[0m\u001b[0;34m\u001b[0m\u001b[0;34m\u001b[0m\u001b[0m\n\u001b[1;32m     73\u001b[0m     \u001b[0;32mdef\u001b[0m \u001b[0mdraw_wrapper\u001b[0m\u001b[0;34m(\u001b[0m\u001b[0martist\u001b[0m\u001b[0;34m,\u001b[0m \u001b[0mrenderer\u001b[0m\u001b[0;34m,\u001b[0m \u001b[0;34m*\u001b[0m\u001b[0margs\u001b[0m\u001b[0;34m,\u001b[0m \u001b[0;34m**\u001b[0m\u001b[0mkwargs\u001b[0m\u001b[0;34m)\u001b[0m\u001b[0;34m:\u001b[0m\u001b[0;34m\u001b[0m\u001b[0;34m\u001b[0m\u001b[0m\n\u001b[0;32m---> 74\u001b[0;31m         \u001b[0mresult\u001b[0m \u001b[0;34m=\u001b[0m \u001b[0mdraw\u001b[0m\u001b[0;34m(\u001b[0m\u001b[0martist\u001b[0m\u001b[0;34m,\u001b[0m \u001b[0mrenderer\u001b[0m\u001b[0;34m,\u001b[0m \u001b[0;34m*\u001b[0m\u001b[0margs\u001b[0m\u001b[0;34m,\u001b[0m \u001b[0;34m**\u001b[0m\u001b[0mkwargs\u001b[0m\u001b[0;34m)\u001b[0m\u001b[0;34m\u001b[0m\u001b[0;34m\u001b[0m\u001b[0m\n\u001b[0m\u001b[1;32m     75\u001b[0m         \u001b[0;32mif\u001b[0m \u001b[0mrenderer\u001b[0m\u001b[0;34m.\u001b[0m\u001b[0m_rasterizing\u001b[0m\u001b[0;34m:\u001b[0m\u001b[0;34m\u001b[0m\u001b[0;34m\u001b[0m\u001b[0m\n\u001b[1;32m     76\u001b[0m             \u001b[0mrenderer\u001b[0m\u001b[0;34m.\u001b[0m\u001b[0mstop_rasterizing\u001b[0m\u001b[0;34m(\u001b[0m\u001b[0;34m)\u001b[0m\u001b[0;34m\u001b[0m\u001b[0;34m\u001b[0m\u001b[0m\n",
      "\u001b[0;32m/usr/local/lib/python3.9/site-packages/matplotlib/artist.py\u001b[0m in \u001b[0;36mdraw_wrapper\u001b[0;34m(artist, renderer, *args, **kwargs)\u001b[0m\n\u001b[1;32m     49\u001b[0m                 \u001b[0mrenderer\u001b[0m\u001b[0;34m.\u001b[0m\u001b[0mstart_filter\u001b[0m\u001b[0;34m(\u001b[0m\u001b[0;34m)\u001b[0m\u001b[0;34m\u001b[0m\u001b[0;34m\u001b[0m\u001b[0m\n\u001b[1;32m     50\u001b[0m \u001b[0;34m\u001b[0m\u001b[0m\n\u001b[0;32m---> 51\u001b[0;31m             \u001b[0;32mreturn\u001b[0m \u001b[0mdraw\u001b[0m\u001b[0;34m(\u001b[0m\u001b[0martist\u001b[0m\u001b[0;34m,\u001b[0m \u001b[0mrenderer\u001b[0m\u001b[0;34m,\u001b[0m \u001b[0;34m*\u001b[0m\u001b[0margs\u001b[0m\u001b[0;34m,\u001b[0m \u001b[0;34m**\u001b[0m\u001b[0mkwargs\u001b[0m\u001b[0;34m)\u001b[0m\u001b[0;34m\u001b[0m\u001b[0;34m\u001b[0m\u001b[0m\n\u001b[0m\u001b[1;32m     52\u001b[0m         \u001b[0;32mfinally\u001b[0m\u001b[0;34m:\u001b[0m\u001b[0;34m\u001b[0m\u001b[0;34m\u001b[0m\u001b[0m\n\u001b[1;32m     53\u001b[0m             \u001b[0;32mif\u001b[0m \u001b[0martist\u001b[0m\u001b[0;34m.\u001b[0m\u001b[0mget_agg_filter\u001b[0m\u001b[0;34m(\u001b[0m\u001b[0;34m)\u001b[0m \u001b[0;32mis\u001b[0m \u001b[0;32mnot\u001b[0m \u001b[0;32mNone\u001b[0m\u001b[0;34m:\u001b[0m\u001b[0;34m\u001b[0m\u001b[0;34m\u001b[0m\u001b[0m\n",
      "\u001b[0;32m/usr/local/lib/python3.9/site-packages/matplotlib/figure.py\u001b[0m in \u001b[0;36mdraw\u001b[0;34m(self, renderer)\u001b[0m\n\u001b[1;32m   2798\u001b[0m             \u001b[0mself\u001b[0m\u001b[0;34m.\u001b[0m\u001b[0mstale\u001b[0m \u001b[0;34m=\u001b[0m \u001b[0;32mFalse\u001b[0m\u001b[0;34m\u001b[0m\u001b[0;34m\u001b[0m\u001b[0m\n\u001b[1;32m   2799\u001b[0m \u001b[0;34m\u001b[0m\u001b[0m\n\u001b[0;32m-> 2800\u001b[0;31m         \u001b[0mself\u001b[0m\u001b[0;34m.\u001b[0m\u001b[0mcanvas\u001b[0m\u001b[0;34m.\u001b[0m\u001b[0mdraw_event\u001b[0m\u001b[0;34m(\u001b[0m\u001b[0mrenderer\u001b[0m\u001b[0;34m)\u001b[0m\u001b[0;34m\u001b[0m\u001b[0;34m\u001b[0m\u001b[0m\n\u001b[0m\u001b[1;32m   2801\u001b[0m \u001b[0;34m\u001b[0m\u001b[0m\n\u001b[1;32m   2802\u001b[0m     \u001b[0;32mdef\u001b[0m \u001b[0mdraw_artist\u001b[0m\u001b[0;34m(\u001b[0m\u001b[0mself\u001b[0m\u001b[0;34m,\u001b[0m \u001b[0ma\u001b[0m\u001b[0;34m)\u001b[0m\u001b[0;34m:\u001b[0m\u001b[0;34m\u001b[0m\u001b[0;34m\u001b[0m\u001b[0m\n",
      "\u001b[0;32m/usr/local/lib/python3.9/site-packages/matplotlib/backend_bases.py\u001b[0m in \u001b[0;36mdraw_event\u001b[0;34m(self, renderer)\u001b[0m\n\u001b[1;32m   1790\u001b[0m         \u001b[0ms\u001b[0m \u001b[0;34m=\u001b[0m \u001b[0;34m'draw_event'\u001b[0m\u001b[0;34m\u001b[0m\u001b[0;34m\u001b[0m\u001b[0m\n\u001b[1;32m   1791\u001b[0m         \u001b[0mevent\u001b[0m \u001b[0;34m=\u001b[0m \u001b[0mDrawEvent\u001b[0m\u001b[0;34m(\u001b[0m\u001b[0ms\u001b[0m\u001b[0;34m,\u001b[0m \u001b[0mself\u001b[0m\u001b[0;34m,\u001b[0m \u001b[0mrenderer\u001b[0m\u001b[0;34m)\u001b[0m\u001b[0;34m\u001b[0m\u001b[0;34m\u001b[0m\u001b[0m\n\u001b[0;32m-> 1792\u001b[0;31m         \u001b[0mself\u001b[0m\u001b[0;34m.\u001b[0m\u001b[0mcallbacks\u001b[0m\u001b[0;34m.\u001b[0m\u001b[0mprocess\u001b[0m\u001b[0;34m(\u001b[0m\u001b[0ms\u001b[0m\u001b[0;34m,\u001b[0m \u001b[0mevent\u001b[0m\u001b[0;34m)\u001b[0m\u001b[0;34m\u001b[0m\u001b[0;34m\u001b[0m\u001b[0m\n\u001b[0m\u001b[1;32m   1793\u001b[0m \u001b[0;34m\u001b[0m\u001b[0m\n\u001b[1;32m   1794\u001b[0m     \u001b[0;32mdef\u001b[0m \u001b[0mresize_event\u001b[0m\u001b[0;34m(\u001b[0m\u001b[0mself\u001b[0m\u001b[0;34m)\u001b[0m\u001b[0;34m:\u001b[0m\u001b[0;34m\u001b[0m\u001b[0;34m\u001b[0m\u001b[0m\n",
      "\u001b[0;32m/usr/local/lib/python3.9/site-packages/matplotlib/cbook/__init__.py\u001b[0m in \u001b[0;36mprocess\u001b[0;34m(self, s, *args, **kwargs)\u001b[0m\n\u001b[1;32m    273\u001b[0m                 \u001b[0;32mexcept\u001b[0m \u001b[0mException\u001b[0m \u001b[0;32mas\u001b[0m \u001b[0mexc\u001b[0m\u001b[0;34m:\u001b[0m\u001b[0;34m\u001b[0m\u001b[0;34m\u001b[0m\u001b[0m\n\u001b[1;32m    274\u001b[0m                     \u001b[0;32mif\u001b[0m \u001b[0mself\u001b[0m\u001b[0;34m.\u001b[0m\u001b[0mexception_handler\u001b[0m \u001b[0;32mis\u001b[0m \u001b[0;32mnot\u001b[0m \u001b[0;32mNone\u001b[0m\u001b[0;34m:\u001b[0m\u001b[0;34m\u001b[0m\u001b[0;34m\u001b[0m\u001b[0m\n\u001b[0;32m--> 275\u001b[0;31m                         \u001b[0mself\u001b[0m\u001b[0;34m.\u001b[0m\u001b[0mexception_handler\u001b[0m\u001b[0;34m(\u001b[0m\u001b[0mexc\u001b[0m\u001b[0;34m)\u001b[0m\u001b[0;34m\u001b[0m\u001b[0;34m\u001b[0m\u001b[0m\n\u001b[0m\u001b[1;32m    276\u001b[0m                     \u001b[0;32melse\u001b[0m\u001b[0;34m:\u001b[0m\u001b[0;34m\u001b[0m\u001b[0;34m\u001b[0m\u001b[0m\n\u001b[1;32m    277\u001b[0m                         \u001b[0;32mraise\u001b[0m\u001b[0;34m\u001b[0m\u001b[0;34m\u001b[0m\u001b[0m\n",
      "\u001b[0;32m/usr/local/lib/python3.9/site-packages/matplotlib/cbook/__init__.py\u001b[0m in \u001b[0;36m_exception_printer\u001b[0;34m(exc)\u001b[0m\n\u001b[1;32m     87\u001b[0m \u001b[0;32mdef\u001b[0m \u001b[0m_exception_printer\u001b[0m\u001b[0;34m(\u001b[0m\u001b[0mexc\u001b[0m\u001b[0;34m)\u001b[0m\u001b[0;34m:\u001b[0m\u001b[0;34m\u001b[0m\u001b[0;34m\u001b[0m\u001b[0m\n\u001b[1;32m     88\u001b[0m     \u001b[0;32mif\u001b[0m \u001b[0m_get_running_interactive_framework\u001b[0m\u001b[0;34m(\u001b[0m\u001b[0;34m)\u001b[0m \u001b[0;32min\u001b[0m \u001b[0;34m[\u001b[0m\u001b[0;34m\"headless\"\u001b[0m\u001b[0;34m,\u001b[0m \u001b[0;32mNone\u001b[0m\u001b[0;34m]\u001b[0m\u001b[0;34m:\u001b[0m\u001b[0;34m\u001b[0m\u001b[0;34m\u001b[0m\u001b[0m\n\u001b[0;32m---> 89\u001b[0;31m         \u001b[0;32mraise\u001b[0m \u001b[0mexc\u001b[0m\u001b[0;34m\u001b[0m\u001b[0;34m\u001b[0m\u001b[0m\n\u001b[0m\u001b[1;32m     90\u001b[0m     \u001b[0;32melse\u001b[0m\u001b[0;34m:\u001b[0m\u001b[0;34m\u001b[0m\u001b[0;34m\u001b[0m\u001b[0m\n\u001b[1;32m     91\u001b[0m         \u001b[0mtraceback\u001b[0m\u001b[0;34m.\u001b[0m\u001b[0mprint_exc\u001b[0m\u001b[0;34m(\u001b[0m\u001b[0;34m)\u001b[0m\u001b[0;34m\u001b[0m\u001b[0;34m\u001b[0m\u001b[0m\n",
      "\u001b[0;32m/usr/local/lib/python3.9/site-packages/matplotlib/cbook/__init__.py\u001b[0m in \u001b[0;36mprocess\u001b[0;34m(self, s, *args, **kwargs)\u001b[0m\n\u001b[1;32m    268\u001b[0m             \u001b[0;32mif\u001b[0m \u001b[0mfunc\u001b[0m \u001b[0;32mis\u001b[0m \u001b[0;32mnot\u001b[0m \u001b[0;32mNone\u001b[0m\u001b[0;34m:\u001b[0m\u001b[0;34m\u001b[0m\u001b[0;34m\u001b[0m\u001b[0m\n\u001b[1;32m    269\u001b[0m                 \u001b[0;32mtry\u001b[0m\u001b[0;34m:\u001b[0m\u001b[0;34m\u001b[0m\u001b[0;34m\u001b[0m\u001b[0m\n\u001b[0;32m--> 270\u001b[0;31m                     \u001b[0mfunc\u001b[0m\u001b[0;34m(\u001b[0m\u001b[0;34m*\u001b[0m\u001b[0margs\u001b[0m\u001b[0;34m,\u001b[0m \u001b[0;34m**\u001b[0m\u001b[0mkwargs\u001b[0m\u001b[0;34m)\u001b[0m\u001b[0;34m\u001b[0m\u001b[0;34m\u001b[0m\u001b[0m\n\u001b[0m\u001b[1;32m    271\u001b[0m                 \u001b[0;31m# this does not capture KeyboardInterrupt, SystemExit,\u001b[0m\u001b[0;34m\u001b[0m\u001b[0;34m\u001b[0m\u001b[0;34m\u001b[0m\u001b[0m\n\u001b[1;32m    272\u001b[0m                 \u001b[0;31m# and GeneratorExit\u001b[0m\u001b[0;34m\u001b[0m\u001b[0;34m\u001b[0m\u001b[0;34m\u001b[0m\u001b[0m\n",
      "\u001b[0;32m/usr/local/lib/python3.9/site-packages/matplotlib/animation.py\u001b[0m in \u001b[0;36m_start\u001b[0;34m(self, *args)\u001b[0m\n\u001b[1;32m    989\u001b[0m \u001b[0;34m\u001b[0m\u001b[0m\n\u001b[1;32m    990\u001b[0m         \u001b[0;31m# Now do any initial draw\u001b[0m\u001b[0;34m\u001b[0m\u001b[0;34m\u001b[0m\u001b[0;34m\u001b[0m\u001b[0m\n\u001b[0;32m--> 991\u001b[0;31m         \u001b[0mself\u001b[0m\u001b[0;34m.\u001b[0m\u001b[0m_init_draw\u001b[0m\u001b[0;34m(\u001b[0m\u001b[0;34m)\u001b[0m\u001b[0;34m\u001b[0m\u001b[0;34m\u001b[0m\u001b[0m\n\u001b[0m\u001b[1;32m    992\u001b[0m \u001b[0;34m\u001b[0m\u001b[0m\n\u001b[1;32m    993\u001b[0m         \u001b[0;31m# Add our callback for stepping the animation and\u001b[0m\u001b[0;34m\u001b[0m\u001b[0;34m\u001b[0m\u001b[0;34m\u001b[0m\u001b[0m\n",
      "\u001b[0;32m/usr/local/lib/python3.9/site-packages/matplotlib/animation.py\u001b[0m in \u001b[0;36m_init_draw\u001b[0;34m(self)\u001b[0m\n\u001b[1;32m   1531\u001b[0m         \u001b[0mfigs\u001b[0m \u001b[0;34m=\u001b[0m \u001b[0mset\u001b[0m\u001b[0;34m(\u001b[0m\u001b[0;34m)\u001b[0m\u001b[0;34m\u001b[0m\u001b[0;34m\u001b[0m\u001b[0m\n\u001b[1;32m   1532\u001b[0m         \u001b[0;32mfor\u001b[0m \u001b[0mf\u001b[0m \u001b[0;32min\u001b[0m \u001b[0mself\u001b[0m\u001b[0;34m.\u001b[0m\u001b[0mnew_frame_seq\u001b[0m\u001b[0;34m(\u001b[0m\u001b[0;34m)\u001b[0m\u001b[0;34m:\u001b[0m\u001b[0;34m\u001b[0m\u001b[0;34m\u001b[0m\u001b[0m\n\u001b[0;32m-> 1533\u001b[0;31m             \u001b[0;32mfor\u001b[0m \u001b[0martist\u001b[0m \u001b[0;32min\u001b[0m \u001b[0mf\u001b[0m\u001b[0;34m:\u001b[0m\u001b[0;34m\u001b[0m\u001b[0;34m\u001b[0m\u001b[0m\n\u001b[0m\u001b[1;32m   1534\u001b[0m                 \u001b[0martist\u001b[0m\u001b[0;34m.\u001b[0m\u001b[0mset_visible\u001b[0m\u001b[0;34m(\u001b[0m\u001b[0;32mFalse\u001b[0m\u001b[0;34m)\u001b[0m\u001b[0;34m\u001b[0m\u001b[0;34m\u001b[0m\u001b[0m\n\u001b[1;32m   1535\u001b[0m                 \u001b[0martist\u001b[0m\u001b[0;34m.\u001b[0m\u001b[0mset_animated\u001b[0m\u001b[0;34m(\u001b[0m\u001b[0mself\u001b[0m\u001b[0;34m.\u001b[0m\u001b[0m_blit\u001b[0m\u001b[0;34m)\u001b[0m\u001b[0;34m\u001b[0m\u001b[0;34m\u001b[0m\u001b[0m\n",
      "\u001b[0;31mTypeError\u001b[0m: 'PathCollection' object is not iterable"
     ]
    }
   ],
   "source": [
    "# add in ground truth points i.e. the vectors from E1 in the paper to millimetre precision\n",
    "loc_actual = np.array([\n",
    "    [0,0,0], # E1\n",
    "    [194.451, 106.618, 6.318], # W2\n",
    "    [300.442, 89.639, 4.954], # W1\n",
    "    [131.120, 272.382, -6.508], # S2\n",
    "    [125.371, 305.963, -5.865], # S1\n",
    "    [54.970, 36.246, -3.077], # E2\n",
    "])\n",
    "\n",
    "\n",
    "# fig = plt.figure()\n",
    "# ax = plt.axes(projection\n",
    "# ax.scatter3D(telescope_locs[:,0], telescope_locs[:,1], telescope_locs[:,2]);='3d')\n",
    "fig = plt.figure()\n",
    "\n",
    "# Remove the axes for aesthetics\n",
    "plt.axis('off')\n",
    "ims = []\n",
    "\n",
    "for i, beta in enumerate(betas): \n",
    "    plt.axis('off')\n",
    "    fig = plt.figure()\n",
    "    loc_predict = beta.reshape(-1,3)\n",
    "    plt.scatter(loc_actual[:,0], loc_actual[:,1], label='actual locations')\n",
    "    plt.scatter(loc_predict[:,0], loc_predict[:,1], label='predicted locations')\n",
    "    plt.legend()\n",
    "    ims.append((plt.scatter(loc_actual[:,0], loc_actual[:,1], label='actual locations')),)\n",
    "    plt.show()\n",
    "    \n",
    "# Create the animation\n",
    "im_ani = animation.ArtistAnimation(fig, ims, interval=700,\n",
    "repeat_delay=1000, blit=True)\n",
    "\n",
    "# Optional to save the animation\n",
    "im_ani.save('test.gif', writer=\"imagemagick\")"
   ]
  },
  {
   "cell_type": "code",
   "execution_count": null,
   "id": "24a66e91",
   "metadata": {},
   "outputs": [],
   "source": [
    "frames = np.stack(\n",
    "    [iio.imread(f\"{i}.jpg\") for i in range(10)],\n",
    "    axis=0\n",
    ")\n",
    "\n",
    "iio.imwrite('error_reduction.gif', frames, mode=\"I\")"
   ]
  },
  {
   "cell_type": "markdown",
   "id": "a170358a",
   "metadata": {},
   "source": [
    "### Notes \n",
    "\n",
    "- Strange as the errors for 04/07 and 11/06 seem to be find but the other two date seems to have unusually large errors... All of 2012 also has very large errors too\n",
    "- Elevation and azimuth are swapped around for all the 2019 dates"
   ]
  },
  {
   "cell_type": "markdown",
   "id": "a191a5f4",
   "metadata": {},
   "source": [
    "## 2: SVD Error\n",
    "\n",
    "- Analyse all nights for 2019 to see if there is any evidence for the telescopes moving due to seasonal effect \n",
    "- To do this need to estimate the uncertainty of the telescope position solution for EACH MONTH (?)\n",
    "\n",
    "### Two ways to estimate errors\n",
    "1. compare the solutions on two different nights in the same month and use the variation between the solutions to esitmate the solution uncertainty \n",
    "2. derive an uncertainty estimate using Singular Value Decomposition (SVD) of the design matrix to determine U, w and V.T matrixes using:\n",
    "\n",
    "$$\\sigma^2(\\theta_j) = \\sum_i \\left ( \\frac{V_{ji}}{w_i} \\right )^2 \\sigma^2_d$$\n",
    "\n",
    "You can estimate 𝜎𝑑 from the residuals in your data, assuming that 𝜒2 of the best‑fit model approximately equal to the number of degrees of freedom.\n"
   ]
  },
  {
   "cell_type": "code",
   "execution_count": null,
   "id": "88530e88",
   "metadata": {},
   "outputs": [],
   "source": [
    "# if we compare the solutions for the two different nights in April, we get:\n",
    "\n",
    "df1 = pd.read_csv('data/2019_04_07.csv')\n",
    "df2 = pd.read_csv('data/2019_04_08.csv')\n",
    "\n",
    "df1 = df1.rename(columns={'elevation': 'azimuth', 'azimuth': 'elevation'})\n",
    "df2 = df2.rename(columns={'elevation': 'azimuth', 'azimuth': 'elevation'})\n",
    "df1['azimuth'] = df1['azimuth'] * 2 * np.pi / 360\n",
    "df1['elevation'] = df1['elevation'] * 2 * np.pi / 360\n",
    "df2['azimuth'] = df2['azimuth'] * 2 * np.pi / 360\n",
    "df2['elevation'] = df2['elevation'] * 2 * np.pi / 360\n",
    "\n",
    "\n",
    "design_mat1, pinv1, y1 = create_design_matrix(df1, telescopes, POPs)\n",
    "design_mat2, pinv2, y2 = create_design_matrix(df2, telescopes, POPs)\n",
    "\n",
    "(pinv1 @ y1 - pinv2 @ y2)[:15]"
   ]
  },
  {
   "cell_type": "code",
   "execution_count": null,
   "id": "ad379a7c",
   "metadata": {},
   "outputs": [],
   "source": [
    "# if we compare the solutions for the two different nights in November, we get:\n",
    "\n",
    "df1 = pd.read_csv('data/2019_11_05.csv')\n",
    "df2 = pd.read_csv('data/2019_11_06.csv')\n",
    "\n",
    "design_mat1, pinv1, y1 = create_design_matrix(df1, telescopes, POPs)\n",
    "design_mat2, pinv2, y2 = create_design_matrix(df2, telescopes, POPs)\n",
    "\n",
    "(pinv1 @ y1 - pinv2 @ y2)[:15]"
   ]
  },
  {
   "cell_type": "markdown",
   "id": "19a922c9",
   "metadata": {},
   "source": [
    "2. derive an uncertainty estimate using Singular Value Decomposition (SVD) of the design matrix to determine U, w and V.T matrixes using:\n",
    "\n",
    "$$\\sigma^2(\\theta_j) = \\sum_i \\left ( \\frac{V_{ji}}{w_i} \\right )^2 \\sigma^2_d$$\n",
    "\n",
    "Where $U, w, V$ come from the SVD. \n",
    "\n",
    "$\\sigma_d$ is the RMS error on the delay measurements, assumed to be the same for all measurements in a given fit. It can be found from the residuals in the data using a $\\chi^2$ distribution.\n",
    "\n",
    "$$\\chi^2 = \\sum_i \\frac{(\\text{Expected}_i - \\text{Observed}_i)^2}{\\text{Expected}_i}$$\n",
    "\n",
    "It is easy to see that the numerator is the residuals squared.\n",
    "\n",
    "We assume that $\\chi^2$ of the best-fit model is approximately equal to the number of degrees of freedom\n",
    " "
   ]
  },
  {
   "cell_type": "code",
   "execution_count": 55,
   "id": "91d49f8f",
   "metadata": {},
   "outputs": [],
   "source": [
    "residuals = y1 - design_mat1 @ (pinv1 @ y1)\n",
    "\n",
    "chi_sq = np.sum(residuals**2/y1)\n",
    "\n",
    "# chi-squared of the best-fit model \n",
    "sigma_d = np.sqrt(chi_sq)"
   ]
  },
  {
   "cell_type": "code",
   "execution_count": 56,
   "id": "eaba143d",
   "metadata": {},
   "outputs": [],
   "source": [
    "U, w, Vt = np.linalg.svd(design_mat1)"
   ]
  },
  {
   "cell_type": "code",
   "execution_count": 57,
   "id": "7aef2e29",
   "metadata": {},
   "outputs": [
    {
     "data": {
      "text/plain": [
       "numpy.float64"
      ]
     },
     "execution_count": 57,
     "metadata": {},
     "output_type": "execute_result"
    }
   ],
   "source": [
    "# for very small values of w_i we just say that 1/w_i = 0\n",
    "# small is N * eps times the maximum singular value, N is the number of data points and eps is the machine precision \n",
    "# we see that we are using numpy.float64\n",
    "type(w[0])"
   ]
  },
  {
   "cell_type": "code",
   "execution_count": 58,
   "id": "3ed8d6e8",
   "metadata": {},
   "outputs": [
    {
     "data": {
      "text/plain": [
       "7.969409602041118e-11"
      ]
     },
     "execution_count": 58,
     "metadata": {},
     "output_type": "execute_result"
    }
   ],
   "source": [
    "# we can find the epsilon of this via \n",
    "eps = np.finfo(float).eps\n",
    "N = len(df1)\n",
    "\n",
    "# w is given as a vector in ascending order\n",
    "small = w[0] * N * eps\n",
    "small"
   ]
  },
  {
   "cell_type": "code",
   "execution_count": 61,
   "id": "debd01b5",
   "metadata": {},
   "outputs": [
    {
     "data": {
      "text/plain": [
       "array([6.85597519e+01, 6.04559935e+01, 5.63761351e+01, 3.51114311e+01,\n",
       "       2.85376318e+01, 2.64680447e+01, 2.60877414e+01, 2.48027585e+01,\n",
       "       2.22489411e+01, 2.07476615e+01, 2.00024322e+01, 1.94590392e+01,\n",
       "       1.80683232e+01, 1.72366995e+01, 1.62595622e+01, 1.52382692e+01,\n",
       "       1.29953697e+01, 1.21090057e+01, 1.17792026e+01, 1.05468118e+01,\n",
       "       1.51186503e+00, 1.14675815e+00, 1.00248782e+00, 5.00818356e-01,\n",
       "       2.06486439e-01, 1.97988705e-01, 1.85283981e-01, 8.42334225e-02,\n",
       "       1.09269717e-02, 4.60320709e-03, 2.67227013e-03, 2.48535945e-03,\n",
       "       3.04466460e-14, 1.10284255e-14, 6.49724976e-15, 6.49724976e-15,\n",
       "       6.49724976e-15, 6.49724976e-15, 6.49724976e-15, 6.49724976e-15,\n",
       "       6.49724976e-15, 6.49724976e-15, 6.49724976e-15, 6.49724976e-15,\n",
       "       6.49724976e-15, 6.49724976e-15, 6.49724976e-15, 6.49724976e-15,\n",
       "       6.49724976e-15, 6.49724976e-15, 6.49724976e-15, 6.49724976e-15,\n",
       "       6.49724976e-15, 6.49724976e-15, 6.49724976e-15, 6.49724976e-15,\n",
       "       6.49724976e-15, 6.49724976e-15, 6.49724976e-15, 6.49724976e-15,\n",
       "       6.49724976e-15, 6.49724976e-15, 6.49724976e-15, 6.49724976e-15,\n",
       "       6.49724976e-15, 6.49724976e-15, 6.49724976e-15, 6.49724976e-15,\n",
       "       6.49724976e-15, 6.49724976e-15, 6.49724976e-15, 6.49724976e-15,\n",
       "       6.49724976e-15, 6.49724976e-15, 6.49724976e-15, 6.49724976e-15,\n",
       "       6.49724976e-15, 6.49724976e-15, 6.49724976e-15, 6.49724976e-15,\n",
       "       6.49724976e-15, 6.49724976e-15, 6.49724976e-15, 6.49724976e-15,\n",
       "       6.49724976e-15, 6.49724976e-15, 6.49724976e-15, 6.49724976e-15,\n",
       "       6.49724976e-15, 6.49724976e-15, 6.49724976e-15, 6.49724976e-15,\n",
       "       6.49724976e-15, 6.49724976e-15, 6.49724976e-15, 6.49724976e-15,\n",
       "       6.49724976e-15, 6.49724976e-15, 6.49724976e-15, 6.49724976e-15,\n",
       "       6.49724976e-15, 6.49724976e-15, 6.49724976e-15, 6.49724976e-15,\n",
       "       6.49724976e-15, 6.49724976e-15, 6.49724976e-15, 6.49724976e-15,\n",
       "       6.49724976e-15, 6.49724976e-15, 6.49724976e-15, 6.49724976e-15,\n",
       "       6.49724976e-15, 6.49724976e-15, 6.49724976e-15, 6.49724976e-15,\n",
       "       6.49724976e-15, 6.49724976e-15, 6.49724976e-15, 6.49724976e-15,\n",
       "       6.49724976e-15, 6.49724976e-15, 6.49724976e-15, 6.49724976e-15,\n",
       "       6.49724976e-15, 6.49724976e-15, 6.49724976e-15, 6.49724976e-15,\n",
       "       6.49724976e-15, 6.49724976e-15, 6.49724976e-15, 6.49724976e-15,\n",
       "       6.49724976e-15, 6.49724976e-15, 6.49724976e-15, 6.49724976e-15,\n",
       "       6.49724976e-15, 6.49724976e-15, 6.49724976e-15, 6.49724976e-15,\n",
       "       6.49724976e-15, 6.49724976e-15, 6.49724976e-15, 6.49724976e-15,\n",
       "       6.49724976e-15, 6.49724976e-15, 6.49724976e-15, 6.49724976e-15,\n",
       "       6.49724976e-15, 6.49724976e-15, 6.49724976e-15, 6.49724976e-15,\n",
       "       6.49724976e-15, 6.49724976e-15, 6.49724976e-15, 6.49724976e-15,\n",
       "       6.49724976e-15, 6.49724976e-15, 6.49724976e-15, 6.49724976e-15,\n",
       "       6.49724976e-15, 6.49724976e-15, 6.49724976e-15, 6.49724976e-15,\n",
       "       6.49724976e-15, 6.49724976e-15, 6.49724976e-15, 6.49724976e-15,\n",
       "       6.49724976e-15, 6.49724976e-15, 6.49724976e-15, 6.49724976e-15,\n",
       "       6.49724976e-15, 6.49724976e-15, 6.49724976e-15, 6.49724976e-15,\n",
       "       6.49724976e-15, 6.49724976e-15, 6.49724976e-15, 6.49724976e-15,\n",
       "       6.49724976e-15, 6.49724976e-15, 6.49724976e-15, 6.49724976e-15,\n",
       "       6.49724976e-15, 6.49724976e-15, 6.49724976e-15, 6.49724976e-15,\n",
       "       6.49724976e-15, 6.49724976e-15, 6.49724976e-15, 6.49724976e-15,\n",
       "       6.49724976e-15, 4.39113215e-15, 4.17217644e-15])"
      ]
     },
     "execution_count": 61,
     "metadata": {},
     "output_type": "execute_result"
    }
   ],
   "source": [
    "# therefore the only singular values that we care about are... \n",
    "\n",
    "w_sig = w[w > small]\n",
    "\n",
    "w"
   ]
  },
  {
   "cell_type": "code",
   "execution_count": 60,
   "id": "89f7abeb",
   "metadata": {},
   "outputs": [
    {
     "data": {
      "text/plain": [
       "array([8.29723142e+01, 1.11645977e+04, 3.62035916e+01, 8.09153626e+01,\n",
       "       1.18730278e+04, 3.89839391e+01, 8.77914030e+01, 4.02327791e+04,\n",
       "       1.20371332e+02, 1.24405593e+02, 3.55053867e+04, 1.06637870e+02,\n",
       "       5.75882029e-21, 5.59157749e-21, 1.45701793e-20])"
      ]
     },
     "execution_count": 60,
     "metadata": {},
     "output_type": "execute_result"
    }
   ],
   "source": [
    "np.sum((Vt.T[:,:32]/w_sig)**2, axis=1)[:15] # this seems odd... "
   ]
  },
  {
   "cell_type": "markdown",
   "id": "1a7fa8b3",
   "metadata": {},
   "source": [
    "Creating everything into a single class test code"
   ]
  },
  {
   "cell_type": "code",
   "execution_count": null,
   "id": "63ffd4c8",
   "metadata": {},
   "outputs": [],
   "source": [
    "# want to find the pop settings used for each telescope \n",
    "telescopes = [\"E1\", \"W2\", \"W1\", \"S2\", \"S1\", \"E2\"]\n",
    "pop_cols = 0\n",
    "\n",
    "tot_unique_pops = []\n",
    "pop_tels = []\n",
    "\n",
    "\n",
    "design_mat = np.zeros((len(df), 195))\n",
    "\n",
    "# populate_pop = lambda pop: design_mat[:,15 + np.where(df[\"pop_1\"] == pop)]\n",
    "\n",
    "for telescope in telescopes:\n",
    "    \n",
    "    # gives the pop values for a given telescope in tel_1 and tel_2\n",
    "    pop_tel_1 = df[df.tel_1 == telescope].pop_1\n",
    "    pop_tel_2 = df[df.tel_2 == telescope].pop_2\n",
    "    pop_tels.append((pop_tel_1, pop_tel_2))\n",
    "\n",
    "    # Then find the unique number of pops for given telescope\n",
    "    tel_1_unique_pops = np.unique(pop_tel_2)\n",
    "    tel_2_unique_pops = np.unique(pop_tel_1)\n",
    "    tel_unique_pops = np.union1d(tel_1_unique_pops, tel_2_unique_pops)\n",
    "    tot_unique_pops.append(tel_unique_pops)\n",
    "\n",
    "    pop_cols += len(unique_pop)\n",
    "    \n",
    "# now need to create design matrix with correct number of cols i.e shave off the edges\n",
    "\n",
    "\n",
    "tot_unique_pops\n",
    "# now need to populate the design matrix, could use pop_tel_x from earlier?\n",
    "\n",
    "def init_design_mat(df, telescopes, POPs):\n",
    "    \"\"\"\n",
    "    Initialise design matrix of correct size\n",
    "\n",
    "            Parameters:\n",
    "                    df (pandas.DataFrame): DataFrame containing given data\n",
    "\n",
    "            Returns:\n",
    "                    design_mat (np.array): m x n design matrix for m measurements and n model parameters\n",
    "    \"\"\"\n",
    "    \n",
    "    length = len(df)\n",
    "    width = 3 * (len(telescopes) - 1) + len(telescopes) * len(POPs)\n",
    "    design_mat = np.zeros((length, width))\n",
    "    \n",
    "    return design_mat  \n",
    "\n",
    "# want to find the number of unique pop tel combinations for a given night\n",
    "class DesignMat:\n",
    "    \n",
    "    def __init__(self, df):\n",
    "        # a way of cleverly finding the width \n",
    "        self.width = 10\n",
    "        self.length = len(df)\n",
    "        self.design_mat = np.zeros((self.width, self.length))\n",
    "        \n",
    "        \n",
    "        # function to find the telescopes and add them in \n",
    "        \n",
    "        # function to find the pop and add them in \n",
    "        \n",
    "        # function to find the errors"
   ]
  },
  {
   "cell_type": "code",
   "execution_count": 66,
   "id": "81b5dd32",
   "metadata": {},
   "outputs": [
    {
     "data": {
      "text/plain": [
       "array([3.25      , 1.58333333])"
      ]
     },
     "execution_count": 66,
     "metadata": {},
     "output_type": "execute_result"
    }
   ],
   "source": [
    "mat = np.array([\n",
    "    [1,1],\n",
    "    [3,-1],\n",
    "    [-1,1]\n",
    "])\n",
    "\n",
    "pinv = np.linalg.pinv(mat)\n",
    "\n",
    "y = np.array([3,10,2])\n",
    "\n",
    "pinv @ y"
   ]
  },
  {
   "cell_type": "code",
   "execution_count": 89,
   "id": "eb563fed",
   "metadata": {},
   "outputs": [
    {
     "ename": "ValueError",
     "evalue": "operands could not be broadcast together with shapes (2,) (2,50,50) ",
     "output_type": "error",
     "traceback": [
      "\u001b[0;31m---------------------------------------------------------------------------\u001b[0m",
      "\u001b[0;31mValueError\u001b[0m                                Traceback (most recent call last)",
      "\u001b[0;32m/var/folders/yr/nz2d8_8n42g11zxgd7yjxhq40000gn/T/ipykernel_18416/2505972517.py\u001b[0m in \u001b[0;36m<module>\u001b[0;34m\u001b[0m\n\u001b[1;32m     17\u001b[0m \u001b[0mlse\u001b[0m \u001b[0;34m=\u001b[0m \u001b[0;32mlambda\u001b[0m \u001b[0mx\u001b[0m\u001b[0;34m,\u001b[0m\u001b[0my\u001b[0m\u001b[0;34m:\u001b[0m \u001b[0mnp\u001b[0m\u001b[0;34m.\u001b[0m\u001b[0msum\u001b[0m\u001b[0;34m(\u001b[0m\u001b[0mnp\u001b[0m\u001b[0;34m.\u001b[0m\u001b[0marray\u001b[0m\u001b[0;34m(\u001b[0m\u001b[0;34m[\u001b[0m\u001b[0msolution\u001b[0m \u001b[0;34m-\u001b[0m \u001b[0;34m(\u001b[0m\u001b[0mx\u001b[0m\u001b[0;34m,\u001b[0m \u001b[0my\u001b[0m\u001b[0;34m)\u001b[0m \u001b[0;32mfor\u001b[0m \u001b[0msolution\u001b[0m \u001b[0;32min\u001b[0m \u001b[0msolutions\u001b[0m\u001b[0;34m]\u001b[0m\u001b[0;34m)\u001b[0m\u001b[0;34m**\u001b[0m\u001b[0;36m2\u001b[0m\u001b[0;34m)\u001b[0m\u001b[0;34m\u001b[0m\u001b[0;34m\u001b[0m\u001b[0m\n\u001b[1;32m     18\u001b[0m \u001b[0;34m\u001b[0m\u001b[0m\n\u001b[0;32m---> 19\u001b[0;31m \u001b[0mlse\u001b[0m\u001b[0;34m(\u001b[0m\u001b[0mX\u001b[0m\u001b[0;34m,\u001b[0m \u001b[0mY\u001b[0m\u001b[0;34m)\u001b[0m\u001b[0;34m\u001b[0m\u001b[0;34m\u001b[0m\u001b[0m\n\u001b[0m\u001b[1;32m     20\u001b[0m \u001b[0;31m# for solution in solutions:\u001b[0m\u001b[0;34m\u001b[0m\u001b[0;34m\u001b[0m\u001b[0;34m\u001b[0m\u001b[0m\n\u001b[1;32m     21\u001b[0m \u001b[0;31m#     import pdb; pdb.set_trace()\u001b[0m\u001b[0;34m\u001b[0m\u001b[0;34m\u001b[0m\u001b[0;34m\u001b[0m\u001b[0m\n",
      "\u001b[0;32m/var/folders/yr/nz2d8_8n42g11zxgd7yjxhq40000gn/T/ipykernel_18416/2505972517.py\u001b[0m in \u001b[0;36m<lambda>\u001b[0;34m(x, y)\u001b[0m\n\u001b[1;32m     15\u001b[0m \u001b[0;34m\u001b[0m\u001b[0m\n\u001b[1;32m     16\u001b[0m \u001b[0;34m\u001b[0m\u001b[0m\n\u001b[0;32m---> 17\u001b[0;31m \u001b[0mlse\u001b[0m \u001b[0;34m=\u001b[0m \u001b[0;32mlambda\u001b[0m \u001b[0mx\u001b[0m\u001b[0;34m,\u001b[0m\u001b[0my\u001b[0m\u001b[0;34m:\u001b[0m \u001b[0mnp\u001b[0m\u001b[0;34m.\u001b[0m\u001b[0msum\u001b[0m\u001b[0;34m(\u001b[0m\u001b[0mnp\u001b[0m\u001b[0;34m.\u001b[0m\u001b[0marray\u001b[0m\u001b[0;34m(\u001b[0m\u001b[0;34m[\u001b[0m\u001b[0msolution\u001b[0m \u001b[0;34m-\u001b[0m \u001b[0;34m(\u001b[0m\u001b[0mx\u001b[0m\u001b[0;34m,\u001b[0m \u001b[0my\u001b[0m\u001b[0;34m)\u001b[0m \u001b[0;32mfor\u001b[0m \u001b[0msolution\u001b[0m \u001b[0;32min\u001b[0m \u001b[0msolutions\u001b[0m\u001b[0;34m]\u001b[0m\u001b[0;34m)\u001b[0m\u001b[0;34m**\u001b[0m\u001b[0;36m2\u001b[0m\u001b[0;34m)\u001b[0m\u001b[0;34m\u001b[0m\u001b[0;34m\u001b[0m\u001b[0m\n\u001b[0m\u001b[1;32m     18\u001b[0m \u001b[0;34m\u001b[0m\u001b[0m\n\u001b[1;32m     19\u001b[0m \u001b[0mlse\u001b[0m\u001b[0;34m(\u001b[0m\u001b[0mX\u001b[0m\u001b[0;34m,\u001b[0m \u001b[0mY\u001b[0m\u001b[0;34m)\u001b[0m\u001b[0;34m\u001b[0m\u001b[0;34m\u001b[0m\u001b[0m\n",
      "\u001b[0;32m/var/folders/yr/nz2d8_8n42g11zxgd7yjxhq40000gn/T/ipykernel_18416/2505972517.py\u001b[0m in \u001b[0;36m<listcomp>\u001b[0;34m(.0)\u001b[0m\n\u001b[1;32m     15\u001b[0m \u001b[0;34m\u001b[0m\u001b[0m\n\u001b[1;32m     16\u001b[0m \u001b[0;34m\u001b[0m\u001b[0m\n\u001b[0;32m---> 17\u001b[0;31m \u001b[0mlse\u001b[0m \u001b[0;34m=\u001b[0m \u001b[0;32mlambda\u001b[0m \u001b[0mx\u001b[0m\u001b[0;34m,\u001b[0m\u001b[0my\u001b[0m\u001b[0;34m:\u001b[0m \u001b[0mnp\u001b[0m\u001b[0;34m.\u001b[0m\u001b[0msum\u001b[0m\u001b[0;34m(\u001b[0m\u001b[0mnp\u001b[0m\u001b[0;34m.\u001b[0m\u001b[0marray\u001b[0m\u001b[0;34m(\u001b[0m\u001b[0;34m[\u001b[0m\u001b[0msolution\u001b[0m \u001b[0;34m-\u001b[0m \u001b[0;34m(\u001b[0m\u001b[0mx\u001b[0m\u001b[0;34m,\u001b[0m \u001b[0my\u001b[0m\u001b[0;34m)\u001b[0m \u001b[0;32mfor\u001b[0m \u001b[0msolution\u001b[0m \u001b[0;32min\u001b[0m \u001b[0msolutions\u001b[0m\u001b[0;34m]\u001b[0m\u001b[0;34m)\u001b[0m\u001b[0;34m**\u001b[0m\u001b[0;36m2\u001b[0m\u001b[0;34m)\u001b[0m\u001b[0;34m\u001b[0m\u001b[0;34m\u001b[0m\u001b[0m\n\u001b[0m\u001b[1;32m     18\u001b[0m \u001b[0;34m\u001b[0m\u001b[0m\n\u001b[1;32m     19\u001b[0m \u001b[0mlse\u001b[0m\u001b[0;34m(\u001b[0m\u001b[0mX\u001b[0m\u001b[0;34m,\u001b[0m \u001b[0mY\u001b[0m\u001b[0;34m)\u001b[0m\u001b[0;34m\u001b[0m\u001b[0;34m\u001b[0m\u001b[0m\n",
      "\u001b[0;31mValueError\u001b[0m: operands could not be broadcast together with shapes (2,) (2,50,50) "
     ]
    }
   ],
   "source": [
    "solutions = np.array([\n",
    "    (0.5, 2.5),\n",
    "    (3.25, -0.25),\n",
    "    (6,8)\n",
    "])\n",
    "\n",
    "lse = 0 \n",
    "\n",
    "x = np.linspace(2.75,3.75)\n",
    "y = np.linspace(2.75,3.75)\n",
    "\n",
    "\n",
    "X, Y = np.meshgrid(x,y)\n",
    "\n",
    "\n",
    "\n",
    "np.sum(np.array([solution - () for solution in solutions])**2)\n",
    "\n",
    "# for solution in solutions:\n",
    "#     import pdb; pdb.set_trace()\n",
    "#     lse += np.sum(solution - test_point)**2\n",
    "    \n",
    "# lse"
   ]
  },
  {
   "cell_type": "markdown",
   "id": "91299267",
   "metadata": {},
   "source": [
    "### SVD and pseudoinverse\n",
    "\n",
    "- When we have the probs y = Xb if X has an inverse the problem can be solved with a single solution this is a linear system of equation \n",
    "- To have an inverse it must be square (as it must have a determinant) and have rows that are linearly independent\n",
    "- When we don't have a square matrix, as for the case in data science where matrices are often skinny we must solve for an x such that Ax is as close as possible to  i.e. b - Ax (the residuals) are minimised\n",
    "- Show an example in 2D of a two and three equation system and how some are detmernined and what overdetermined looks like and the pseudoinverse form \n",
    "\n",
    "- minimising the two norm is the same as finding the solution to ATAx = ATb\n",
    "\n",
    "- Therefore the pseudo inverse is given by (ATA)^-1 AT this is the pseudoinverse\n",
    "\n",
    "- The solution to this x+ is unique\n"
   ]
  },
  {
   "cell_type": "code",
   "execution_count": 8,
   "id": "3674c8e9",
   "metadata": {},
   "outputs": [],
   "source": [
    "import numpy as np\n",
    "import matplotlib.pyplot as plt"
   ]
  },
  {
   "cell_type": "code",
   "execution_count": 15,
   "id": "3727f399",
   "metadata": {},
   "outputs": [
    {
     "data": {
      "text/plain": [
       "array([-10.55088668,  31.2159235 ])"
      ]
     },
     "execution_count": 15,
     "metadata": {},
     "output_type": "execute_result"
    }
   ],
   "source": [
    "c = [0.0264,0.0536,0.1050,0.211,0.43]\n",
    "gamma = [68, 63.14, 56.31, 48.08, 38.87]\n",
    "np.polyfit(np.log(c), gamma, 1)"
   ]
  },
  {
   "cell_type": "code",
   "execution_count": 14,
   "id": "c67d891e",
   "metadata": {},
   "outputs": [
    {
     "data": {
      "image/png": "[encoded data removed]",
      "text/plain": [
       "<Figure size 432x288 with 1 Axes>"
      ]
     },
     "metadata": {
      "needs_background": "light"
     },
     "output_type": "display_data"
    }
   ],
   "source": [
    "plt.plot(np.log(c), gamma)\n",
    "plt.show()"
   ]
  },
  {
   "cell_type": "code",
   "execution_count": null,
   "id": "70a0d1e4",
   "metadata": {},
   "outputs": [],
   "source": []
  }
 ],
 "metadata": {
  "kernelspec": {
   "display_name": "Python 3 (ipykernel)",
   "language": "python",
   "name": "python3"
  },
  "language_info": {
   "codemirror_mode": {
    "name": "ipython",
    "version": 3
   },
   "file_extension": ".py",
   "mimetype": "text/x-python",
   "name": "python",
   "nbconvert_exporter": "python",
   "pygments_lexer": "ipython3",
   "version": "3.9.6"
  }
 },
 "nbformat": 4,
 "nbformat_minor": 5
}
