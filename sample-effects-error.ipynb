{
 "cells": [
  {
   "cell_type": "markdown",
   "id": "4970077f",
   "metadata": {},
   "source": [
    "# How does the number of sample error the measurement and the error predicted by the SVD"
   ]
  },
  {
   "cell_type": "code",
   "execution_count": 174,
   "id": "fa4467be",
   "metadata": {},
   "outputs": [],
   "source": [
    "from scripts import * \n",
    "\n",
    "import numpy as np\n",
    "import pandas as pd\n",
    "import matplotlib.pyplot as plt"
   ]
  },
  {
   "cell_type": "code",
   "execution_count": 180,
   "id": "7064e9e3",
   "metadata": {
    "scrolled": false
   },
   "outputs": [
    {
     "data": {
      "image/png": "[encoded data removed]",
      "text/plain": [
       "<Figure size 432x288 with 1 Axes>"
      ]
     },
     "metadata": {
      "needs_background": "light"
     },
     "output_type": "display_data"
    }
   ],
   "source": [
    "# take only the data from April 7th\n",
    "\n",
    "l = []\n",
    "\n",
    "i = True\n",
    "\n",
    "fracs = [0.1,0.2,0.3,0.4,0.5,0.6,0.7,0.8,0.9,1]\n",
    "\n",
    "colour = [frac/max(fracs) for frac in fracs]\n",
    "\n",
    "for frac in fracs:\n",
    "    \n",
    "        df = pd.read_csv('data/2019_04_07.csv')\n",
    "\n",
    "        df = df.sample(frac=frac)\n",
    "\n",
    "        design_mat, pinv, y, beta = create_design_mat(df)\n",
    "        sigma = svd_uncertainty(design_mat, y, beta)\n",
    "        \n",
    "        if sigma[0] < 0.1:\n",
    "\n",
    "            l.append((sigma[0],sigma[1]))\n",
    "            plt.scatter(beta[0], beta[1], label=f'{frac}')\n",
    "            plt.errorbar(beta[0], beta[1], xerr=sigma[0], yerr=sigma[1])\n",
    "\n",
    "plt.legend(title='Fraction')\n",
    "plt.xlabel('E1-W2 x')\n",
    "plt.ylabel('E1-W2 y')\n",
    "plt.title('Prediction for E1-W2 baseline for different dataframe fractions', y=1.08)\n",
    "plt.savefig('figures/different-sampling-fracs2.png', dpi=600, bbox_inches=\"tight\")"
   ]
  },
  {
   "cell_type": "code",
   "execution_count": null,
   "id": "e291647d",
   "metadata": {},
   "outputs": [],
   "source": []
  },
  {
   "cell_type": "code",
   "execution_count": 50,
   "id": "d0d78f77",
   "metadata": {},
   "outputs": [
    {
     "data": {
      "text/plain": [
       "\"\\nSo it is seen that as expected the error about the 'truest' value increases as the fraction decreases.\\n\\nThe SVD errors mean that 0.1 IS NOT statistically significant \\n\\nThis causes errors on the scale of a couple of mm \\n\""
      ]
     },
     "execution_count": 50,
     "metadata": {},
     "output_type": "execute_result"
    }
   ],
   "source": [
    "'''\n",
    "So it is seen that as expected the error about the 'truest' value increases as the fraction decreases.\n",
    "\n",
    "The SVD errors mean that 0.1 IS NOT statistically significant \n",
    "\n",
    "This causes errors on the scale of a couple of mm \n",
    "\n",
    "\n",
    "But usually the SVD errors grow accordingly meaning that changes are still significant \n",
    "'''"
   ]
  },
  {
   "cell_type": "code",
   "execution_count": 103,
   "id": "4baad36a",
   "metadata": {},
   "outputs": [
    {
     "data": {
      "text/plain": [
       "array([5.67610454e+04, 9.13564461e+02, 1.30180802e+04, 3.83466967e+05,\n",
       "       3.04656264e+05, 3.01453839e+05, 1.04155496e+06, 2.35390083e+05,\n",
       "       3.03322417e+06, 5.29724283e+05, 1.05345529e+06, 1.33939762e+06,\n",
       "       7.40816245e+05, 1.00585970e+05, 2.82586382e+06, 1.31598845e+05,\n",
       "       2.03374224e+05, 4.12800806e+05, 3.58273956e+05, 2.44350924e+05,\n",
       "       5.58407712e+03, 3.31484879e+05, 6.08931277e+05, 6.22288468e+05,\n",
       "       3.23186455e+05, 2.73227375e+04, 6.40092488e+04, 3.48927406e+05,\n",
       "       3.73204420e+05, 1.93270374e+06, 3.26723978e+06, 1.44233852e+06,\n",
       "       1.54443165e+06])"
      ]
     },
     "execution_count": 103,
     "metadata": {},
     "output_type": "execute_result"
    }
   ],
   "source": [
    "df = pd.read_csv('data/2019_04_07.csv')\n",
    "\n",
    "df = df.sample(frac=0.1)\n",
    "\n",
    "design_mat, pinv, y, beta = create_design_mat(df)\n",
    "sigma = svd_uncertainty(design_mat, y, beta)\n",
    "\n",
    "sigma"
   ]
  },
  {
   "cell_type": "code",
   "execution_count": 129,
   "id": "9b5147aa",
   "metadata": {},
   "outputs": [],
   "source": [
    "dftest = df"
   ]
  },
  {
   "cell_type": "code",
   "execution_count": 104,
   "id": "0d1de17b",
   "metadata": {},
   "outputs": [
    {
     "data": {
      "text/plain": [
       "array([1.54433231e+01, 1.34537433e+01, 1.00630619e+01, 7.10522546e+00,\n",
       "       5.81572873e+00, 5.10903204e+00, 4.59278463e+00, 4.18458162e+00,\n",
       "       3.82889805e+00, 3.71443429e+00, 3.55059025e+00, 3.26470540e+00,\n",
       "       2.96144440e+00, 2.58670527e+00, 2.30199618e+00, 1.67191904e+00,\n",
       "       1.60185148e+00, 1.47006015e+00, 1.09931093e+00, 1.07698459e+00,\n",
       "       9.15543003e-01, 6.54469355e-01, 5.18908989e-01, 4.21126606e-01,\n",
       "       2.39283373e-01, 2.09263270e-01, 1.26783026e-01, 1.09296836e-01,\n",
       "       7.63866082e-02, 1.34288927e-02, 3.43570641e-03, 2.60309256e-11,\n",
       "       1.01847630e-15])"
      ]
     },
     "execution_count": 104,
     "metadata": {},
     "output_type": "execute_result"
    }
   ],
   "source": [
    "U, w, Vt = np.linalg.svd(design_mat)\n",
    "\n",
    "w"
   ]
  },
  {
   "cell_type": "code",
   "execution_count": 110,
   "id": "4a13fe12",
   "metadata": {},
   "outputs": [
    {
     "data": {
      "text/plain": [
       "6.961086367332343e-13"
      ]
     },
     "execution_count": 110,
     "metadata": {},
     "output_type": "execute_result"
    }
   ],
   "source": [
    "np.finfo(type(w[0])).eps * w[0] * design_mat.shape[0]"
   ]
  },
  {
   "cell_type": "code",
   "execution_count": 111,
   "id": "9460e62a",
   "metadata": {},
   "outputs": [
    {
     "data": {
      "text/plain": [
       "array([ 7.39888367e-13, -9.00190104e-13, -4.43370280e-13,  8.48258369e-13,\n",
       "       -7.52363835e-13,  9.89304070e-13, -6.51654050e-13,  2.01437060e-12,\n",
       "       -1.73312570e-12, -2.36598168e-13,  1.09617779e-12, -9.26607055e-13,\n",
       "        2.96416945e-08,  7.95806324e-01,  5.41358536e-01, -3.88971835e-03,\n",
       "       -3.88971835e-03, -3.88971835e-03, -3.88971835e-03, -3.88971835e-03,\n",
       "       -3.88971835e-03, -3.88971835e-03, -3.88971835e-03, -3.88971835e-03,\n",
       "       -3.88971834e-03, -3.88971834e-03, -3.88971834e-03, -3.88971835e-03,\n",
       "       -3.88971834e-03, -3.88971834e-03, -3.88971834e-03,  2.20121363e-01,\n",
       "       -1.57885203e-01])"
      ]
     },
     "execution_count": 111,
     "metadata": {},
     "output_type": "execute_result"
    }
   ],
   "source": [
    "Vt[-2]"
   ]
  },
  {
   "cell_type": "code",
   "execution_count": 125,
   "id": "f06ad891",
   "metadata": {},
   "outputs": [
    {
     "data": {
      "text/plain": [
       "-0.7172643374918916"
      ]
     },
     "execution_count": 125,
     "metadata": {},
     "output_type": "execute_result"
    }
   ],
   "source": [
    "Vt[-2][-1]/Vt[-2][-2] "
   ]
  },
  {
   "cell_type": "code",
   "execution_count": 128,
   "id": "6cb15cab",
   "metadata": {},
   "outputs": [
    {
     "data": {
      "text/plain": [
       "0.6802641800422123"
      ]
     },
     "execution_count": 128,
     "metadata": {},
     "output_type": "execute_result"
    }
   ],
   "source": [
    "Vt[-2][14]/Vt[-2][13]"
   ]
  },
  {
   "cell_type": "code",
   "execution_count": 118,
   "id": "1dc43ffd",
   "metadata": {},
   "outputs": [
    {
     "name": "stderr",
     "output_type": "stream",
     "text": [
      "/Users/harryshaw/Desktop/coding-projects/computing-project/scripts.py:142: SettingWithCopyWarning: \n",
      "A value is trying to be set on a copy of a slice from a DataFrame.\n",
      "Try using .loc[row_indexer,col_indexer] = value instead\n",
      "\n",
      "See the caveats in the documentation: https://pandas.pydata.org/pandas-docs/stable/user_guide/indexing.html#returning-a-view-versus-a-copy\n",
      "  design matrix for the dataframe\n",
      "/Users/harryshaw/Desktop/coding-projects/computing-project/scripts.py:143: SettingWithCopyWarning: \n",
      "A value is trying to be set on a copy of a slice from a DataFrame.\n",
      "Try using .loc[row_indexer,col_indexer] = value instead\n",
      "\n",
      "See the caveats in the documentation: https://pandas.pydata.org/pandas-docs/stable/user_guide/indexing.html#returning-a-view-versus-a-copy\n",
      "  pinv: numpy.ndarray\n"
     ]
    },
    {
     "ename": "NameError",
     "evalue": "name 'plt' is not defined",
     "output_type": "error",
     "traceback": [
      "\u001b[0;31m---------------------------------------------------------------------------\u001b[0m",
      "\u001b[0;31mNameError\u001b[0m                                 Traceback (most recent call last)",
      "\u001b[0;32m/var/folders/yr/nz2d8_8n42g11zxgd7yjxhq40000gn/T/ipykernel_8740/1504785941.py\u001b[0m in \u001b[0;36m<module>\u001b[0;34m\u001b[0m\n\u001b[0;32m----> 1\u001b[0;31m \u001b[0mplot_graph\u001b[0m\u001b[0;34m(\u001b[0m\u001b[0mdf\u001b[0m\u001b[0;34m[\u001b[0m\u001b[0;34m(\u001b[0m\u001b[0mdf\u001b[0m\u001b[0;34m.\u001b[0m\u001b[0mtel_1\u001b[0m \u001b[0;34m==\u001b[0m \u001b[0;34m'E2'\u001b[0m\u001b[0;34m)\u001b[0m \u001b[0;34m|\u001b[0m \u001b[0;34m(\u001b[0m\u001b[0mdf\u001b[0m\u001b[0;34m.\u001b[0m\u001b[0mtel_2\u001b[0m \u001b[0;34m==\u001b[0m \u001b[0;34m'E2'\u001b[0m\u001b[0;34m)\u001b[0m\u001b[0;34m]\u001b[0m\u001b[0;34m)\u001b[0m\u001b[0;34m\u001b[0m\u001b[0;34m\u001b[0m\u001b[0m\n\u001b[0m",
      "\u001b[0;32m~/Desktop/coding-projects/computing-project/scripts.py\u001b[0m in \u001b[0;36mplot_graph\u001b[0;34m(df, day_of_year)\u001b[0m\n\u001b[1;32m    147\u001b[0m     \u001b[0mbeta\u001b[0m\u001b[0;34m:\u001b[0m \u001b[0mnumpy\u001b[0m\u001b[0;34m.\u001b[0m\u001b[0mndarray\u001b[0m\u001b[0;34m\u001b[0m\u001b[0;34m\u001b[0m\u001b[0m\n\u001b[1;32m    148\u001b[0m         \u001b[0mmodel\u001b[0m \u001b[0mparameters\u001b[0m \u001b[0mvector\u001b[0m \u001b[0mfound\u001b[0m \u001b[0musing\u001b[0m\u001b[0;31m \u001b[0m\u001b[0;31m`\u001b[0m\u001b[0mpinv\u001b[0m \u001b[0;34m@\u001b[0m \u001b[0my\u001b[0m\u001b[0;31m`\u001b[0m\u001b[0;34m\u001b[0m\u001b[0;34m\u001b[0m\u001b[0m\n\u001b[0;32m--> 149\u001b[0;31m         \u001b[0mbaseline\u001b[0m \u001b[0mcomponents\u001b[0m \u001b[0mzero\u001b[0m\u001b[0;31m'\u001b[0m\u001b[0md\u001b[0m \u001b[0mon\u001b[0m \u001b[0mE1\u001b[0m \u001b[0mtelescope\u001b[0m\u001b[0;34m\u001b[0m\u001b[0;34m\u001b[0m\u001b[0m\n\u001b[0m\u001b[1;32m    150\u001b[0m         \u001b[0;36m15\u001b[0m \u001b[0mbaselines\u001b[0m \u001b[0mW2\u001b[0m\u001b[0;34m,\u001b[0m \u001b[0mW1\u001b[0m\u001b[0;34m,\u001b[0m \u001b[0mS2\u001b[0m\u001b[0;34m,\u001b[0m \u001b[0mS1\u001b[0m\u001b[0;34m,\u001b[0m \u001b[0mE2\u001b[0m \u001b[0mfollowed\u001b[0m \u001b[0mby\u001b[0m \u001b[0mPOP\u001b[0m \u001b[0msettings\u001b[0m\u001b[0;34m\u001b[0m\u001b[0;34m\u001b[0m\u001b[0m\n\u001b[1;32m    151\u001b[0m     \"\"\"\n",
      "\u001b[0;31mNameError\u001b[0m: name 'plt' is not defined"
     ]
    },
    {
     "data": {
      "image/png": "[encoded data removed]",
      "text/plain": [
       "<Figure size 432x288 with 1 Axes>"
      ]
     },
     "metadata": {},
     "output_type": "display_data"
    }
   ],
   "source": [
    "plot_graph(df[(df.tel_1 == 'E2') | (df.tel_2 == 'E2')])"
   ]
  },
  {
   "cell_type": "code",
   "execution_count": 117,
   "id": "9fcb5651",
   "metadata": {
    "scrolled": true
   },
   "outputs": [
    {
     "ename": "NameError",
     "evalue": "name 'plt' is not defined",
     "output_type": "error",
     "traceback": [
      "\u001b[0;31m---------------------------------------------------------------------------\u001b[0m",
      "\u001b[0;31mNameError\u001b[0m                                 Traceback (most recent call last)",
      "\u001b[0;32m/var/folders/yr/nz2d8_8n42g11zxgd7yjxhq40000gn/T/ipykernel_8740/834928360.py\u001b[0m in \u001b[0;36m<module>\u001b[0;34m\u001b[0m\n\u001b[0;32m----> 1\u001b[0;31m \u001b[0mplot_graph\u001b[0m\u001b[0;34m(\u001b[0m\u001b[0mdf\u001b[0m\u001b[0;34m)\u001b[0m\u001b[0;34m\u001b[0m\u001b[0;34m\u001b[0m\u001b[0m\n\u001b[0m",
      "\u001b[0;32m~/Desktop/coding-projects/computing-project/scripts.py\u001b[0m in \u001b[0;36mplot_graph\u001b[0;34m(df, day_of_year)\u001b[0m\n\u001b[1;32m    147\u001b[0m     \u001b[0mbeta\u001b[0m\u001b[0;34m:\u001b[0m \u001b[0mnumpy\u001b[0m\u001b[0;34m.\u001b[0m\u001b[0mndarray\u001b[0m\u001b[0;34m\u001b[0m\u001b[0;34m\u001b[0m\u001b[0m\n\u001b[1;32m    148\u001b[0m         \u001b[0mmodel\u001b[0m \u001b[0mparameters\u001b[0m \u001b[0mvector\u001b[0m \u001b[0mfound\u001b[0m \u001b[0musing\u001b[0m\u001b[0;31m \u001b[0m\u001b[0;31m`\u001b[0m\u001b[0mpinv\u001b[0m \u001b[0;34m@\u001b[0m \u001b[0my\u001b[0m\u001b[0;31m`\u001b[0m\u001b[0;34m\u001b[0m\u001b[0;34m\u001b[0m\u001b[0m\n\u001b[0;32m--> 149\u001b[0;31m         \u001b[0mbaseline\u001b[0m \u001b[0mcomponents\u001b[0m \u001b[0mzero\u001b[0m\u001b[0;31m'\u001b[0m\u001b[0md\u001b[0m \u001b[0mon\u001b[0m \u001b[0mE1\u001b[0m \u001b[0mtelescope\u001b[0m\u001b[0;34m\u001b[0m\u001b[0;34m\u001b[0m\u001b[0m\n\u001b[0m\u001b[1;32m    150\u001b[0m         \u001b[0;36m15\u001b[0m \u001b[0mbaselines\u001b[0m \u001b[0mW2\u001b[0m\u001b[0;34m,\u001b[0m \u001b[0mW1\u001b[0m\u001b[0;34m,\u001b[0m \u001b[0mS2\u001b[0m\u001b[0;34m,\u001b[0m \u001b[0mS1\u001b[0m\u001b[0;34m,\u001b[0m \u001b[0mE2\u001b[0m \u001b[0mfollowed\u001b[0m \u001b[0mby\u001b[0m \u001b[0mPOP\u001b[0m \u001b[0msettings\u001b[0m\u001b[0;34m\u001b[0m\u001b[0;34m\u001b[0m\u001b[0m\n\u001b[1;32m    151\u001b[0m     \"\"\"\n",
      "\u001b[0;31mNameError\u001b[0m: name 'plt' is not defined"
     ]
    },
    {
     "data": {
      "image/png": "[encoded data removed]",
      "text/plain": [
       "<Figure size 432x288 with 1 Axes>"
      ]
     },
     "metadata": {},
     "output_type": "display_data"
    }
   ],
   "source": [
    "plot_graph(df)"
   ]
  },
  {
   "cell_type": "code",
   "execution_count": 173,
   "id": "1e184442",
   "metadata": {},
   "outputs": [
    {
     "data": {
      "text/html": [
       "<div>\n",
       "<style scoped>\n",
       "    .dataframe tbody tr th:only-of-type {\n",
       "        vertical-align: middle;\n",
       "    }\n",
       "\n",
       "    .dataframe tbody tr th {\n",
       "        vertical-align: top;\n",
       "    }\n",
       "\n",
       "    .dataframe thead th {\n",
       "        text-align: right;\n",
       "    }\n",
       "</style>\n",
       "<table border=\"1\" class=\"dataframe\">\n",
       "  <thead>\n",
       "    <tr style=\"text-align: right;\">\n",
       "      <th></th>\n",
       "      <th>utc</th>\n",
       "      <th>star</th>\n",
       "      <th>azimuth</th>\n",
       "      <th>elevation</th>\n",
       "      <th>tel_1</th>\n",
       "      <th>tel_2</th>\n",
       "      <th>pop_1</th>\n",
       "      <th>pop_2</th>\n",
       "      <th>cart_1</th>\n",
       "      <th>cart_2</th>\n",
       "      <th>year</th>\n",
       "      <th>month</th>\n",
       "      <th>day</th>\n",
       "    </tr>\n",
       "  </thead>\n",
       "  <tbody>\n",
       "    <tr>\n",
       "      <th>1357</th>\n",
       "      <td>2019-04-07T08:41:52.000</td>\n",
       "      <td>#184873</td>\n",
       "      <td>2.289932</td>\n",
       "      <td>0.581336</td>\n",
       "      <td>S2</td>\n",
       "      <td>E1</td>\n",
       "      <td>P5B4</td>\n",
       "      <td>P3B1</td>\n",
       "      <td>72.007693</td>\n",
       "      <td>22.769235</td>\n",
       "      <td>2019</td>\n",
       "      <td>4</td>\n",
       "      <td>7</td>\n",
       "    </tr>\n",
       "    <tr>\n",
       "      <th>1390</th>\n",
       "      <td>2019-04-07T08:41:59.000</td>\n",
       "      <td>#184873</td>\n",
       "      <td>2.290402</td>\n",
       "      <td>0.581653</td>\n",
       "      <td>S2</td>\n",
       "      <td>W1</td>\n",
       "      <td>P5B4</td>\n",
       "      <td>P1B3</td>\n",
       "      <td>72.012939</td>\n",
       "      <td>13.573989</td>\n",
       "      <td>2019</td>\n",
       "      <td>4</td>\n",
       "      <td>7</td>\n",
       "    </tr>\n",
       "    <tr>\n",
       "      <th>1899</th>\n",
       "      <td>2019-04-07T10:26:23.000</td>\n",
       "      <td>#242858</td>\n",
       "      <td>1.167161</td>\n",
       "      <td>0.812628</td>\n",
       "      <td>S1</td>\n",
       "      <td>W2</td>\n",
       "      <td>P1B5</td>\n",
       "      <td>P5B2</td>\n",
       "      <td>41.691319</td>\n",
       "      <td>59.999998</td>\n",
       "      <td>2019</td>\n",
       "      <td>4</td>\n",
       "      <td>7</td>\n",
       "    </tr>\n",
       "    <tr>\n",
       "      <th>1613</th>\n",
       "      <td>2019-04-07T09:12:36.000</td>\n",
       "      <td>#192515</td>\n",
       "      <td>2.132703</td>\n",
       "      <td>0.680911</td>\n",
       "      <td>S2</td>\n",
       "      <td>W1</td>\n",
       "      <td>P5B4</td>\n",
       "      <td>P1B3</td>\n",
       "      <td>51.210819</td>\n",
       "      <td>11.907411</td>\n",
       "      <td>2019</td>\n",
       "      <td>4</td>\n",
       "      <td>7</td>\n",
       "    </tr>\n",
       "    <tr>\n",
       "      <th>1302</th>\n",
       "      <td>2019-04-07T08:13:52.000</td>\n",
       "      <td>#175132</td>\n",
       "      <td>2.505704</td>\n",
       "      <td>0.551721</td>\n",
       "      <td>S2</td>\n",
       "      <td>E1</td>\n",
       "      <td>P5B4</td>\n",
       "      <td>P1B1</td>\n",
       "      <td>86.529018</td>\n",
       "      <td>57.780034</td>\n",
       "      <td>2019</td>\n",
       "      <td>4</td>\n",
       "      <td>7</td>\n",
       "    </tr>\n",
       "    <tr>\n",
       "      <th>...</th>\n",
       "      <td>...</td>\n",
       "      <td>...</td>\n",
       "      <td>...</td>\n",
       "      <td>...</td>\n",
       "      <td>...</td>\n",
       "      <td>...</td>\n",
       "      <td>...</td>\n",
       "      <td>...</td>\n",
       "      <td>...</td>\n",
       "      <td>...</td>\n",
       "      <td>...</td>\n",
       "      <td>...</td>\n",
       "      <td>...</td>\n",
       "    </tr>\n",
       "    <tr>\n",
       "      <th>877</th>\n",
       "      <td>2019-04-07T07:32:30.000</td>\n",
       "      <td>#164437</td>\n",
       "      <td>2.609243</td>\n",
       "      <td>0.643167</td>\n",
       "      <td>S2</td>\n",
       "      <td>E1</td>\n",
       "      <td>P5B4</td>\n",
       "      <td>P1B1</td>\n",
       "      <td>54.943184</td>\n",
       "      <td>11.469510</td>\n",
       "      <td>2019</td>\n",
       "      <td>4</td>\n",
       "      <td>7</td>\n",
       "    </tr>\n",
       "    <tr>\n",
       "      <th>71</th>\n",
       "      <td>2019-04-07T04:37:26.000</td>\n",
       "      <td>#66519</td>\n",
       "      <td>5.141817</td>\n",
       "      <td>0.757599</td>\n",
       "      <td>E1</td>\n",
       "      <td>W1</td>\n",
       "      <td>P1B1</td>\n",
       "      <td>P5B3</td>\n",
       "      <td>2.256139</td>\n",
       "      <td>87.098953</td>\n",
       "      <td>2019</td>\n",
       "      <td>4</td>\n",
       "      <td>7</td>\n",
       "    </tr>\n",
       "    <tr>\n",
       "      <th>1100</th>\n",
       "      <td>2019-04-07T07:46:28.000</td>\n",
       "      <td>#170617</td>\n",
       "      <td>2.426211</td>\n",
       "      <td>0.658506</td>\n",
       "      <td>S2</td>\n",
       "      <td>E1</td>\n",
       "      <td>P5B4</td>\n",
       "      <td>P1B1</td>\n",
       "      <td>58.754387</td>\n",
       "      <td>55.142757</td>\n",
       "      <td>2019</td>\n",
       "      <td>4</td>\n",
       "      <td>7</td>\n",
       "    </tr>\n",
       "    <tr>\n",
       "      <th>1550</th>\n",
       "      <td>2019-04-07T09:04:43.000</td>\n",
       "      <td>#192515</td>\n",
       "      <td>2.101593</td>\n",
       "      <td>0.656544</td>\n",
       "      <td>S2</td>\n",
       "      <td>W2</td>\n",
       "      <td>P5B4</td>\n",
       "      <td>P5B2</td>\n",
       "      <td>50.672810</td>\n",
       "      <td>59.999998</td>\n",
       "      <td>2019</td>\n",
       "      <td>4</td>\n",
       "      <td>7</td>\n",
       "    </tr>\n",
       "    <tr>\n",
       "      <th>1271</th>\n",
       "      <td>2019-04-07T07:57:15.000</td>\n",
       "      <td>#162646</td>\n",
       "      <td>2.769462</td>\n",
       "      <td>0.767879</td>\n",
       "      <td>S2</td>\n",
       "      <td>W2</td>\n",
       "      <td>P5B4</td>\n",
       "      <td>P5B2</td>\n",
       "      <td>68.598471</td>\n",
       "      <td>59.999998</td>\n",
       "      <td>2019</td>\n",
       "      <td>4</td>\n",
       "      <td>7</td>\n",
       "    </tr>\n",
       "  </tbody>\n",
       "</table>\n",
       "<p>2034 rows × 13 columns</p>\n",
       "</div>"
      ],
      "text/plain": [
       "                          utc     star   azimuth  elevation tel_1 tel_2 pop_1  \\\n",
       "1357  2019-04-07T08:41:52.000  #184873  2.289932   0.581336    S2    E1  P5B4   \n",
       "1390  2019-04-07T08:41:59.000  #184873  2.290402   0.581653    S2    W1  P5B4   \n",
       "1899  2019-04-07T10:26:23.000  #242858  1.167161   0.812628    S1    W2  P1B5   \n",
       "1613  2019-04-07T09:12:36.000  #192515  2.132703   0.680911    S2    W1  P5B4   \n",
       "1302  2019-04-07T08:13:52.000  #175132  2.505704   0.551721    S2    E1  P5B4   \n",
       "...                       ...      ...       ...        ...   ...   ...   ...   \n",
       "877   2019-04-07T07:32:30.000  #164437  2.609243   0.643167    S2    E1  P5B4   \n",
       "71    2019-04-07T04:37:26.000   #66519  5.141817   0.757599    E1    W1  P1B1   \n",
       "1100  2019-04-07T07:46:28.000  #170617  2.426211   0.658506    S2    E1  P5B4   \n",
       "1550  2019-04-07T09:04:43.000  #192515  2.101593   0.656544    S2    W2  P5B4   \n",
       "1271  2019-04-07T07:57:15.000  #162646  2.769462   0.767879    S2    W2  P5B4   \n",
       "\n",
       "     pop_2     cart_1     cart_2  year  month  day  \n",
       "1357  P3B1  72.007693  22.769235  2019      4    7  \n",
       "1390  P1B3  72.012939  13.573989  2019      4    7  \n",
       "1899  P5B2  41.691319  59.999998  2019      4    7  \n",
       "1613  P1B3  51.210819  11.907411  2019      4    7  \n",
       "1302  P1B1  86.529018  57.780034  2019      4    7  \n",
       "...    ...        ...        ...   ...    ...  ...  \n",
       "877   P1B1  54.943184  11.469510  2019      4    7  \n",
       "71    P5B3   2.256139  87.098953  2019      4    7  \n",
       "1100  P1B1  58.754387  55.142757  2019      4    7  \n",
       "1550  P5B2  50.672810  59.999998  2019      4    7  \n",
       "1271  P5B2  68.598471  59.999998  2019      4    7  \n",
       "\n",
       "[2034 rows x 13 columns]"
      ]
     },
     "execution_count": 173,
     "metadata": {},
     "output_type": "execute_result"
    }
   ],
   "source": [
    "df"
   ]
  },
  {
   "cell_type": "code",
   "execution_count": null,
   "id": "5852a6fe",
   "metadata": {},
   "outputs": [],
   "source": []
  }
 ],
 "metadata": {
  "kernelspec": {
   "display_name": "Python 3 (ipykernel)",
   "language": "python",
   "name": "python3"
  },
  "language_info": {
   "codemirror_mode": {
    "name": "ipython",
    "version": 3
   },
   "file_extension": ".py",
   "mimetype": "text/x-python",
   "name": "python",
   "nbconvert_exporter": "python",
   "pygments_lexer": "ipython3",
   "version": "3.9.6"
  }
 },
 "nbformat": 4,
 "nbformat_minor": 5
}
