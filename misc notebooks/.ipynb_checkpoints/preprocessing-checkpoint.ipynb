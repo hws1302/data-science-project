{
 "cells": [
  {
   "cell_type": "markdown",
   "id": "df7615c8",
   "metadata": {},
   "source": [
    "# Pre-processing\n",
    "\n",
    "In this notebook, the csv files are *pre-processed* in which the files are made easier to work with under the constraints on the task"
   ]
  },
  {
   "cell_type": "code",
   "execution_count": 6,
   "id": "0c7cdd75",
   "metadata": {},
   "outputs": [],
   "source": [
    "import pandas as pd"
   ]
  },
  {
   "cell_type": "code",
   "execution_count": 18,
   "id": "2ed79343",
   "metadata": {},
   "outputs": [],
   "source": [
    "def pre_process(file_name):\n",
    "    '''\n",
    "    Pre-process data so that key quantities are easy to test\n",
    "    '''\n",
    "    \n",
    "    # load the csv into a DataFrame\n",
    "    df = pd.read_csv(f'data/{file_name}.csv')\n",
    "\n",
    "    # create seperate columns for year, month, dat and time\n",
    "    dates = pd.to_datetime(df.utc)\n",
    "    df['year'] = [date.year for date in dates]\n",
    "    df['month'] = [date.month for date in dates]\n",
    "    df['day'] = [date.day for date in dates]\n",
    "    df['month'] = [date.month for date in dates]\n",
    "    \n",
    "    \n",
    "    # need to swap the elevation and azimuth for the 2019 date sets \n",
    "    if file_name[:4] == '2019':\n",
    "        df = df.rename(columns={\"elevation\": \"azimuth\", \"azimuth\": \"elevation\"})\n",
    "\n",
    "    # change to radians\n",
    "    df[\"azimuth\"] = df[\"azimuth\"] * 2 * np.pi / 360\n",
    "    df[\"elevation\"] = df[\"elevation\"] * 2 * np.pi / 360\n",
    "    \n",
    "    df.to_csv(f'data/{file_name}.csv', index=False)"
   ]
  },
  {
   "cell_type": "code",
   "execution_count": 19,
   "id": "7b702208",
   "metadata": {},
   "outputs": [],
   "source": [
    "files_names = ['2019_04_07', '2019_04_08', '2019_11_05', '2019_11_06', '2012_all_v2']\n",
    "\n",
    "for file_name in files_names:\n",
    "    pre_process(file_name)"
   ]
  }
 ],
 "metadata": {
  "kernelspec": {
   "display_name": "Python 3 (ipykernel)",
   "language": "python",
   "name": "python3"
  },
  "language_info": {
   "codemirror_mode": {
    "name": "ipython",
    "version": 3
   },
   "file_extension": ".py",
   "mimetype": "text/x-python",
   "name": "python",
   "nbconvert_exporter": "python",
   "pygments_lexer": "ipython3",
   "version": "3.9.6"
  }
 },
 "nbformat": 4,
 "nbformat_minor": 5
}
