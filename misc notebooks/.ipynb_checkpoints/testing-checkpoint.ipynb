{
 "cells": [
  {
   "cell_type": "markdown",
   "id": "fa782038",
   "metadata": {},
   "source": [
    "# Part II Computing Project \n",
    "\n",
    "\n",
    "The “internal” delays consist of:\n",
    "1. a continuously‑variable optical path length equaliser (OPLE) whose path delay is measured in real time by a laser interferometer to sub‑micron accuracy \n",
    "2. a set of discrete “Pipes of Pan” (POP) delays which can be switched in to access different parts of the sky \n",
    "3. an quasi‑fixed component dependent on optics in the beam path from each telescope to the beam combination point (known as the “constant term”)\n",
    "\n",
    "You can start out by assuming that the delay introduced by any given POP setting is unknown but\n",
    "stable and that the “constant term” is stable on any given night but can vary by unknown amounts\n",
    "from night to night\n",
    "\n",
    "For task 1 since it is a singular night, we can assum that the \"constant term\" is stable on any given night"
   ]
  },
  {
   "cell_type": "markdown",
   "id": "e270117b",
   "metadata": {},
   "source": [
    "## Task 1: Finding the telescope positions \n",
    "\n",
    "We must form a design matrix for the problem \n",
    "\n",
    "There are many parameters, these include:\n",
    "\n",
    "- 3 position parameters for each telescope\n",
    "- 1 parameter for each pop setting for each telescope \n",
    "- 2 parameters for the cart \n",
    "- 2 parameters for the elevation and the azimuth (which need to be swapped around)\n",
    "- Do you need to use the star number?"
   ]
  },
  {
   "cell_type": "markdown",
   "id": "d75430e6",
   "metadata": {},
   "source": [
    "### Questions \n",
    "\n",
    "- one-hot encoding for the pop and telescopes \n",
    "- is a seperate value needed for w1 cart, e1 cart etc etc \n",
    "- do the azimuth and the elevation need to have the cosine in there somewhere (especially because the azimuth will be offset by the orientation of the stuff), would you need that for the elevation too as at slightly different heights?\n",
    "- what is the matrix set up y = Xb (b is the values for the parameters e,g x, y, z position of the W1 telescope), y is the model output single number for each row that represents the \n",
    "\n",
    "\n",
    "\n",
    "\\begin{pmatrix}\n",
    "1 & 2 & 3\\\\\n",
    "a & b & c\n",
    "\\end{pmatrix}\n",
    "\n",
    "\\begin{pmatrix}\n",
    "1 \\\\\n",
    "2 \\\\\n",
    "3\n",
    "\\end{pmatrix}"
   ]
  },
  {
   "cell_type": "code",
   "execution_count": 387,
   "id": "2552f0e2",
   "metadata": {},
   "outputs": [],
   "source": [
    "import pandas as pd\n",
    "import numpy as np\n",
    "import matplotlib.pyplot as plt"
   ]
  },
  {
   "cell_type": "code",
   "execution_count": 388,
   "id": "002a0104",
   "metadata": {},
   "outputs": [
    {
     "data": {
      "text/html": [
       "<div>\n",
       "<style scoped>\n",
       "    .dataframe tbody tr th:only-of-type {\n",
       "        vertical-align: middle;\n",
       "    }\n",
       "\n",
       "    .dataframe tbody tr th {\n",
       "        vertical-align: top;\n",
       "    }\n",
       "\n",
       "    .dataframe thead th {\n",
       "        text-align: right;\n",
       "    }\n",
       "</style>\n",
       "<table border=\"1\" class=\"dataframe\">\n",
       "  <thead>\n",
       "    <tr style=\"text-align: right;\">\n",
       "      <th></th>\n",
       "      <th>utc</th>\n",
       "      <th>star</th>\n",
       "      <th>azimuth</th>\n",
       "      <th>elevation</th>\n",
       "      <th>tel_1</th>\n",
       "      <th>tel_2</th>\n",
       "      <th>pop_1</th>\n",
       "      <th>pop_2</th>\n",
       "      <th>cart_1</th>\n",
       "      <th>cart_2</th>\n",
       "    </tr>\n",
       "  </thead>\n",
       "  <tbody>\n",
       "    <tr>\n",
       "      <th>0</th>\n",
       "      <td>2019-04-07T03:18:25.000</td>\n",
       "      <td>#93396</td>\n",
       "      <td>4.937621</td>\n",
       "      <td>1.279389</td>\n",
       "      <td>W1</td>\n",
       "      <td>W2</td>\n",
       "      <td>P3B3</td>\n",
       "      <td>P5B2</td>\n",
       "      <td>62.585687</td>\n",
       "      <td>80.000000</td>\n",
       "    </tr>\n",
       "    <tr>\n",
       "      <th>1</th>\n",
       "      <td>2019-04-07T03:18:25.000</td>\n",
       "      <td>#93396</td>\n",
       "      <td>4.937621</td>\n",
       "      <td>1.279389</td>\n",
       "      <td>S2</td>\n",
       "      <td>W1</td>\n",
       "      <td>P2B4</td>\n",
       "      <td>P3B3</td>\n",
       "      <td>39.085558</td>\n",
       "      <td>62.585687</td>\n",
       "    </tr>\n",
       "    <tr>\n",
       "      <th>2</th>\n",
       "      <td>2019-04-07T03:18:29.000</td>\n",
       "      <td>#93396</td>\n",
       "      <td>4.937605</td>\n",
       "      <td>1.279153</td>\n",
       "      <td>W1</td>\n",
       "      <td>W2</td>\n",
       "      <td>P3B3</td>\n",
       "      <td>P5B2</td>\n",
       "      <td>62.610570</td>\n",
       "      <td>80.000000</td>\n",
       "    </tr>\n",
       "    <tr>\n",
       "      <th>3</th>\n",
       "      <td>2019-04-07T03:18:34.000</td>\n",
       "      <td>#93396</td>\n",
       "      <td>4.937586</td>\n",
       "      <td>1.278860</td>\n",
       "      <td>W1</td>\n",
       "      <td>W2</td>\n",
       "      <td>P3B3</td>\n",
       "      <td>P5B2</td>\n",
       "      <td>62.641690</td>\n",
       "      <td>80.000000</td>\n",
       "    </tr>\n",
       "    <tr>\n",
       "      <th>4</th>\n",
       "      <td>2019-04-07T03:32:01.000</td>\n",
       "      <td>#93396</td>\n",
       "      <td>4.937428</td>\n",
       "      <td>1.231426</td>\n",
       "      <td>S2</td>\n",
       "      <td>W1</td>\n",
       "      <td>P2B4</td>\n",
       "      <td>P3B3</td>\n",
       "      <td>43.169167</td>\n",
       "      <td>76.216268</td>\n",
       "    </tr>\n",
       "  </tbody>\n",
       "</table>\n",
       "</div>"
      ],
      "text/plain": [
       "                       utc    star   azimuth  elevation tel_1 tel_2 pop_1  \\\n",
       "0  2019-04-07T03:18:25.000  #93396  4.937621   1.279389    W1    W2  P3B3   \n",
       "1  2019-04-07T03:18:25.000  #93396  4.937621   1.279389    S2    W1  P2B4   \n",
       "2  2019-04-07T03:18:29.000  #93396  4.937605   1.279153    W1    W2  P3B3   \n",
       "3  2019-04-07T03:18:34.000  #93396  4.937586   1.278860    W1    W2  P3B3   \n",
       "4  2019-04-07T03:32:01.000  #93396  4.937428   1.231426    S2    W1  P2B4   \n",
       "\n",
       "  pop_2     cart_1     cart_2  \n",
       "0  P5B2  62.585687  80.000000  \n",
       "1  P3B3  39.085558  62.585687  \n",
       "2  P5B2  62.610570  80.000000  \n",
       "3  P5B2  62.641690  80.000000  \n",
       "4  P3B3  43.169167  76.216268  "
      ]
     },
     "execution_count": 388,
     "metadata": {},
     "output_type": "execute_result"
    }
   ],
   "source": [
    "df = pd.read_csv('data/2019_04_07.csv')\n",
    "\n",
    "df = df.rename(columns={'elevation': 'azimuth', 'azimuth': 'elevation'})\n",
    "\n",
    "# change to radians\n",
    "df['azimuth'] = df['azimuth'] * 2 * np.pi / 360\n",
    "df['elevation'] = df['elevation'] * 2 * np.pi / 360\n",
    "\n",
    "df.head()"
   ]
  },
  {
   "cell_type": "code",
   "execution_count": 389,
   "id": "26528c3a",
   "metadata": {},
   "outputs": [
    {
     "data": {
      "text/plain": [
       "(2034, 3)"
      ]
     },
     "execution_count": 389,
     "metadata": {},
     "output_type": "execute_result"
    }
   ],
   "source": [
    "# how to find the s vector \n",
    "theta = df['elevation']\n",
    "phi = df['azimuth']\n",
    "\n",
    "S = np.array([np.cos(theta)*np.sin(phi), np.cos(theta)*np.cos(phi), np.sin(theta)]).T\n",
    "\n",
    "S.shape"
   ]
  },
  {
   "cell_type": "markdown",
   "id": "0948f915",
   "metadata": {},
   "source": [
    "In each row we have:\n",
    "\n",
    "$$\\Delta C = S . \\Delta x + \\Delta d$$\n",
    "\n",
    "therefore for a single row in the design matrix we need to solve this. we can do the s vector with the two components of the\n",
    "\n",
    "Lets make the frist row of data into a design matrix..."
   ]
  },
  {
   "cell_type": "code",
   "execution_count": 390,
   "id": "2a90eb46",
   "metadata": {},
   "outputs": [],
   "source": [
    "# Order is E1, W2, W1, S2, S1, E2 (each having 3 position and 5 POP model parameters)\n",
    "\n",
    "length = len(df)\n",
    "width = 45\n",
    "\n",
    "design_mat = np.zeros((length, width))\n",
    "\n",
    "telescopes = ['W2', 'W1', 'S2', 'S1', 'E2'] # we don't need E1 here as we define this as the zero point\n",
    "\n",
    "for i, telescope in enumerate(telescopes):\n",
    "    \n",
    "    i = 3*i\n",
    "\n",
    "    design_mat[:,i:3+i] += S *  np.where(df['tel_1'] == telescope, 1, 0).reshape(-1,1)\n",
    "    design_mat[:,i:3+i] += - S *  np.where(df['tel_2'] == telescope, 1, 0).reshape(-1,1)\n",
    "    \n",
    "POPs = ['P1B1', 'P2B1', 'P3B1', 'P4B1', 'P5B1', 'P1B2', 'P2B2', 'P3B2', 'P4B2', 'P5B2', 'P1B3', 'P2B3', 'P3B3', 'P4B3', 'P5B3', 'P1B4', 'P2B4', 'P3B4', 'P4B4', 'P5B4', 'P1B5', 'P2B5', 'P3B5', 'P4B5', 'P5B5', 'P1B6', 'P2B6', 'P3B6', 'P4B6', 'P5B6',]\n",
    "\n",
    "for i, POP in enumerate(POPs):\n",
    "\n",
    "    design_mat[:,15+i] += np.where(df['pop_1'] == POP, 1, 0)\n",
    "    design_mat[:,15+i] += -  np.where(df['pop_2'] == POP, 1, 0)"
   ]
  },
  {
   "cell_type": "code",
   "execution_count": 391,
   "id": "f2611acc",
   "metadata": {},
   "outputs": [
    {
     "data": {
      "text/plain": [
       "array([ 1.94432608e+02,  1.06598978e+02, -6.37520967e+00,  3.00408627e+02,\n",
       "        8.96098458e+01,  4.88053282e+00,  1.31083790e+02,  2.72353841e+02,\n",
       "       -6.54767727e+00,  1.25336901e+02,  3.05932678e+02, -5.90805154e+00,\n",
       "        5.49439703e+01,  3.62099024e+01, -3.10685717e+00, -3.36959951e+01,\n",
       "        3.02658229e-13,  3.94249945e+01,  7.60126154e+01,  1.09324719e+02,\n",
       "        1.39856227e-13,  1.27755998e-13, -1.17660875e-13,  4.11484424e-14,\n",
       "       -5.78751704e+01, -9.35835387e+01, -5.70105517e+01, -2.04742521e+01,\n",
       "        1.15695257e-14,  4.94308404e+01,  9.27973122e-15, -4.51711000e+01,\n",
       "       -9.70225354e-15,  2.79865899e+01,  6.12963869e+01, -5.00464033e+01,\n",
       "        0.00000000e+00,  2.30822272e+01,  5.96781000e+01,  9.29891340e+01,\n",
       "       -9.70195406e+01, -6.04419397e+01, -2.39071161e+01,  0.00000000e+00,\n",
       "        0.00000000e+00])"
      ]
     },
     "execution_count": 391,
     "metadata": {},
     "output_type": "execute_result"
    }
   ],
   "source": [
    "pinv = np.linalg.pinv(design_mat)\n",
    "\n",
    "y = df['cart_2'].values - df['cart_1'].values\n",
    "\n",
    "beta = pinv @ y\n",
    "\n",
    "beta\n",
    "# the first 15 elements are the different components of the telescope vectors RELATIVE to E1"
   ]
  },
  {
   "cell_type": "code",
   "execution_count": 392,
   "id": "035b24ba",
   "metadata": {},
   "outputs": [
    {
     "data": {
      "image/png": "[encoded data removed]",
      "text/plain": [
       "<Figure size 432x288 with 1 Axes>"
      ]
     },
     "metadata": {
      "needs_background": "light"
     },
     "output_type": "display_data"
    }
   ],
   "source": [
    "plt.plot(np.arange(length), y - design_mat @ beta)\n",
    "plt.show()"
   ]
  },
  {
   "cell_type": "code",
   "execution_count": 393,
   "id": "c57b4ddb",
   "metadata": {},
   "outputs": [],
   "source": [
    "df2 = pd.read_csv('data/2012_all_v2.csv')\n",
    "\n",
    "df2 = df2.rename(columns={'elevation': 'azimuth', 'azimuth': 'elevation'})\n",
    "\n",
    "l = []\n",
    "\n",
    "for pop in POPs:\n",
    "\n",
    "    l.append(set(df2[df2['pop_1'] == pop]['tel_1']))\n",
    "# l"
   ]
  },
  {
   "cell_type": "code",
   "execution_count": 394,
   "id": "562602bb",
   "metadata": {},
   "outputs": [],
   "source": [
    "S_vector = lambda theta, phi: np.array([np.cos(theta)*np.sin(phi), np.cos(theta)*np.cos(phi), np.sin(theta)]).T\n",
    "\n",
    "def create_design_matrix(df, telescopes, POPs):\n",
    "    '''\n",
    "    Description \n",
    "    '''\n",
    "\n",
    "    length = len(df)\n",
    "    width = 3*len(telescopes) + len(POPs)\n",
    "    design_mat = np.zeros((length, width))\n",
    "\n",
    "    theta = df['elevation']\n",
    "    phi = df['azimuth']\n",
    "    S = S_vector(theta, phi)\n",
    "    \n",
    "    for i, telescope in enumerate(telescopes):\n",
    "    \n",
    "        #i = 3*i\n",
    "\n",
    "        design_mat[:,3*i:3+3*i] += S *  np.where(df['tel_1'] == telescope, 1, 0).reshape(-1,1)\n",
    "        design_mat[:,3*i:3+3*i] += - S *  np.where(df['tel_2'] == telescope, 1, 0).reshape(-1,1)\n",
    "    \n",
    "    for j, POP in enumerate(POPs):\n",
    "\n",
    "        design_mat[:,15+j] += np.where(df['pop_1'] == POP, 1, 0)\n",
    "        design_mat[:,15+j] -= np.where(df['pop_2'] == POP, 1, 0)\n",
    "        \n",
    "    y = df['cart_2'].values - df['cart_1'].values\n",
    "        \n",
    "    return design_mat, y"
   ]
  },
  {
   "cell_type": "code",
   "execution_count": 410,
   "id": "420dd2f6",
   "metadata": {},
   "outputs": [],
   "source": [
    "S_vector = lambda theta, phi: np.array([np.cos(theta)*np.sin(phi), np.cos(theta)*np.cos(phi), np.sin(theta)]).T\n",
    "\n",
    "def create_design_matrix(df, telescopes, POPs):\n",
    "    '''\n",
    "    Description \n",
    "    '''\n",
    "\n",
    "    # ea. row must contain (x, y, z) for ea. telescope (except E1, the zero point) \n",
    "    # and all 30 POP settings for ea. telescope\n",
    "    length = len(df)\n",
    "    width = 3*(len(telescopes) - 1) + len(telescopes)*len(POPs) \n",
    "    design_mat = np.zeros((length, width))\n",
    "\n",
    "    theta = df['elevation']\n",
    "    phi = df['azimuth']\n",
    "    S = S_vector(theta, phi)\n",
    "    \n",
    "    for i, telescope in enumerate(telescopes):\n",
    "        \n",
    "    \n",
    "        # for ea. new telescope must jump 3 places for (x, y, z)\n",
    "        i -= 1\n",
    "        \n",
    "        if telescope != 'E1': # keep 'E1' as the zero point\n",
    "\n",
    "            design_mat[:,3*i:3+3*i] += S *  np.where(df['tel_1'] == telescope, 1, 0).reshape(-1,1)\n",
    "            design_mat[:,3*i:3+3*i] -= S *  np.where(df['tel_2'] == telescope, 1, 0).reshape(-1,1)\n",
    "\n",
    "        for j, POP in enumerate(POPs):\n",
    "            \n",
    "            # for ea. new POP\n",
    "            #j *= 30\n",
    "            \n",
    "            # not working because E1 isn't in the list of telescopes \n",
    "            design_mat[:,15 + 30*i + j] += np.where((df['pop_1'] == POP) & (df['tel_1'] == telescope), 1, 0) # add when it is tel_1\n",
    "            design_mat[:,15 + 30*i + j] -= np.where((df['pop_2'] == POP) & (df['tel_2'] == telescope), 1, 0) # subtract when it is the tel_2\n",
    "        \n",
    "    y = df['cart_2'].values - df['cart_1'].values\n",
    "    \n",
    "    pinv = np.linalg.pinv(design_mat)\n",
    "        \n",
    "    return design_mat, pinv, y"
   ]
  },
  {
   "cell_type": "code",
   "execution_count": 415,
   "id": "b219b9fe",
   "metadata": {},
   "outputs": [
    {
     "data": {
      "text/plain": [
       "array([ 2.62410131e-04, -6.01599535e-04,  2.85602929e-04, ...,\n",
       "        3.43712798e-04,  3.24078511e-04, -1.96342866e-05])"
      ]
     },
     "execution_count": 415,
     "metadata": {},
     "output_type": "execute_result"
    }
   ],
   "source": [
    "telescopes = ['E1', 'W2', 'W1', 'S2', 'S1', 'E2']\n",
    "POPs = ['P1B1', 'P2B1', 'P3B1', 'P4B1', 'P5B1', \n",
    "        'P1B2', 'P2B2', 'P3B2', 'P4B2', 'P5B2', \n",
    "        'P1B3', 'P2B3', 'P3B3', 'P4B3', 'P5B3', \n",
    "        'P1B4', 'P2B4', 'P3B4', 'P4B4', 'P5B4', \n",
    "        'P1B5', 'P2B5', 'P3B5', 'P4B5', 'P5B5', \n",
    "        'P1B6', 'P2B6', 'P3B6', 'P4B6', 'P5B6']\n",
    "\n",
    "df = pd.read_csv('data/2019_04_07.csv')\n",
    "\n",
    "df = df.rename(columns={'elevation': 'azimuth', 'azimuth': 'elevation'})\n",
    "\n",
    "# change to radians\n",
    "df['azimuth'] = df['azimuth'] * 2 * np.pi / 360\n",
    "df['elevation'] = df['elevation'] * 2 * np.pi / 360\n",
    "\n",
    "design_mat, pinv, y = create_design_matrix(df, telescopes, POPs)\n",
    "\n",
    "beta = pinv @ y\n",
    "\n",
    "y - design_mat @ beta"
   ]
  },
  {
   "cell_type": "code",
   "execution_count": 416,
   "id": "c755fc48",
   "metadata": {},
   "outputs": [
    {
     "data": {
      "text/plain": [
       "array([ 1.94432608e+02,  1.06598978e+02, -6.37520967e+00,  3.00408627e+02,\n",
       "        8.96098458e+01,  4.88053282e+00,  1.31083790e+02,  2.72353841e+02,\n",
       "       -6.54767727e+00,  1.25336901e+02,  3.05932678e+02, -5.90805154e+00,\n",
       "        5.49439703e+01,  3.62099024e+01, -3.10685717e+00,  2.06045626e-13,\n",
       "       -2.94301890e-13, -2.07758114e-13,  1.56595786e-13, -2.12670319e-13,\n",
       "        4.58597725e-13,  2.45447226e-13, -1.34574487e-12, -3.71103354e-13,\n",
       "       -5.78751704e+01,  2.08978818e-13,  6.10473765e-13, -1.66753431e-13,\n",
       "        8.15306036e-14,  1.04803848e-13, -1.55766135e-13,  1.36357026e-13,\n",
       "        4.85181230e-14,  0.00000000e+00,  0.00000000e+00,  0.00000000e+00,\n",
       "        0.00000000e+00,  0.00000000e+00,  0.00000000e+00,  0.00000000e+00,\n",
       "        0.00000000e+00,  0.00000000e+00,  0.00000000e+00,  0.00000000e+00,\n",
       "        0.00000000e+00,  0.00000000e+00,  0.00000000e+00,  0.00000000e+00,\n",
       "        0.00000000e+00,  0.00000000e+00,  0.00000000e+00,  0.00000000e+00,\n",
       "        0.00000000e+00,  0.00000000e+00,  0.00000000e+00, -9.35835387e+01,\n",
       "       -5.70105517e+01, -2.04742521e+01,  0.00000000e+00,  4.94308404e+01,\n",
       "        0.00000000e+00,  0.00000000e+00,  0.00000000e+00,  0.00000000e+00,\n",
       "        0.00000000e+00,  0.00000000e+00,  0.00000000e+00,  0.00000000e+00,\n",
       "        0.00000000e+00,  0.00000000e+00,  0.00000000e+00,  0.00000000e+00,\n",
       "        0.00000000e+00,  0.00000000e+00,  0.00000000e+00,  0.00000000e+00,\n",
       "        0.00000000e+00,  0.00000000e+00,  0.00000000e+00,  0.00000000e+00,\n",
       "        0.00000000e+00,  0.00000000e+00,  0.00000000e+00,  0.00000000e+00,\n",
       "        0.00000000e+00,  0.00000000e+00,  0.00000000e+00,  0.00000000e+00,\n",
       "        0.00000000e+00,  0.00000000e+00,  0.00000000e+00, -4.51711000e+01,\n",
       "        0.00000000e+00,  2.79865899e+01,  6.12963869e+01,  0.00000000e+00,\n",
       "        0.00000000e+00,  0.00000000e+00,  0.00000000e+00,  0.00000000e+00,\n",
       "        0.00000000e+00,  0.00000000e+00,  0.00000000e+00,  0.00000000e+00,\n",
       "        0.00000000e+00,  0.00000000e+00,  0.00000000e+00,  0.00000000e+00,\n",
       "        0.00000000e+00,  0.00000000e+00,  0.00000000e+00,  0.00000000e+00,\n",
       "        0.00000000e+00,  0.00000000e+00,  0.00000000e+00,  0.00000000e+00,\n",
       "        0.00000000e+00,  0.00000000e+00,  0.00000000e+00,  0.00000000e+00,\n",
       "        0.00000000e+00,  0.00000000e+00,  0.00000000e+00,  0.00000000e+00,\n",
       "        0.00000000e+00, -5.00464033e+01,  0.00000000e+00,  2.30822272e+01,\n",
       "        5.96781000e+01,  9.29891340e+01,  0.00000000e+00,  0.00000000e+00,\n",
       "        0.00000000e+00,  0.00000000e+00,  0.00000000e+00,  0.00000000e+00,\n",
       "        0.00000000e+00,  0.00000000e+00,  0.00000000e+00,  0.00000000e+00,\n",
       "        0.00000000e+00,  0.00000000e+00,  0.00000000e+00,  0.00000000e+00,\n",
       "        0.00000000e+00,  0.00000000e+00,  0.00000000e+00,  0.00000000e+00,\n",
       "        0.00000000e+00,  0.00000000e+00,  0.00000000e+00,  0.00000000e+00,\n",
       "        0.00000000e+00,  0.00000000e+00,  0.00000000e+00,  0.00000000e+00,\n",
       "        0.00000000e+00,  0.00000000e+00,  0.00000000e+00,  0.00000000e+00,\n",
       "       -9.70195406e+01, -6.04419397e+01, -2.39071161e+01,  0.00000000e+00,\n",
       "        0.00000000e+00,  0.00000000e+00,  0.00000000e+00,  0.00000000e+00,\n",
       "        0.00000000e+00,  0.00000000e+00,  0.00000000e+00,  0.00000000e+00,\n",
       "        0.00000000e+00,  0.00000000e+00,  0.00000000e+00,  0.00000000e+00,\n",
       "        0.00000000e+00,  0.00000000e+00,  0.00000000e+00,  0.00000000e+00,\n",
       "       -3.36959951e+01,  0.00000000e+00,  3.94249945e+01,  7.60126154e+01,\n",
       "        1.09324719e+02,  0.00000000e+00,  0.00000000e+00,  0.00000000e+00,\n",
       "        0.00000000e+00,  0.00000000e+00,  0.00000000e+00,  0.00000000e+00,\n",
       "        0.00000000e+00,  0.00000000e+00,  0.00000000e+00])"
      ]
     },
     "execution_count": 416,
     "metadata": {},
     "output_type": "execute_result"
    }
   ],
   "source": [
    "beta"
   ]
  },
  {
   "cell_type": "code",
   "execution_count": 412,
   "id": "24a66e91",
   "metadata": {},
   "outputs": [
    {
     "data": {
      "image/png": "[encoded data removed]",
      "text/plain": [
       "<Figure size 432x288 with 1 Axes>"
      ]
     },
     "metadata": {
      "needs_background": "light"
     },
     "output_type": "display_data"
    }
   ],
   "source": [
    "plt.plot(np.arange(len(df)), y - design_mat @ beta)\n",
    "plt.show()"
   ]
  },
  {
   "cell_type": "markdown",
   "id": "a170358a",
   "metadata": {},
   "source": [
    "### Notes \n",
    "\n",
    "- Strange as the errors for 04/07 and 11/06 seem to be find but the other two date seems to have unusually large errors... All of 2012 also has very large errors too\n",
    "- Elevation and azimuth are swapped around for all the 2019 dates"
   ]
  },
  {
   "cell_type": "markdown",
   "id": "a191a5f4",
   "metadata": {},
   "source": [
    "## 2: SVD Error\n",
    "\n",
    "- Analyse all nights for 2019 to see if there is any evidence for the telescopes moving due to seasonal effect \n",
    "- To do this need to estimate the uncertainty of the telescope position solution for EACH MONTH (?)\n",
    "\n",
    "### Two ways to estimate errors\n",
    "1. compare the solutions on two different nights in the same month and use the variation between the solutions to esitmate the solution uncertainty \n",
    "2. derive an uncertainty estimate using Singular Value Decomposition (SVD) of the design matrix to determine U, w and V.T matrixes using:\n",
    "\n",
    "$$\\sigma^2(\\theta_j) = \\sum_i \\left ( \\frac{V_{ji}}{w_i} \\right )^2 \\sigma^2_d$$"
   ]
  },
  {
   "cell_type": "code",
   "execution_count": 451,
   "id": "88530e88",
   "metadata": {},
   "outputs": [
    {
     "data": {
      "text/plain": [
       "array([ 1.07474007e-03,  1.54198053e-04, -6.34205597e-03, -7.23506991e-04,\n",
       "        9.46750322e-04, -7.39589303e-03,  7.76466448e-04,  5.94120408e-04,\n",
       "       -5.10380483e-03,  9.04768143e-04,  3.68108611e-04,  2.96045213e-05,\n",
       "        5.50812273e-03, -8.61702611e-03,  4.23875779e-03])"
      ]
     },
     "execution_count": 451,
     "metadata": {},
     "output_type": "execute_result"
    }
   ],
   "source": [
    "# if we compare the solutions for the two different nights in April, we get:\n",
    "\n",
    "df1 = pd.read_csv('data/2019_04_07.csv')\n",
    "df2 = pd.read_csv('data/2019_04_08.csv')\n",
    "\n",
    "df1 = df1.rename(columns={'elevation': 'azimuth', 'azimuth': 'elevation'})\n",
    "df2 = df2.rename(columns={'elevation': 'azimuth', 'azimuth': 'elevation'})\n",
    "df1['azimuth'] = df1['azimuth'] * 2 * np.pi / 360\n",
    "df1['elevation'] = df1['elevation'] * 2 * np.pi / 360\n",
    "df2['azimuth'] = df2['azimuth'] * 2 * np.pi / 360\n",
    "df2['elevation'] = df2['elevation'] * 2 * np.pi / 360\n",
    "\n",
    "\n",
    "design_mat1, pinv1, y1 = create_design_matrix(df1, telescopes, POPs)\n",
    "design_mat2, pinv2, y2 = create_design_matrix(df2, telescopes, POPs)\n",
    "\n",
    "(pinv1 @ y1 - pinv2 @ y2)[:15]"
   ]
  },
  {
   "cell_type": "code",
   "execution_count": 505,
   "id": "ad379a7c",
   "metadata": {},
   "outputs": [
    {
     "data": {
      "text/plain": [
       "array([ -91.42057031,  -68.23254331,   91.2033873 , -110.94321174,\n",
       "        -61.26181104,   37.52313408,  -74.89380674,  -98.41413307,\n",
       "         56.9408776 ,  -66.4073158 , -179.13541094,   49.5733487 ,\n",
       "         16.77670342,    0.30992387,   75.11194599])"
      ]
     },
     "execution_count": 505,
     "metadata": {},
     "output_type": "execute_result"
    }
   ],
   "source": [
    "# if we compare the solutions for the two different nights in November, we get:\n",
    "\n",
    "df1 = pd.read_csv('data/2012_all_v2.csv')\n",
    "df2 = pd.read_csv('data/2019_11_06.csv')\n",
    "\n",
    "#df1 = df1.rename(columns={'elevation': 'azimuth', 'azimuth': 'elevation'})\n",
    "df2 = df2.rename(columns={'elevation': 'azimuth', 'azimuth': 'elevation'})\n",
    "df1['azimuth'] = df1['azimuth'] * 2 * np.pi / 360\n",
    "df1['elevation'] = df1['elevation'] * 2 * np.pi / 360\n",
    "df2['azimuth'] = df2['azimuth'] * 2 * np.pi / 360\n",
    "df2['elevation'] = df2['elevation'] * 2 * np.pi / 360\n",
    "\n",
    "\n",
    "design_mat1, pinv1, y1 = create_design_matrix(df1, telescopes, POPs)\n",
    "design_mat2, pinv2, y2 = create_design_matrix(df2, telescopes, POPs)\n",
    "\n",
    "(pinv1 @ y1 - pinv2 @ y2)[:15]"
   ]
  },
  {
   "cell_type": "markdown",
   "id": "19a922c9",
   "metadata": {},
   "source": [
    "2. derive an uncertainty estimate using Singular Value Decomposition (SVD) of the design matrix to determine U, w and V.T matrixes using:\n",
    "\n",
    "$$\\sigma^2(\\theta_j) = \\sum_i \\left ( \\frac{V_{ji}}{w_i} \\right )^2 \\sigma^2_d$$\n",
    "\n",
    "Where $U, w, V$ come from the SVD. \n",
    "\n",
    "$\\sigma_d$ is the RMS error on the delay measurements, assumed to be the same for all measurements in a given fit. It can be found from the residuals in the data using a $\\chi^2$ distribution.\n",
    "\n",
    "$$\\chi^2 = \\sum_i \\frac{(\\text{Expected}_i - \\text{Observed}_i)^2}{\\text{Expected}_i}$$\n",
    "\n",
    "It is easy to see that the numerator is the residuals squared.\n",
    "\n",
    "We assume that $\\chi^2$ of the best-fit model is approximately equal to the number of degrees of freedom\n",
    " "
   ]
  },
  {
   "cell_type": "code",
   "execution_count": 506,
   "id": "91d49f8f",
   "metadata": {},
   "outputs": [],
   "source": [
    "residuals = y1 - design_mat1 @ (pinv1 @ y1)\n",
    "\n",
    "chi_sq = np.sum(residuals**2/y1)\n",
    "\n",
    "# chi-squared of the best-fit model \n",
    "sigma_d = np.sqrt(chi_sq)"
   ]
  },
  {
   "cell_type": "code",
   "execution_count": null,
   "id": "eaba143d",
   "metadata": {},
   "outputs": [],
   "source": [
    "U, w, Vt = np.linalg.svd(design_mat1)"
   ]
  },
  {
   "cell_type": "code",
   "execution_count": null,
   "id": "7aef2e29",
   "metadata": {},
   "outputs": [],
   "source": [
    "# for very small values of w_i we just say that 1/w_i = 0\n",
    "# small is N * eps times the maximum singular value, N is the number of data points and eps is the machine precision \n",
    "# we see that we are using numpy.float64\n",
    "type(w[0])"
   ]
  },
  {
   "cell_type": "code",
   "execution_count": null,
   "id": "3ed8d6e8",
   "metadata": {},
   "outputs": [],
   "source": [
    "# we can find the epsilon of this via \n",
    "eps = np.finfo(float).eps\n",
    "N = len(df1)\n",
    "\n",
    "# w is given as a vector in ascending order\n",
    "small = w[0] * N * eps\n",
    "small"
   ]
  },
  {
   "cell_type": "code",
   "execution_count": null,
   "id": "debd01b5",
   "metadata": {},
   "outputs": [],
   "source": [
    "# therefore the only singular values that we care about are... \n",
    "\n",
    "w_sig = w[w > small]"
   ]
  },
  {
   "cell_type": "code",
   "execution_count": null,
   "id": "89f7abeb",
   "metadata": {},
   "outputs": [],
   "source": [
    "np.sum((Vt.T[:,:32]/w_sig)**2 * sigma_d**2, axis=1)"
   ]
  },
  {
   "cell_type": "code",
   "execution_count": null,
   "id": "ad930f81",
   "metadata": {},
   "outputs": [],
   "source": [
    "w_sig.shape"
   ]
  },
  {
   "cell_type": "code",
   "execution_count": null,
   "id": "4a3941a7",
   "metadata": {},
   "outputs": [],
   "source": []
  }
 ],
 "metadata": {
  "kernelspec": {
   "display_name": "Python 3 (ipykernel)",
   "language": "python",
   "name": "python3"
  },
  "language_info": {
   "codemirror_mode": {
    "name": "ipython",
    "version": 3
   },
   "file_extension": ".py",
   "mimetype": "text/x-python",
   "name": "python",
   "nbconvert_exporter": "python",
   "pygments_lexer": "ipython3",
   "version": "3.9.6"
  }
 },
 "nbformat": 4,
 "nbformat_minor": 5
}
