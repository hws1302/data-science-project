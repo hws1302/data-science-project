{
 "cells": [
  {
   "cell_type": "markdown",
   "id": "b9b33078",
   "metadata": {},
   "source": [
    "# Part II Computing Project: Surveying using stars \n",
    "![test](https://www.chara.gsu.edu/files/images/chara_overview_figure.png) \n",
    "\n",
    "The Centre for High Angular Resolution Astronomy (CHARA) array is an optical inteferometer located one Mount Wilson in California. \n",
    "\n",
    "It consists of six telescopes that can be linked together, arranged in a Y shape with the distance between any two telescopes being unique. The setup is used to improve angular resolutions.\n",
    "\n",
    "### Physical theory\n",
    "\n",
    "#### Optical inteferometry\n",
    "\n",
    "The angular resolution of a telescope is the smallest angle between objects that can be seen to be seperate (the smaller the better). $\\text{angular resolution} \\propto 1/D$ where $D$ is the diameter of the telescope. Therefore, larger telescopes are favoured as they are better at resolving two objects. If you know how far away an object is and how large the features you are trying to observe are you can find the required diameter of the telescope. Often, the required diameter is far too large both practically and economically, this is where telescope arrays become useful. \n",
    "\n",
    "When using two telescopes together, the angular resolution is set by the distance between the telescopes and not the sizes of the individual telescopes. This means two telescopes that are distance $D$ apart have the same resolving capability (but not light collecting capability) as a larger continuous telescope of diameter $D$. \n",
    "\n",
    "**When using light from a single source such as a star, the light must have travelled an equal distance in each branch to interfere. HOW TO EXPLAIN? **\n",
    "\n",
    "#### Interferometry setup at CHARA\n",
    "\n",
    "\n",
    "![Image of Token](https://www.chara.gsu.edu/files/Tutorials/interferometer_basic.png) \n",
    "\n",
    "\n",
    "At CHARA, there are six telescopes of diameter 1m which can be pointed to different part of the sky. The light from these is sent down vacuum tubes to the central Beam Synthesis Facility. The path difference in the two beams has two contributing factors: \n",
    "\n",
    "**External delay** - Generally, the light from a star will arrive at one telescope before the other, as shown in figure X. This introduces a delay that is related to the inner product of the star vector and the baseline vector (the vector joining two telescopes). $\\hat{\\pmb{S}} \\cdot \\pmb{B}$ where $\\pmb{B} = \\pmb{r}_1 - \\pmb{r}_2$.\n",
    "\n",
    "**Internal delay** - The internal delay has three factors. a) the differing distance to the central beam synthesis facility, this is known as the \"constant term\" b) a mirror on a cart which is computer-controlled and can move with submicron accuracy c) a set of fixed mirrors that add in fixed delays of varying length called \"Pipes of Pans\" (POP) delays. \n",
    "\n",
    "This gives the overall equation\n",
    "\n",
    "$$\\hat{\\pmb{S}} \\cdot (\\pmb{r}_1 - \\pmb{r}_2) + d_1 - d_2 $$\n",
    "\n",
    "Which is equal to zero when the paths are of equal distance. When this is true, it is possible to split up the d term and present as below\n",
    "\n",
    "$$\\text{CART}_1 - \\text{CART}_2 = \\hat{\\pmb{S}} \\cdot (\\pmb{r}_1 - \\pmb{r}_2) + \\text{POP}_1 - \\text{POP}_2$$\n",
    "\n",
    "### Mathematical theory\n",
    "- How if we have a series of measurements and have an equation for each then we have a system of linear equations. This can be put into a matrix form where we are trying to find the model parameter, these are the vectors from some argbitrary origin which we can set as E1 and the pop settings\n",
    "- We have many more equations than unknowns meaning the problem is over determined, explain this with the graph example \n",
    "- Explain how we cannot have exact solution but we can give least squares in parameter space\n",
    "- Why don't we use something else instead of least squares? \n",
    "    - Happens to be the highest likelihood \n",
    "    - also gives linear derivative to solve which is nice \n",
    "    - why do outliers make such a big difference \n",
    "- Maybe give least absolute value a go!\n",
    "- Show the derivation that arrives at the pseudo inverse being the least squares\n",
    "- Pseudoinverse is the least squares problem to A^TA\n",
    "- How does the SVD fit into all of this???\n",
    "\n",
    "\n",
    "\n",
    "### How to implement with the dataset given \n",
    "\n",
    "For this task, we are given 5 sets of data. Each consists of a series of measurements (rows), at which the path difference has been equalised. Below is an example measurement.\n",
    "\n",
    "\n",
    "|    | utc                     | star   |   azimuth |   elevation | tel_1   | tel_2   | pop_1   | pop_2   |   cart_1 |   cart_2 |\n",
    "|---:|:------------------------|:-------|----------:|------------:|:--------|:--------|:--------|:--------|---------:|---------:|\n",
    "|  0 | 2019-04-07T03:18:25.000 | #93396 |   4.93762 |     1.27939 | W1      | W2      | P3B3    | P5B2    |  62.5857 |       80.0000 |\n",
    "\n",
    "From the previous section, it is known that each measurement corresponds to the equation \n",
    "\n",
    "$$\\text{CART}_1 - \\text{CART}_2 = \\hat{\\pmb{S}} \\cdot (\\pmb{r}_1 - \\pmb{r}_2) + \\text{POP}_1 - \\text{POP}_2$$\n",
    "\n",
    "If each measurement is converted into an equation we can form a matrix equation, as seen below. From here, common data science techniques may be used.\n",
    "\n",
    "$$\\pmb{y} = \\pmb{X} \\pmb{\\beta}$$\n",
    "\n",
    "Converting the measurments into a system of equations and then into a matrix equation is known as *pre-processing*. For the conversion of a row into an equation there are the following steps:\n",
    "\n",
    "1. Conversion of star direction unit vector, $\\hat{\\pmb{S}}$, from horizontal (azimuth, elevation) to Cartesian coordinates\n",
    "\n",
    "2. Find a way of representing the projection of the baseline onto the star vector\n",
    "\n",
    "3. Find a way of representing which POP setting is being used\n",
    "\n",
    "4. Get the output vector, $\\pmb{y}$, as the difference between the carts\n",
    "\n",
    "Lets go through these in order...\n",
    "\n",
    "**1.** the horizontal coordinates are related to Cartesians coordinates via the following equations \n",
    "\n",
    "<!-- \n",
    "![<img src=\"image.png\" width=\"250\"/>](https://upload.wikimedia.org/wikipedia/commons/thumb/f/f7/Azimuth-Altitude_schematic.svg/1200px-Azimuth-Altitude_schematic.svg.png) -->\n",
    "\n",
    "$$r = (x,y,z) = (\\cos\\theta \\sin\\phi, \\cos\\theta \\cos\\phi, \\sin\\theta)$$\n",
    "\n",
    "Columns of a DataFrame are vectorised, meaning the equation can be carried out on every line without any `for` loops\n",
    "\n",
    "Note, the transpose of the equation is taken, with `.T`, as originally there are three (2034,) vectors next to each other making the shape (3, 2034). Taking the transpose gets (2034,3) vector which is an array of 2034 3-vectors which is exactly what is wanted.\n",
    "\n",
    "**2.** we can represent the the telescope using *one-hot encoding*.\n",
    "\n",
    "In short, as we have categorical data, that cannot be assigned numerical values relative to each other (why). Therefore assigning a column for each unique model parameter is appropriate, as discussed above.\n",
    "\n",
    "In the case of the telescope this is a column for each of the three $(x,y,z)$ components. Although, we need 15 and not 18 of these columns as one telescopes is the origin (only the relative positions of telescopes can be found). \n",
    "\n",
    "Looking back at the equation which is to be constructed for each measurement, we see that both telescopes are dotted with the star unit vector and the second telescope (`tel_2`) is a negative. \n",
    "\n",
    "$$\\hat{\\pmb{S}} \\cdot (\\pmb{r}_{1} - \\pmb{r}_{2}) = S_x (r_{1,x} - r_{2,x}) + S_y (r_{1,y} - r_{2,y}) + S_z (r_{1,z} - r_{2,z})$$\n",
    "\n",
    "This means that every telescope that is present must be dotted with the star unit vector and that the second telescope must have a factor of $-1$.\n",
    "\n",
    "**3.** for the POP settings there are 30 different settings, $PXBY$ with $1 \\leq X \\leq 5$ and  $1 \\leq Y \\leq 6$. But, each setting is unique when used with each telescope. For example, $P1B3$ adds in a different amount of path length when used with $W1$ or $S2$. \n",
    "\n",
    "To create a general design matrix, each setting was allowed on each telescope i.e. 180 columns. Although this can be reduced massive if the dataset if first checked to see which POP settings each telescope uses and adjusting the number of columns accordingly. Though, compute was not not a limiting factor so this was left out.\n",
    "\n",
    "**4.** Finding the model output vector (i.e. the differnce between the two moveable carts) is trivial and especially simple due to the vectorisation of columns of DataFrames.\n",
    "\n",
    "We can create a function that for data with some telescopes and POP settings will create a design matrix of the appropriate size and populate it \n",
    "\n",
    "\n",
    "### SVD and pseudoinverse\n",
    "\n",
    "After having formed the matrix equation $y = X \\beta$, it is time to consider the problem at hand.\n",
    "\n",
    "- Problem is overdetermined\n",
    "\n",
    "\n",
    "### Data processing\n",
    "\n",
    "The elevation and the azimuth columns are the wrong way around for the four 2019 datasets. Also, it is nice to convert degrees to radians as this is the standard angle units for trigonometry in numpy.\n",
    "\n",
    "``` python\n",
    "\n",
    "df = pd.read_csv(\n",
    "    \"data/2019_04_07.csv\"\n",
    ") \n",
    "\n",
    "# correct the columns for 2019 datasets\n",
    "df = df.rename(columns={\"elevation\": \"azimuth\", \"azimuth\": \"elevation\"})\n",
    "\n",
    "# change to radians\n",
    "df[\"azimuth\"] = df[\"azimuth\"] * 2 * np.pi / 360\n",
    "df[\"elevation\"] = df[\"elevation\"] * 2 * np.pi / 360\n",
    "\n",
    "df.to_csv('data/2019_04_07.csv')\n",
    "\n",
    "```\n",
    "\n",
    "### Tasks\n"
   ]
  },
  {
   "cell_type": "markdown",
   "id": "7482b434",
   "metadata": {},
   "source": []
  },
  {
   "cell_type": "code",
   "execution_count": 9,
   "id": "e8ede8ca",
   "metadata": {},
   "outputs": [],
   "source": [
    "import pandas as pd\n",
    "import numpy as np\n",
    "import matplotlib.pyplot as plt"
   ]
  },
  {
   "cell_type": "code",
   "execution_count": 10,
   "id": "27ab4c68",
   "metadata": {},
   "outputs": [
    {
     "data": {
      "text/html": [
       "<div>\n",
       "<style scoped>\n",
       "    .dataframe tbody tr th:only-of-type {\n",
       "        vertical-align: middle;\n",
       "    }\n",
       "\n",
       "    .dataframe tbody tr th {\n",
       "        vertical-align: top;\n",
       "    }\n",
       "\n",
       "    .dataframe thead th {\n",
       "        text-align: right;\n",
       "    }\n",
       "</style>\n",
       "<table border=\"1\" class=\"dataframe\">\n",
       "  <thead>\n",
       "    <tr style=\"text-align: right;\">\n",
       "      <th></th>\n",
       "      <th>utc</th>\n",
       "      <th>star</th>\n",
       "      <th>azimuth</th>\n",
       "      <th>elevation</th>\n",
       "      <th>tel_1</th>\n",
       "      <th>tel_2</th>\n",
       "      <th>pop_1</th>\n",
       "      <th>pop_2</th>\n",
       "      <th>cart_1</th>\n",
       "      <th>cart_2</th>\n",
       "      <th>year</th>\n",
       "      <th>month</th>\n",
       "      <th>day</th>\n",
       "    </tr>\n",
       "  </thead>\n",
       "  <tbody>\n",
       "    <tr>\n",
       "      <th>0</th>\n",
       "      <td>2019-04-07T03:18:25.000</td>\n",
       "      <td>#93396</td>\n",
       "      <td>4.937621</td>\n",
       "      <td>1.279389</td>\n",
       "      <td>W1</td>\n",
       "      <td>W2</td>\n",
       "      <td>P3B3</td>\n",
       "      <td>P5B2</td>\n",
       "      <td>62.585687</td>\n",
       "      <td>80.000000</td>\n",
       "      <td>2019</td>\n",
       "      <td>4</td>\n",
       "      <td>7</td>\n",
       "    </tr>\n",
       "    <tr>\n",
       "      <th>1</th>\n",
       "      <td>2019-04-07T03:18:25.000</td>\n",
       "      <td>#93396</td>\n",
       "      <td>4.937621</td>\n",
       "      <td>1.279389</td>\n",
       "      <td>S2</td>\n",
       "      <td>W1</td>\n",
       "      <td>P2B4</td>\n",
       "      <td>P3B3</td>\n",
       "      <td>39.085558</td>\n",
       "      <td>62.585687</td>\n",
       "      <td>2019</td>\n",
       "      <td>4</td>\n",
       "      <td>7</td>\n",
       "    </tr>\n",
       "    <tr>\n",
       "      <th>2</th>\n",
       "      <td>2019-04-07T03:18:29.000</td>\n",
       "      <td>#93396</td>\n",
       "      <td>4.937605</td>\n",
       "      <td>1.279153</td>\n",
       "      <td>W1</td>\n",
       "      <td>W2</td>\n",
       "      <td>P3B3</td>\n",
       "      <td>P5B2</td>\n",
       "      <td>62.610570</td>\n",
       "      <td>80.000000</td>\n",
       "      <td>2019</td>\n",
       "      <td>4</td>\n",
       "      <td>7</td>\n",
       "    </tr>\n",
       "    <tr>\n",
       "      <th>3</th>\n",
       "      <td>2019-04-07T03:18:34.000</td>\n",
       "      <td>#93396</td>\n",
       "      <td>4.937586</td>\n",
       "      <td>1.278860</td>\n",
       "      <td>W1</td>\n",
       "      <td>W2</td>\n",
       "      <td>P3B3</td>\n",
       "      <td>P5B2</td>\n",
       "      <td>62.641690</td>\n",
       "      <td>80.000000</td>\n",
       "      <td>2019</td>\n",
       "      <td>4</td>\n",
       "      <td>7</td>\n",
       "    </tr>\n",
       "    <tr>\n",
       "      <th>4</th>\n",
       "      <td>2019-04-07T03:32:01.000</td>\n",
       "      <td>#93396</td>\n",
       "      <td>4.937428</td>\n",
       "      <td>1.231426</td>\n",
       "      <td>S2</td>\n",
       "      <td>W1</td>\n",
       "      <td>P2B4</td>\n",
       "      <td>P3B3</td>\n",
       "      <td>43.169167</td>\n",
       "      <td>76.216268</td>\n",
       "      <td>2019</td>\n",
       "      <td>4</td>\n",
       "      <td>7</td>\n",
       "    </tr>\n",
       "  </tbody>\n",
       "</table>\n",
       "</div>"
      ],
      "text/plain": [
       "                       utc    star   azimuth  elevation tel_1 tel_2 pop_1  \\\n",
       "0  2019-04-07T03:18:25.000  #93396  4.937621   1.279389    W1    W2  P3B3   \n",
       "1  2019-04-07T03:18:25.000  #93396  4.937621   1.279389    S2    W1  P2B4   \n",
       "2  2019-04-07T03:18:29.000  #93396  4.937605   1.279153    W1    W2  P3B3   \n",
       "3  2019-04-07T03:18:34.000  #93396  4.937586   1.278860    W1    W2  P3B3   \n",
       "4  2019-04-07T03:32:01.000  #93396  4.937428   1.231426    S2    W1  P2B4   \n",
       "\n",
       "  pop_2     cart_1     cart_2  year  month  day  \n",
       "0  P5B2  62.585687  80.000000  2019      4    7  \n",
       "1  P3B3  39.085558  62.585687  2019      4    7  \n",
       "2  P5B2  62.610570  80.000000  2019      4    7  \n",
       "3  P5B2  62.641690  80.000000  2019      4    7  \n",
       "4  P3B3  43.169167  76.216268  2019      4    7  "
      ]
     },
     "execution_count": 10,
     "metadata": {},
     "output_type": "execute_result"
    }
   ],
   "source": [
    "df = pd.read_csv(\"data/2019_04_07.csv\")\n",
    "\n",
    "df.head()"
   ]
  },
  {
   "cell_type": "code",
   "execution_count": null,
   "id": "958979bb",
   "metadata": {},
   "outputs": [],
   "source": []
  },
  {
   "cell_type": "markdown",
   "id": "2e187e0d",
   "metadata": {},
   "source": [
    "Converting the measureents into a system of equations and then into a matrix equation is known as *pre-processing*. For the conversion into equation there are the follwoing considerations:\n",
    "\n",
    "1. Conversion of star direction unit vector, $\\hat{\\pmb{S}}$, from horizontal (azimuth, elevation) to Cartesian coordinates\n",
    "\n",
    "2. Find a way of representing the projection of the baseline onto the star vector\n",
    "\n",
    "3. Find a way of representing which POP setting is being used\n",
    "\n",
    "4. Get the output vector, $\\pmb{y}$, as the difference between the carts\n",
    "\n",
    "Lets go through these in order...\n",
    "\n",
    "**1.** the horizontal coordinates are related to Cartesians coordinates via the following equations \n",
    "\n",
    "![](https://upload.wikimedia.org/wikipedia/commons/thumb/f/f7/Azimuth-Altitude_schematic.svg/1200px-Azimuth-Altitude_schematic.svg.png =200x)\n",
    "\n",
    "$$r = (x,y,z) = (\\cos\\theta \\sin\\phi, \\cos\\theta \\cos\\phi, \\sin\\theta)$$\n",
    "\n",
    "Columns of a DataFrame are vectorised, meaning the equation can be carried out on every line without any `for` loops"
   ]
  },
  {
   "cell_type": "code",
   "execution_count": 11,
   "id": "9e3d7efd",
   "metadata": {},
   "outputs": [
    {
     "data": {
      "text/plain": [
       "(2034, 3)"
      ]
     },
     "execution_count": 11,
     "metadata": {},
     "output_type": "execute_result"
    }
   ],
   "source": [
    "theta = df.elevation\n",
    "phi = df.azimuth\n",
    "\n",
    "S_vector = lambda theta, phi: np.array(\n",
    "    [np.cos(theta) * np.sin(phi), np.cos(theta) * np.cos(phi), np.sin(theta)]\n",
    ").T\n",
    "\n",
    "S = S_vector(theta, phi)\n",
    "\n",
    "S.shape"
   ]
  },
  {
   "cell_type": "markdown",
   "id": "f58362b1",
   "metadata": {},
   "source": [
    "Note, the transpose of the equation is taken, with `.T`, as originally there are three (2034,) vectors next to each other making the shape (3, 2034). Taking the transpose gets (2034,3) vector which is an array of 2034 3-vectors which is exactly what is wanted.\n",
    "\n",
    "**2.** we can represent the the telescope using *one-hot encoding*.\n",
    "\n",
    "In short, as we have categorical data, that cannot be assigned numerical values relative to each other (why). Therefore assigning a column for each unique model parameter is appropriate, as discussed above.\n",
    "\n",
    "In the case of the telescope this is a column for each of the three $(x,y,z)$ components. Although, we need 15 and not 18 of these columns as one telescopes is the origin (only the relative positions of telescopes can be found). \n",
    "\n",
    "Looking back at the equation which is to be constructed for each measurement, we see that both telescopes are dotted with the star unit vector and the second telescope (`tel_2`) is a negative. \n",
    "\n",
    "$$\\hat{\\pmb{S}} \\cdot (\\pmb{r}_{1} - \\pmb{r}_{2}) = S_x (r_{1,x} - r_{2,x}) + S_y (r_{1,y} - r_{2,y}) + S_z (r_{1,z} - r_{2,z})$$\n",
    "\n",
    "This means that every telescope that is present must be dotted with the star unit vector and that the second telescope must have a factor of $-1$.\n",
    "\n",
    "**3.** for the POP settings there are 30 different settings, $PXBY$ with $1 \\leq X \\leq 5$ and  $1 \\leq Y \\leq 6$. But, each setting is unique when used with each telescope. For example, $P1B3$ adds in a different amount of path length when used with $W1$ or $S2$. \n",
    "\n",
    "To create a general design matrix, each setting was allowed on each telescope i.e. 180 columns. Although this can be reduced massive if the dataset if first checked to see which POP settings each telescope uses and adjusting the number of columns accordingly. Though, compute was not not a limiting factor so this was left out.\n",
    "\n",
    "**4.** Finding the model output vector (i.e. the differnce between the two moveable carts) is trivial and especially simple due to the vectorisation of columns of DataFrames.\n",
    "\n",
    "We can create a function that for data with some telescopes and POP settings will create a design matrix of the appropriate size and populate it \n",
    "\n",
    "### Anaylsis on a single night"
   ]
  },
  {
   "cell_type": "code",
   "execution_count": 12,
   "id": "84bd49c7",
   "metadata": {},
   "outputs": [],
   "source": [
    "def create_design_mat(df, tot_width=False):\n",
    "    \"\"\"\n",
    "    Completes the preprocessing of DataFrame to create the design matrix for telescope position problem \n",
    "    \n",
    "    \"\"\"\n",
    "\n",
    "    # ea. row must contain (x, y, z) for ea. telescope (except E1, the zero point)\n",
    "    # and all 30 POP settings for ea. telescope\n",
    "    \n",
    "    telescopes = [\"E1\", \"W2\", \"W1\", \"S2\", \"S1\", \"E2\"]\n",
    "    theta = df.elevation\n",
    "    phi = df.azimuth\n",
    "    S = S_vector(theta, phi)\n",
    "    k = 0\n",
    "    \n",
    "    tot_unique_pops = []\n",
    "    \n",
    "    width = 15\n",
    "\n",
    "    for telescope in telescopes: \n",
    "\n",
    "        pop_tel_1 = df[df.tel_1 == telescope].pop_1\n",
    "        pop_tel_2 = df[df.tel_2 == telescope].pop_2\n",
    "        tel_1_unique_pops = np.unique(pop_tel_2)\n",
    "        tel_2_unique_pops = np.unique(pop_tel_1)\n",
    "        tel_unique_pops = np.union1d(tel_1_unique_pops, tel_2_unique_pops)\n",
    "        tot_unique_pops.append(tel_unique_pops)\n",
    "        width += len(tel_unique_pops)\n",
    "    \n",
    "    if tot_width: width = 195\n",
    "        \n",
    "    design_mat = np.zeros((len(df), width))\n",
    "\n",
    "    for i, telescope in enumerate(telescopes):\n",
    "\n",
    "        # for ea. new telescope must jump 3 places for (x, y, z)\n",
    "\n",
    "        if telescope != \"E1\":  # keep 'E1' as the zero point\n",
    "\n",
    "            design_mat[:, 3*  i - 3: 3 + 3 * i - 3] += S * np.where(\n",
    "                df[\"tel_1\"] == telescope, 1, 0\n",
    "            ).reshape(-1, 1)\n",
    "            design_mat[:, 3 * i - 3: 3 + 3 * i - 3] -= S * np.where(\n",
    "                df[\"tel_2\"] == telescope, 1, 0\n",
    "            ).reshape(-1, 1)\n",
    "\n",
    "        for pop in tot_unique_pops[i]:\n",
    "            \n",
    "            # not working because E1 isn't in the list of telescopes\n",
    "            design_mat[:, 15 + k] += np.where(\n",
    "                (df[\"pop_1\"] == pop) & (df[\"tel_1\"] == telescope), 1, 0\n",
    "            )  # add when it is tel_1\n",
    "            design_mat[:, 15 + k] -= np.where(\n",
    "                (df[\"pop_2\"] == pop) & (df[\"tel_2\"] == telescope), 1, 0\n",
    "            )  # subtract when it is the tel_2\n",
    "            \n",
    "            k += 1 \n",
    "\n",
    "    y = df[\"cart_2\"].values - df[\"cart_1\"].values\n",
    "\n",
    "    pinv = np.linalg.pinv(design_mat)\n",
    "    \n",
    "    beta = pinv @ y\n",
    "\n",
    "    return design_mat, pinv, y, beta "
   ]
  },
  {
   "cell_type": "code",
   "execution_count": 13,
   "id": "d304f712",
   "metadata": {},
   "outputs": [],
   "source": [
    "class DesignMatrix:\n",
    "    \n",
    "    def __init__(self, df):\n",
    "        self.df = df\n",
    "        #self.telescopes = [\"E1\", \"W2\", \"W1\", \"S2\", \"S1\", \"E2\"]\n",
    "        self.design_mat = self.init_design_mat(self.df)\n",
    "        self.populate_design_mat(self.df)\n",
    "        self.pinv = np.linalg.pinv(self.design_mat)\n",
    "        self.y = self.df.cart_2 - self.df.cart_1\n",
    "        self.beta = self.pinv @ self.y \n",
    "        \n",
    "    \n",
    "    def init_design_mat(self, df):\n",
    "    \n",
    "        tot_unique_pops = []\n",
    "\n",
    "        width = 15\n",
    "\n",
    "        for telescope in telescopes: \n",
    "\n",
    "            pop_tel_1 = df[df.tel_1 == telescope].pop_1\n",
    "            pop_tel_2 = df[df.tel_2 == telescope].pop_2\n",
    "            tel_1_unique_pops = np.unique(pop_tel_2)\n",
    "            tel_2_unique_pops = np.unique(pop_tel_1)\n",
    "            tel_unique_pops = np.union1d(tel_1_unique_pops, tel_2_unique_pops)\n",
    "            tot_unique_pops.append(tel_unique_pops)\n",
    "            width += len(tel_unique_pops)\n",
    "            \n",
    "        return np.zeros((len(df), width))\n",
    "\n",
    "    def populate_design_mat(self, df):\n",
    "        \n",
    "        k = 0 \n",
    "        \n",
    "        for i, telescope in enumerate(telescopes):\n",
    "\n",
    "        # for ea. new telescope must jump 3 places for (x, y, z)\n",
    "\n",
    "            if telescope != \"E1\":  # keep 'E1' as the zero point\n",
    "\n",
    "                self.design_mat[:, 3*  i - 3: 3 + 3 * i - 3] += S * np.where(\n",
    "                    df[\"tel_1\"] == telescope, 1, 0\n",
    "                ).reshape(-1, 1)\n",
    "                self.design_mat[:, 3 * i - 3: 3 + 3 * i - 3] -= S * np.where(\n",
    "                    df[\"tel_2\"] == telescope, 1, 0\n",
    "                ).reshape(-1, 1)\n",
    "\n",
    "            for pop in tot_unique_pops[i]:\n",
    "\n",
    "                # not working because E1 isn't in the list of telescopes\n",
    "                self.design_mat[:, 15 + k] += np.where(\n",
    "                    (df[\"pop_1\"] == pop) & (df[\"tel_1\"] == telescope), 1, 0\n",
    "                )  # add when it is tel_1\n",
    "                self.design_mat[:, 15 + k] -= np.where(\n",
    "                    (df[\"pop_2\"] == pop) & (df[\"tel_2\"] == telescope), 1, 0\n",
    "                )  # subtract when it is the tel_2\n",
    "\n",
    "                k += 1\n",
    "\n",
    "        return design_mat"
   ]
  },
  {
   "cell_type": "code",
   "execution_count": 14,
   "id": "39fe3a65",
   "metadata": {},
   "outputs": [
    {
     "data": {
      "text/plain": [
       "array([194.43260791, 106.59897763,  -6.37520967, 300.40862676,\n",
       "        89.60984578,   4.88053282, 131.08378955, 272.35384145,\n",
       "        -6.54767727, 125.33690067, 305.93267805,  -5.90805154,\n",
       "        54.94397029,  36.20990241,  -3.10685717, -33.69599514,\n",
       "        39.42499446,  76.01261543, 109.32471943, -57.87517036,\n",
       "       -93.58353866, -57.01055172, -20.47425207,  49.43084043,\n",
       "       -45.1711    ,  27.98658986,  61.29638686, -50.04640328,\n",
       "        23.08222719,  59.67810005,  92.98913396, -97.0195406 ,\n",
       "       -60.44193973, -23.90711611])"
      ]
     },
     "execution_count": 14,
     "metadata": {},
     "output_type": "execute_result"
    }
   ],
   "source": [
    "\n",
    "df = pd.read_csv(\n",
    "    \"data/2019_04_07.csv\"\n",
    ")  \n",
    "\n",
    "design_mat, pinv, y, beta = create_design_mat(df)\n",
    "y - design_mat @ beta\n",
    "\n",
    "beta"
   ]
  },
  {
   "cell_type": "markdown",
   "id": "df5fc548",
   "metadata": {},
   "source": [
    "### Error analysis\n",
    "\n",
    "We can repeat the process for the other three nights given in 2019, finding estimates for the model parameters in each case. This helps to see if there is any evidene for the telescopes moving due to seasonal effects.\n",
    "\n",
    "There are then two way to estimate the uncertainties for each month \n",
    "1. compare the solutions on two different nights in the same month and use the variation between the solutions to esitmate the solution uncertainty \n",
    "2. derive an uncertainty estimate using Singular Value Decomposition (SVD) of the design matrix to determine U, w and V.T matrixes using:\n",
    "\n",
    "$$\\sigma^2(\\theta_j) = \\sum_i \\left ( \\frac{V_{ji}}{w_i} \\right )^2 \\sigma^2_d$$\n",
    "\n",
    "\n",
    "**1.** looking at the difference in the baseline values over different nights in the same month"
   ]
  },
  {
   "cell_type": "code",
   "execution_count": 15,
   "id": "e6e95414",
   "metadata": {},
   "outputs": [
    {
     "data": {
      "text/plain": [
       "array([ 1.07474007e-03,  1.54198054e-04, -6.34205597e-03, -7.23506990e-04,\n",
       "        9.46750323e-04, -7.39589303e-03,  7.76466449e-04,  5.94120409e-04,\n",
       "       -5.10380483e-03,  9.04768143e-04,  3.68108612e-04,  2.96045234e-05,\n",
       "        5.50812274e-03, -8.61702611e-03,  4.23875779e-03])"
      ]
     },
     "execution_count": 15,
     "metadata": {},
     "output_type": "execute_result"
    }
   ],
   "source": [
    "# two nights in April \n",
    "\n",
    "df_04_07 = pd.read_csv('data/2019_04_07.csv')\n",
    "df_04_08 = pd.read_csv('data/2019_04_08.csv')\n",
    "\n",
    "design_mat_04_07, pinv_04_07, y_04_07, beta_04_07 = create_design_mat(df_04_07, tot_width=True)\n",
    "design_mat_04_08, pinv_04_08, y_04_08, beta_04_08 = create_design_mat(df_04_08, tot_width=True)\n",
    "\n",
    "error_04 = (beta_04_07 - beta_04_08)[:15]\n",
    "\n",
    "error_04"
   ]
  },
  {
   "cell_type": "code",
   "execution_count": 16,
   "id": "bc2d4edf",
   "metadata": {},
   "outputs": [],
   "source": [
    "# two nights in November\n",
    "\n",
    "df_11_05 = pd.read_csv('data/2019_11_05.csv')\n",
    "df_11_06 = pd.read_csv('data/2019_11_06.csv')\n",
    "\n",
    "design_mat_11_05, pinv_11_05, y_11_05, beta_11_05 = create_design_mat(df_11_05, tot_width=True)\n",
    "design_mat_11_06, pinv_11_06, y_11_06, beta_11_06 = create_design_mat(df_11_06, tot_width=True)\n",
    "\n",
    "error_11 = (beta_11_05 - beta_11_06)[:15]"
   ]
  },
  {
   "cell_type": "code",
   "execution_count": 17,
   "id": "dcb0c13a",
   "metadata": {},
   "outputs": [
    {
     "data": {
      "text/plain": [
       "-0.002098624582330085"
      ]
     },
     "execution_count": 17,
     "metadata": {},
     "output_type": "execute_result"
    }
   ],
   "source": [
    "np.mean((beta_11_05 - beta_04_07)[:12])"
   ]
  },
  {
   "cell_type": "markdown",
   "id": "9451d5cc",
   "metadata": {},
   "source": [
    "We see that the error uncertainty between nights of the same month is "
   ]
  },
  {
   "cell_type": "code",
   "execution_count": 18,
   "id": "f58e375b",
   "metadata": {},
   "outputs": [
    {
     "data": {
      "text/plain": [
       "0.07346718478015823"
      ]
     },
     "execution_count": 18,
     "metadata": {},
     "output_type": "execute_result"
    }
   ],
   "source": [
    "1.590712380243532e-05\n",
    "\n",
    "loc_actual = np.array([\n",
    "    #[0,0,0], # E1\n",
    "    [194.451, 106.618, - 6.318], # W2\n",
    "    [300.442, 89.639, 4.954], # W1\n",
    "    [131.120, 272.382, -6.508], # S2\n",
    "    [125.371, 305.963, -5.865], # S1\n",
    "    [54.970, 36.246, -3.077], # E2\n",
    "])\n",
    "\n",
    "loc_actual = loc_actual.reshape(-1,15)\n",
    "np.max(loc_actual - (beta_04_07)[:15])\n",
    "# max deviation from results was 7cm! that is a lot"
   ]
  },
  {
   "cell_type": "markdown",
   "id": "2b375643",
   "metadata": {},
   "source": [
    "No measurements were taken with the E2 telescope on the two November nights for which the data was given, so we cannot predict its baseline\n",
    "\n",
    "**2.** Now using the formula to work out via SVD \n",
    "\n",
    "(why are we allowed to remove singular values)\n",
    "\n",
    "where 𝜎𝑑 is the RMS error on the delay measurements, assumed to be the same for all measurements in a given fit. Remember to check for particularly small values of the singular values 𝑤𝑖corresponding to degeneracies, and replace 1/𝑤𝑖 with zero in these cases. Small is usually defined as around 𝑁 𝜖 times the maximum singular value where 𝑁 is the number of data poinand 𝜖 is the machine precision.You can estimate 𝜎𝑑 from the residuals in your data, assuming that 𝜒2 of the best‑fit model approximately equal to the number of degrees of freedom\n",
    "\n",
    "For error propagation we have:\n",
    "\n",
    "$$B^2 = B_x^2 + B_y^2 + B_z^2 $$\n",
    " \n",
    "Therefore, $\\frac{\\Delta B^2}{B^2} = \\frac{\\Delta B_x^2}{B_x^2} + \\frac{\\Delta B_y^2}{B_y^2} + \\frac{\\Delta B_z^2}{B_z^2}$ and for $\\frac{\\Delta A^2}{A^2} = 2\\frac{\\Delta A}{A}$. Therefore:\n",
    "\n",
    "$$\\frac{\\Delta B}{B} = \\frac{\\Delta B_x}{B_x} + \\frac{\\Delta B_y}{B_y} + \\frac{\\Delta B_z}{B_z} $$"
   ]
  },
  {
   "cell_type": "code",
   "execution_count": 19,
   "id": "8e56f7e1",
   "metadata": {},
   "outputs": [
    {
     "data": {
      "text/plain": [
       "0.0001553947214183591"
      ]
     },
     "execution_count": 19,
     "metadata": {},
     "output_type": "execute_result"
    }
   ],
   "source": [
    "# the delay measurements (y) have an rms error given by the model \n",
    "sigma_d = np.sqrt(np.sum( (y_04_07 - design_mat_04_07 @ (beta_04_07))**2 )/len(df_04_07))\n",
    "\n",
    "sigma_d"
   ]
  },
  {
   "cell_type": "code",
   "execution_count": 20,
   "id": "9de46726",
   "metadata": {},
   "outputs": [],
   "source": [
    "U, w, Vt = np.linalg.svd(design_mat_04_07)"
   ]
  },
  {
   "cell_type": "code",
   "execution_count": 21,
   "id": "a48c58ba",
   "metadata": {},
   "outputs": [
    {
     "data": {
      "text/plain": [
       "1.984114107562424e-11"
      ]
     },
     "execution_count": 21,
     "metadata": {},
     "output_type": "execute_result"
    }
   ],
   "source": [
    "eps = np.finfo(type(w[0])).eps\n",
    "N = len(df)\n",
    "\n",
    "# w is given as a vector in ascending order\n",
    "small = w[0] * N * eps\n",
    "small"
   ]
  },
  {
   "cell_type": "code",
   "execution_count": 22,
   "id": "263215bc",
   "metadata": {},
   "outputs": [
    {
     "data": {
      "text/plain": [
       "numpy.float64"
      ]
     },
     "execution_count": 22,
     "metadata": {},
     "output_type": "execute_result"
    }
   ],
   "source": [
    "type(w[0])"
   ]
  },
  {
   "cell_type": "code",
   "execution_count": 23,
   "id": "e479116d",
   "metadata": {},
   "outputs": [],
   "source": [
    "w = w[w > small]"
   ]
  },
  {
   "cell_type": "code",
   "execution_count": 24,
   "id": "df49e58b",
   "metadata": {},
   "outputs": [
    {
     "data": {
      "text/plain": [
       "(195, 33)"
      ]
     },
     "execution_count": 24,
     "metadata": {},
     "output_type": "execute_result"
    }
   ],
   "source": [
    "# we are summing over the columns therefore need to truncate V slightly \n",
    "\n",
    "Vt = Vt[:, :len(w)]\n",
    "Vt.shape"
   ]
  },
  {
   "cell_type": "code",
   "execution_count": 25,
   "id": "0f24007d",
   "metadata": {},
   "outputs": [
    {
     "data": {
      "text/plain": [
       "array([1.21816468e-04, 5.88525019e-05, 1.90872704e-04, 2.88510557e-04,\n",
       "       2.52565802e-04, 2.78769979e-04, 3.08752832e-04, 1.87223130e-03,\n",
       "       5.36431260e-04, 1.65169724e-03])"
      ]
     },
     "execution_count": 25,
     "metadata": {},
     "output_type": "execute_result"
    }
   ],
   "source": [
    "sigma = np.sqrt(np.sum((Vt/w)**2, axis=1) * sigma_d**2)\n",
    "\n",
    "sigma[:10]"
   ]
  },
  {
   "cell_type": "code",
   "execution_count": 26,
   "id": "87134222",
   "metadata": {},
   "outputs": [],
   "source": [
    "def svd_uncertainty(df, design_mat, y, beta):\n",
    "    \n",
    "    residuals = y - design_mat @ (beta)\n",
    "    \n",
    "    sigma_d = np.sqrt(np.sum( residuals**2 )/ len(df))\n",
    "    \n",
    "    U, w, Vt = np.linalg.svd(design_mat)\n",
    "    \n",
    "    eps = np.finfo(type(w[0])).eps\n",
    "    N = len(df)\n",
    "\n",
    "    # w is given as a vector in ascending order\n",
    "    small = w[0] * N * eps\n",
    "    w = w[w > small]\n",
    "    \n",
    "    # remove eigenvetors orresponding to the small singular values\n",
    "    Vt = Vt[:, :len(w)]\n",
    "    Vt.shape\n",
    "    \n",
    "    sigma = np.sqrt(np.sum((Vt/w)**2, axis=1) * sigma_d**2)\n",
    "    \n",
    "    return sigma   "
   ]
  },
  {
   "cell_type": "markdown",
   "id": "7c1865b1",
   "metadata": {},
   "source": [
    "Now must add error bars to the measurements that have been taken for the 15 baselines between the telescopes in April vs November. "
   ]
  },
  {
   "cell_type": "code",
   "execution_count": 27,
   "id": "1750fd16",
   "metadata": {},
   "outputs": [],
   "source": [
    "# i.e. lets see what the errors for W1 to W2 these are the 2nd and 1st baseline vetors \n",
    "# we have the errors for each model parameter which must be added in quadrature\n",
    "\n",
    "beta_04_07[:3]\n",
    "sigma_04_07 = svd_uncertainty(df_04_07, design_mat_04_07, y_04_07, beta_04_07)\n",
    "\n",
    "beta_04_08[:3]\n",
    "sigma_04_08 = svd_uncertainty(df_04_08, design_mat_04_08, y_04_08, beta_04_08)\n",
    "\n",
    "beta_11_05[:3]\n",
    "sigma_11_05 = svd_uncertainty(df_11_05, design_mat_11_05, y_11_05, beta_11_05)\n",
    "\n",
    "beta_11_06[:3]\n",
    "sigma_11_06 = svd_uncertainty(df_11_06, design_mat_11_06, y_11_06, beta_11_06)"
   ]
  },
  {
   "cell_type": "code",
   "execution_count": 28,
   "id": "568c0d54",
   "metadata": {},
   "outputs": [
    {
     "data": {
      "text/plain": [
       "(89.6, 89.61)"
      ]
     },
     "execution_count": 28,
     "metadata": {},
     "output_type": "execute_result"
    },
    {
     "data": {
      "image/png": "[encoded data removed]",
      "text/plain": [
       "<Figure size 432x288 with 1 Axes>"
      ]
     },
     "metadata": {
      "needs_background": "light"
     },
     "output_type": "display_data"
    }
   ],
   "source": [
    "#errors = np.array([sigma_04_07[0],sigma_04_08[0],sigma_11_05[0],sigma_11_06[0]])\n",
    "value = 4\n",
    "\n",
    "errors = np.array([error_04[value], error_04[value], error_11[0], error_11[value]])\n",
    "\n",
    "\n",
    "plt.bar([0,1,2,3], [beta_04_07[value],beta_04_08[value],beta_11_05[value],beta_11_06[value]], yerr=errors)\n",
    "plt.ylim(89.6,89.610)"
   ]
  },
  {
   "cell_type": "code",
   "execution_count": 29,
   "id": "3a9dd77d",
   "metadata": {},
   "outputs": [
    {
     "data": {
      "text/plain": [
       "0.0004983319578766299"
      ]
     },
     "execution_count": 29,
     "metadata": {},
     "output_type": "execute_result"
    }
   ],
   "source": [
    "beta_04_07[5] - beta_11_05[5]\n",
    "# 0.5mm, 1.6mm, 0.4mm"
   ]
  },
  {
   "cell_type": "code",
   "execution_count": 30,
   "id": "a228362f",
   "metadata": {},
   "outputs": [
    {
     "data": {
      "text/plain": [
       "array([0.02753052, 0.01330067, 0.04313723, 0.06520339, 0.05707987,\n",
       "       0.06300202, 0.06977814, 0.42312427, 0.12123346, 0.37328358,\n",
       "       0.42336911, 0.47118295, 0.10409213, 0.43360731, 1.09483252])"
      ]
     },
     "execution_count": 30,
     "metadata": {},
     "output_type": "execute_result"
    }
   ],
   "source": [
    "sigma_04_07[:15] * 226"
   ]
  },
  {
   "cell_type": "code",
   "execution_count": 31,
   "id": "ed74f735",
   "metadata": {},
   "outputs": [
    {
     "data": {
      "text/plain": [
       "array([1.27448340e-05, 2.28583070e-05, 3.20448415e-05, 4.25731626e-05,\n",
       "       3.31646782e-05, 2.53079216e-05, 1.39571145e-05, 2.38703913e-05,\n",
       "       2.47689162e-05, 2.74340804e-05, 1.21450230e-05, 1.47944618e-05,\n",
       "       4.19223561e-05, 1.61253495e-05, 1.07451347e-05])"
      ]
     },
     "execution_count": 31,
     "metadata": {},
     "output_type": "execute_result"
    }
   ],
   "source": [
    "sigma_11_05[:15] "
   ]
  },
  {
   "cell_type": "markdown",
   "id": "46b91761",
   "metadata": {},
   "source": [
    "#### Pseudoinverse as minimisation of the 2-norm \n",
    "\n",
    "$y= Xb$ only has solutions for square matrices. Though we can minimise wrt 2-norm \n",
    "\n",
    "$$min || A\\hat{b} - y || _2$$\n",
    "\n",
    "$$r(\\hat{b}) = || A\\hat{b} - y ||_2 ^2 = (A\\hat{b} - y)^T(A\\hat{b} -y)$$\n",
    "\n",
    "$$ = \\hat{b}^TA^TA\\hat{b} - \\hat{b}^TA^Ty - y^TA\\hat{b} +y^Ty $$\n",
    "\n",
    "$$\\frac{dr(\\hat{b}+\\epsilon v)}{d\\epsilon} = \\frac{d((\\hat{b}+\\epsilon v)^TA^TA(\\hat{b}+\\epsilon v) - (\\hat{b}+\\epsilon v)^T A^T y - y^TA(\\hat{b} + \\epsilon v) +y^Ty)}{d\\epsilon} $$\n",
    "\n",
    "$$ = \\hat{b}A^TAv + v^TA^TA\\hat{b}- v^T A^T y - y^TAv$$\n",
    "\n",
    "$$ = v^T (\\hat{b}A^TAv - A^T y) + (v^T(A^TA\\hat{b} - A^Ty ))^T$$\n",
    "\n",
    "Therefore we see that the solution to the least squares problem is \n",
    "\n",
    "$$ A^T A \\hat{b} = A^T y $$\n",
    "\n",
    "So the pseudoinverse (the matrix that best doesn the job of an inverse is)\n",
    "\n",
    "$$ \\hat{b} = (A^T A)^{-1} A^T y = A^+ y$$\n",
    "\n",
    "The pseudoinverse is also unique as it is... \n",
    "\n",
    "\\begin{equation}\n",
    "    A^+ = (A^*A)^{-1}A^* \\\\\n",
    "    =(V\\Sigma U^*U\\Sigma V^*)^{-1} V\\Sigma U^* \\\\\n",
    "    =(V\\Sigma^2 V^*)^{-1} V\\Sigma U^* \\\\\n",
    "    =(V^*)^{-1} \\Sigma^{-2} V^{-1} V\\Sigma U^* \\\\\n",
    "    = V \\Sigma^{-2}\\Sigma U^* \\\\\n",
    "    = V\\Sigma^{-1}U^*\n",
    "\\end{equation}\n",
    "\n",
    "\n",
    "#### Visualisation of overdetermined \n",
    "- give examples of 3 equations and 2 unknowns\n",
    "- Show how the pseudoinverse gives leastsquares\n",
    "- explain the usual way as minimising squares in output space \n",
    "- but this is showing least squares in parameter space \n",
    "- also maybe talk about linear regression generally and explain how we have intercept without the one that is usually seen "
   ]
  },
  {
   "cell_type": "code",
   "execution_count": 32,
   "id": "d6a64260",
   "metadata": {},
   "outputs": [
    {
     "data": {
      "text/plain": [
       "0.0"
      ]
     },
     "execution_count": 32,
     "metadata": {},
     "output_type": "execute_result"
    }
   ],
   "source": [
    "design_mat_04_07[0,12]"
   ]
  },
  {
   "cell_type": "code",
   "execution_count": 33,
   "id": "4587a5a5",
   "metadata": {},
   "outputs": [
    {
     "data": {
      "text/plain": [
       "3173160"
      ]
     },
     "execution_count": 33,
     "metadata": {},
     "output_type": "execute_result"
    }
   ],
   "source": [
    "import sys \n",
    "\n",
    "# the very largest of tens of mb \n",
    "sys.getsizeof(design_mat_04_07)"
   ]
  },
  {
   "cell_type": "code",
   "execution_count": 34,
   "id": "a37f05b3",
   "metadata": {},
   "outputs": [
    {
     "data": {
      "text/plain": [
       "4182480"
      ]
     },
     "execution_count": 34,
     "metadata": {},
     "output_type": "execute_result"
    }
   ],
   "source": [
    "sys.getsizeof(design_mat_04_08)"
   ]
  },
  {
   "cell_type": "code",
   "execution_count": 35,
   "id": "eac4020b",
   "metadata": {},
   "outputs": [
    {
     "name": "stdout",
     "output_type": "stream",
     "text": [
      "25.5 ms ± 2.46 ms per loop (mean ± std. dev. of 7 runs, 10 loops each)\n",
      "30.3 ms ± 590 µs per loop (mean ± std. dev. of 7 runs, 10 loops each)\n"
     ]
    },
    {
     "data": {
      "text/plain": [
       "(2681, 195)"
      ]
     },
     "execution_count": 35,
     "metadata": {},
     "output_type": "execute_result"
    }
   ],
   "source": [
    "%timeit (np.linalg.pinv(design_mat_04_07))\n",
    "%timeit (np.linalg.pinv(design_mat_04_08))\n",
    "\n",
    "design_mat_04_08.shape"
   ]
  },
  {
   "cell_type": "code",
   "execution_count": 36,
   "id": "414eeed4",
   "metadata": {},
   "outputs": [
    {
     "name": "stdout",
     "output_type": "stream",
     "text": [
      "601 ms ± 89.2 ms per loop (mean ± std. dev. of 7 runs, 1 loop each)\n"
     ]
    }
   ],
   "source": [
    "df_2012 = pd.read_csv('data/2012_all_v2.csv')\n",
    "\n",
    "design_mat_2012, pinv_2012, y_2012, beta_2012 = create_design_mat(df_2012)\n",
    "\n",
    "%timeit (np.linalg.pinv(design_mat_2012))"
   ]
  },
  {
   "cell_type": "code",
   "execution_count": 37,
   "id": "9a28b1cf",
   "metadata": {},
   "outputs": [
    {
     "name": "stdout",
     "output_type": "stream",
     "text": [
      "1.48 s ± 68.4 ms per loop (mean ± std. dev. of 7 runs, 1 loop each)\n"
     ]
    }
   ],
   "source": [
    "%timeit create_design_mat(df_2012)"
   ]
  },
  {
   "cell_type": "code",
   "execution_count": 38,
   "id": "7c86d2ff",
   "metadata": {},
   "outputs": [
    {
     "data": {
      "text/plain": [
       "(22275, 121)"
      ]
     },
     "execution_count": 38,
     "metadata": {},
     "output_type": "execute_result"
    }
   ],
   "source": [
    "design_mat_2012.shape"
   ]
  },
  {
   "cell_type": "code",
   "execution_count": 39,
   "id": "f2db3716",
   "metadata": {},
   "outputs": [
    {
     "data": {
      "text/plain": [
       "21562320"
      ]
     },
     "execution_count": 39,
     "metadata": {},
     "output_type": "execute_result"
    }
   ],
   "source": [
    "sys.getsizeof(design_mat_2012)"
   ]
  },
  {
   "cell_type": "code",
   "execution_count": 40,
   "id": "90337b98",
   "metadata": {},
   "outputs": [
    {
     "data": {
      "text/plain": [
       "148380"
      ]
     },
     "execution_count": 40,
     "metadata": {},
     "output_type": "execute_result"
    }
   ],
   "source": [
    "len(np.where(design_mat_2012 != 0)[0])"
   ]
  },
  {
   "cell_type": "code",
   "execution_count": 41,
   "id": "2fd2928d",
   "metadata": {},
   "outputs": [
    {
     "data": {
      "text/plain": [
       "61.02739726027397"
      ]
     },
     "execution_count": 41,
     "metadata": {},
     "output_type": "execute_result"
    }
   ],
   "source": [
    "len(design_mat_2012)/365"
   ]
  },
  {
   "cell_type": "code",
   "execution_count": 42,
   "id": "3d11f5e1",
   "metadata": {},
   "outputs": [],
   "source": [
    "# sparsity of ~10% which doesn't warrant the use of any other method of representation\n",
    "design_mat_11_05, pinv_11_05, y_11_05, beta_11_05 = create_design_mat(df_11_05)\n",
    "U, w, Vt = np.linalg.svd(design_mat_11_05)"
   ]
  },
  {
   "cell_type": "code",
   "execution_count": 43,
   "id": "b512844b",
   "metadata": {},
   "outputs": [
    {
     "data": {
      "text/plain": [
       "array([5.98017407e+01, 4.82704786e+01, 4.57188475e+01, 3.78453781e+01,\n",
       "       3.47532573e+01, 3.21908971e+01, 3.04416848e+01, 2.92208704e+01,\n",
       "       2.55905923e+01, 2.49385946e+01, 2.29099768e+01, 2.18421469e+01,\n",
       "       2.04405677e+01, 2.01673314e+01, 1.96046603e+01, 1.86828861e+01,\n",
       "       1.77780862e+01, 1.66026257e+01, 1.53418027e+01, 1.36023931e+01,\n",
       "       1.23845923e+01, 1.19707080e+01, 1.11846999e+01, 1.05018165e+01,\n",
       "       6.12156518e+00, 5.66873557e+00, 4.90833998e+00, 4.20925303e+00,\n",
       "       3.32245256e+00, 2.65340041e+00, 2.20085792e+00, 1.85300224e+00,\n",
       "       5.31368508e-15, 4.34493356e-15, 4.34493356e-15, 4.34493356e-15])"
      ]
     },
     "execution_count": 43,
     "metadata": {},
     "output_type": "execute_result"
    }
   ],
   "source": [
    "w"
   ]
  },
  {
   "cell_type": "code",
   "execution_count": 45,
   "id": "ca76bd46",
   "metadata": {},
   "outputs": [
    {
     "data": {
      "text/plain": [
       "array([  36.01619552, -163.92262237,  195.0105148 ,    1.        ,\n",
       "          1.        ,    1.        ,    1.        ,    1.        ,\n",
       "          1.        ,    1.        ,    1.        ,    1.        ,\n",
       "          1.        ,    1.        ,    1.        ,    1.        ,\n",
       "          1.        ,    1.        ,    1.        ,    1.        ,\n",
       "          1.        ,    1.        ,    1.        ,    1.        ])"
      ]
     },
     "execution_count": 45,
     "metadata": {},
     "output_type": "execute_result"
    }
   ],
   "source": [
    "null_4 = Vt[-1,12:]/Vt[-1,-1] #/ np.linalg.norm(null_4)\n",
    "\n",
    "null_4"
   ]
  },
  {
   "cell_type": "code",
   "execution_count": 46,
   "id": "5d8b4661",
   "metadata": {},
   "outputs": [
    {
     "data": {
      "text/plain": [
       "array([-45.78758196, -49.63469763, -33.37335578,   1.        ,\n",
       "         1.        ,   1.        ,   1.        ,   1.        ,\n",
       "         1.        ,   1.        ,   1.        ,   1.        ,\n",
       "         1.        ,   1.        ,   1.        ,   1.        ,\n",
       "         1.        ,   1.        ,   1.        ,   1.        ,\n",
       "         1.        ,   1.        ,   1.        ,   1.        ])"
      ]
     },
     "execution_count": 46,
     "metadata": {},
     "output_type": "execute_result"
    }
   ],
   "source": [
    "null_1 = Vt[-2,12:]/Vt[-2,-1] #/ np.linalg.norm(null_1)\n",
    " \n",
    "null_1"
   ]
  },
  {
   "cell_type": "code",
   "execution_count": 47,
   "id": "b60a29f1",
   "metadata": {},
   "outputs": [
    {
     "data": {
      "text/plain": [
       "array([ 7.56922366, -3.54403644, -4.48469349,  1.        ,  1.        ,\n",
       "        1.        ,  1.        ,  1.        ,  1.        ,  1.        ,\n",
       "        1.        ,  1.        ,  1.        ,  1.        ,  1.        ,\n",
       "        1.        ,  1.        ,  1.        ,  1.        ,  1.        ,\n",
       "        1.        ,  1.        ,  1.        ,  1.        ])"
      ]
     },
     "execution_count": 47,
     "metadata": {},
     "output_type": "execute_result"
    }
   ],
   "source": [
    "null_2 = Vt[-3,12:]/Vt[-3,-1] #/ np.linalg.norm(null_2)\n",
    "\n",
    "null_2"
   ]
  },
  {
   "cell_type": "code",
   "execution_count": 48,
   "id": "932acd1f",
   "metadata": {},
   "outputs": [
    {
     "data": {
      "text/plain": [
       "array([-1.58046385,  1.12267338,  1.12790769,  1.        ,  1.        ,\n",
       "        1.        ,  1.        ,  1.        ,  1.        ,  1.        ,\n",
       "        1.        ,  1.        ,  1.        ,  1.        ,  1.        ,\n",
       "        1.        ,  1.        ,  1.        ,  1.        ,  1.        ,\n",
       "        1.        ,  1.        ,  1.        ,  1.        ])"
      ]
     },
     "execution_count": 48,
     "metadata": {},
     "output_type": "execute_result"
    }
   ],
   "source": [
    "null_3 = Vt[-4,12:]/Vt[-4,-1] #/ np.linalg.norm(null_3)\n",
    "\n",
    "null_3"
   ]
  },
  {
   "cell_type": "code",
   "execution_count": 49,
   "id": "3202c7cf",
   "metadata": {},
   "outputs": [
    {
     "data": {
      "text/plain": [
       "array([  -3.78262663, -215.97868307,  158.28037321])"
      ]
     },
     "execution_count": 49,
     "metadata": {},
     "output_type": "execute_result"
    }
   ],
   "source": [
    "null_1[:3] + null_2[:3] + null_3[:3] + null_4[:3]"
   ]
  },
  {
   "cell_type": "code",
   "execution_count": null,
   "id": "947b1499",
   "metadata": {},
   "outputs": [],
   "source": []
  },
  {
   "cell_type": "code",
   "execution_count": 5,
   "id": "fbf258ee",
   "metadata": {},
   "outputs": [],
   "source": [
    "import matplotlib.pyplot as plt\n",
    "import numpy as np"
   ]
  },
  {
   "cell_type": "code",
   "execution_count": 6,
   "id": "8ef0129d",
   "metadata": {},
   "outputs": [],
   "source": [
    "plt.rcParams['text.usetex'] = True"
   ]
  },
  {
   "cell_type": "code",
   "execution_count": 21,
   "id": "ea087cb5",
   "metadata": {},
   "outputs": [
    {
     "data": {
      "image/png": "[encoded data removed]",
      "text/plain": [
       "<Figure size 432x288 with 1 Axes>"
      ]
     },
     "metadata": {
      "needs_background": "light"
     },
     "output_type": "display_data"
    }
   ],
   "source": [
    "plt.rcParams['text.usetex'] = True\n",
    "'''\n",
    "lets form three equations equations in the form y = c_1*b_1 - c_2*b_2\n",
    "\n",
    "1 = b_1 - b_2 \n",
    "\n",
    "4 = b_1 + 3*b_2\n",
    "\n",
    "0 = 0.1*b_1 - b_2\n",
    "\n",
    "We can first see that this is overdetermined \n",
    "\n",
    "'''\n",
    "b = np.linspace(0,5,100) \n",
    "\n",
    "plt.plot(b, b - 1, label=r'$1 = \\beta_1 - \\beta_2$')\n",
    "plt.plot(b, (4-b)/3, label=r'$4 = \\beta_1 + 3\\beta_2$')\n",
    "plt.plot(b, 0.1*b, label=r'$0 = 0.1\\beta_1 - \\beta_2$')\n",
    "plt.xlim(0,4)\n",
    "plt.ylim(-1,2)\n",
    "plt.legend()\n",
    "\n",
    "# can now form into matrix\n",
    "\n",
    "y = np.array([1,4,0])\n",
    "\n",
    "X = np.array([\n",
    "    [1, - 1],\n",
    "    [1, 3],\n",
    "    [0.1, -1]\n",
    "])\n",
    "\n",
    "# have the equation y = Xb -> least squares b via pinverse\n",
    "b_lse = np.linalg.pinv(X) @ y\n",
    "\n",
    "plt.scatter(b_lse[0], b_lse[1], color='r')\n",
    "plt.title(r'Parameter space for overdetermined $3 \\times 2$ matrix equation')\n",
    "plt.xlabel(r'$\\beta_1$')\n",
    "plt.ylabel(r'$\\beta_2$')\n",
    "#plt.savefig('figures/overdetermined-example', dpi=600)"
   ]
  },
  {
   "cell_type": "code",
   "execution_count": null,
   "id": "6bbefbc5",
   "metadata": {},
   "outputs": [],
   "source": []
  },
  {
   "cell_type": "code",
   "execution_count": 41,
   "id": "b822d8df",
   "metadata": {},
   "outputs": [
    {
     "data": {
      "text/plain": [
       "(array([[ 0.23159666,  0.92466839, -0.30224386],\n",
       "        [-0.93025749,  0.30139213,  0.20924575],\n",
       "        [ 0.28457685,  0.232704  ,  0.92998111]]),\n",
       " array([3.37417605, 1.27472976]),\n",
       " array([[-0.1986272 , -0.98007512],\n",
       "        [ 0.98007512, -0.1986272 ]]))"
      ]
     },
     "execution_count": 41,
     "metadata": {},
     "output_type": "execute_result"
    }
   ],
   "source": [
    "U, w, Vt = np.linalg.svd(X)\n",
    "\n",
    "U, w, Vt"
   ]
  },
  {
   "cell_type": "code",
   "execution_count": 18,
   "id": "5e8d84f5",
   "metadata": {},
   "outputs": [
    {
     "name": "stdout",
     "output_type": "stream",
     "text": [
      "\\n\n"
     ]
    }
   ],
   "source": [
    "print('\\\\n')"
   ]
  },
  {
   "cell_type": "code",
   "execution_count": null,
   "id": "f3915b44",
   "metadata": {},
   "outputs": [],
   "source": []
  }
 ],
 "metadata": {
  "kernelspec": {
   "display_name": "Python 3 (ipykernel)",
   "language": "python",
   "name": "python3"
  },
  "language_info": {
   "codemirror_mode": {
    "name": "ipython",
    "version": 3
   },
   "file_extension": ".py",
   "mimetype": "text/x-python",
   "name": "python",
   "nbconvert_exporter": "python",
   "pygments_lexer": "ipython3",
   "version": "3.9.6"
  }
 },
 "nbformat": 4,
 "nbformat_minor": 5
}
