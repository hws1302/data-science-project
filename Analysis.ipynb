{
 "cells": [
  {
   "cell_type": "markdown",
   "id": "fa782038",
   "metadata": {},
   "source": [
    "# Part II Computing Project: Surveying using stars \n",
    "\n",
    "To do: \n",
    "- fully understand the SVD theory and have some form of write up on that\n",
    "- understand why the sampling changes things? something to do with neighbourhood sparsity \n",
    "\n",
    "\n",
    "Plan: \n",
    "\n",
    "### Physical theory\n",
    "- Why we have these large telescope arrays\n",
    "    - Gives the precision of telescope that large, without the same amount of light\n",
    "    - How does interferometry work, taking paths lengths to be equal when the visibility is maximised (check this!) \n",
    "    - we have the three things that change, the carts, the POP mirrors (which are not given) and the \"constant term\" which is the same on any given night\n",
    "- What are our ground truths \n",
    "    - That the measures occur at exactly maximum visibility and therefore zero path difference\n",
    "    - That there is no error in the elevation and the azimuth measured \n",
    "- Why the star position matters\n",
    "    - give the 2d example and then raise to 3d to show that with the star vector it is possible to get an equations in terms of the star vector and the baselines etc. \n",
    "    - why we need many data points, how this could effect the error\n",
    "    \n",
    "- What data is there\n",
    "    - The data is from 4 days in 2019 and many days in 2012\n",
    "    - The task is to find the model parameters (this is the telescope locations and the POPs) \n",
    "    - We do this via least-squares linear regression\n",
    "    \n",
    "### Mathematical theory \n",
    "- Explain that we have many linear equations... sounds like a matrix, explain how we can formulate the equation to get design matrix equation \n",
    "- Then show that if we could find an matrix that minimises the 2-norm that we have the least-squares regression\n",
    "- Why is the least-squares regression favourable, what are alternatives \n",
    "\n",
    "- eigendecomposition, and how SVD is the generalisation of this\n",
    "- How the pseudo-inverse can be arrived at from the SVD \n",
    "- \n",
    "\n",
    "### Code techniques\n",
    "- Standard packages used\n",
    "    - matplotlib for visualisations\n",
    "    - numpy, how it has c-like speeds and why is python so popular for data science despite the slow speeds \n",
    "        - created in 2006\n",
    "        - python not originally intended for numerical efficiency \n",
    "        - explain the difference between the two languages\n",
    "        - Show some tests for efficiency (can write a function that shows the difference\n",
    "        - How we can time our code with `%timeit` \n",
    "    - In the years since python has added in many symbols which help make linear algebra easier e.g. `@` symbol for mat mult\n",
    "    - Python is easier to learn \n",
    "    - Cloud computing allows for \n",
    "    - JIT compilation\n",
    "    - Jupyter notebooks (how has the flow here matched what a data scientist would do in the field)\n",
    "    - Pandas\n",
    "        - history\n",
    "        - built around pandas.DataFrame object which can be populated by CSVs, JSON, excels files etc.\n",
    "        - works well with notebooks\n",
    "        - built upon NumPy meaning fast operations can be applied to entire rows e.g `df[df['tel_1'] == 'E1']` give the proper snippet with the output too! \n",
    "       \n",
    "\n",
    "### Data processing\n",
    "- Removing outliers (especially important as least-squares)\n",
    "- Creating the design matrix, how we made the most of vectorisation to map over from DataFrame to design matrix \n",
    "- Why the design matrix was designed inefficiently, how it could be designed better\n",
    "\n",
    "\n",
    "\n",
    "### First task \n",
    "- Telescope locations for a single night \n",
    "- Are the errors how we would expect?"
   ]
  },
  {
   "cell_type": "markdown",
   "id": "0673c130",
   "metadata": {},
   "source": [
    "## Things to consider \n",
    "\n",
    "- The time complexity of the mooore penrose psesudo inverse\n",
    "- How do we know if the design matrix is full rank? surely it isn't as it is very sparse\n",
    "- Would be really cool to add in an animation showing how the position updates are estimated after each piece of data\n",
    "\n",
    "\n",
    "## Theory of the SVD\n",
    "\n",
    "(Numerical Linear Algebra)\n",
    "- If we look at the elipse, we see the left singular values for stretched elipse and the right singular values for the unit vectors of the preimages of the principle semiaxes. This gives the equation \n",
    "$$Av_i = \\sigma u_i$$\n",
    "\n",
    "Then we assume that V is unitary so we can invert via its Hermitian to get the SVD formula (although this is the reduced formula) \n",
    "\n",
    "\n",
    "\n",
    "\n",
    "- Eigendecomposition\n",
    "- Given an example of a 2x2 and show that it is stretching along the principle axes of an elipse, this is generalised for n dimensions\n",
    "- Then introduce that we might want to do the same for a non-square matrix (why eigendecomposition doesn't work for this\n",
    "\n",
    "- SVD generalises this, give logical dervation towards this \n",
    "- What do the two U and V basis vectors represent\n",
    "- Show how that can be n dimensional elipsoid embedded in m dimensional space (this is the analogy on wiki)\n",
    "- What do the singular values represent \n",
    "- Show that we can get a pseudoinverse, how does a computer calculate this -> show on a 3x2 that this leads to non-zeros where there should be zeros for analytic\n",
    "\n",
    "- `numpy.linalg.svd` using fortran (another compiled language) with the `LAPACK` library using divide-and-conquer"
   ]
  },
  {
   "cell_type": "markdown",
   "id": "e270117b",
   "metadata": {},
   "source": [
    "# Task 1: Finding the telescope positions \n",
    "\n",
    "- For telescopes the angular resultion $\\propto$ diameter as can approximate light from very far away to be plane waves \n",
    "- Economically unfeasible to have such large telescopes has led to the idea of telescope arrays \n",
    "- Still limited by the amount of light but get a better angular resolution when combined (give proper explanation of the science) (this is how the black hole was imaged)\n",
    "- Do this via redirecting light to the centre of the array (show in the figure)\n",
    "- But to join them together we need to get the path difference to be zero -> mention to coherence of light and the visiblitiy\n",
    "- Show on 2D diagram that the path difference would be dependent on where the star is and the baseline between them, talk about this interms of projections\n",
    "- Therefore we can a system of things to equalise, we know we are equalised when we have maximum contrast fringes \n",
    "- Have fixed POP mirrors of unknown path difference and carts that can be moved to sub micron accuracy \n",
    "\n",
    "- In the tables, can use the elevation and azimuth can be used to convert from horiz (give descriptions) to find the vector of the sun-telescope array, again assume constant\n",
    "\n",
    "- Therefore can set up a equation for each measurement\n",
    " \n",
    "$$\\hat{\\textbf{S}} * \\textbf{x_1} + \\text{POP}_1 + \\text{Cart}_1 = \\hat{\\textbf{S}} * \\textbf{x_2} + \\text{POP}_2 + \\text{Cart}_2$$"
   ]
  },
  {
   "cell_type": "markdown",
   "id": "a9c7dad3",
   "metadata": {},
   "source": [
    "### Finding the lengths for telescope positions for a single night \n",
    "\n",
    "As discussed above, we have an equation for each night and should construct a design matrix, **how do we represent these equations in a design matrix?**\n",
    "\n",
    "$$y = X\\beta$$\n",
    "\n",
    "The equation above relates the vector of outputs of the model, $y$ which is the cart distance to the design matrix, $X$ and the model parameters vector $\\beta$. The data gives the $y$ vector ($\\Delta \\text{cart}$) and want to find the positions of the telescopes, which are model parameters. Therefore an inverse of the design matrix must be found to find $\\beta$. As the matrix is not square, it does not have a determinant and therefore an inverse. \n",
    "\n",
    "\n",
    "The Moore-Penrose pseudoinverse (notation $X^+$) can be used to invert any (?) non-square matrix. This is particularly useful in data science as large datasets often form \"skinny\", having more data points that model parameters. \n",
    "\n",
    "\n",
    "The process of using a Moore-Penrose pseudo-inverse is equivilant of finding the least-squares solution for the line of best-fit.\n",
    "\n",
    "\n",
    "(On any single night we can assume that the \"constant term\" doesn't change)"
   ]
  },
  {
   "cell_type": "markdown",
   "id": "0b160570",
   "metadata": {},
   "source": [
    "Least squares solution: \n",
    "- $m$ measurements with $n$ model parameters leads to a $m \\times n$ matrix\n",
    "- $M > N$, as is the case often in data science, this leads the problem being overdetermined (show a graph of what this looks like, e.g. 3 equations and two unknowns?) (this is called a \"skinny\" matrix)\n",
    "- We have the residual vector, $\\textbf{r}$ given by where $\\pmb{\\beta_0}$\n",
    "\n",
    "$$\\pmb{r} = \\pmb{X\\beta - y}$$\n",
    "\n",
    " - We find the solution that minimises the residual in some norm, for least squares a 2-norm is used although a higher degree norm could be used to find least cubes. Though least squares is used as it maximises likelihood and is the best linear unbiased estimator (i.e has the minimum vairacne amount linear unbiased estimators)\n",
    "- also 2-norm solves linear equation when you take the derivative, easy\n",
    "- But sensitive to outliers \n",
    "\n",
    "\n",
    "- Showing how the SVD is a three step process to rotate stretch and rotate\n",
    "- How the low-rank approximation can be used "
   ]
  },
  {
   "cell_type": "code",
   "execution_count": 296,
   "id": "2552f0e2",
   "metadata": {},
   "outputs": [],
   "source": [
    "import pandas as pd\n",
    "import numpy as np\n",
    "import matplotlib.pyplot as plt\n",
    "import matplotlib.animation as animation"
   ]
  },
  {
   "cell_type": "code",
   "execution_count": 40,
   "id": "002a0104",
   "metadata": {},
   "outputs": [
    {
     "data": {
      "text/html": [
       "<div>\n",
       "<style scoped>\n",
       "    .dataframe tbody tr th:only-of-type {\n",
       "        vertical-align: middle;\n",
       "    }\n",
       "\n",
       "    .dataframe tbody tr th {\n",
       "        vertical-align: top;\n",
       "    }\n",
       "\n",
       "    .dataframe thead th {\n",
       "        text-align: right;\n",
       "    }\n",
       "</style>\n",
       "<table border=\"1\" class=\"dataframe\">\n",
       "  <thead>\n",
       "    <tr style=\"text-align: right;\">\n",
       "      <th></th>\n",
       "      <th>utc</th>\n",
       "      <th>star</th>\n",
       "      <th>azimuth</th>\n",
       "      <th>elevation</th>\n",
       "      <th>tel_1</th>\n",
       "      <th>tel_2</th>\n",
       "      <th>pop_1</th>\n",
       "      <th>pop_2</th>\n",
       "      <th>cart_1</th>\n",
       "      <th>cart_2</th>\n",
       "    </tr>\n",
       "  </thead>\n",
       "  <tbody>\n",
       "    <tr>\n",
       "      <th>0</th>\n",
       "      <td>2019-04-07T03:18:25.000</td>\n",
       "      <td>#93396</td>\n",
       "      <td>4.937621</td>\n",
       "      <td>1.279389</td>\n",
       "      <td>W1</td>\n",
       "      <td>W2</td>\n",
       "      <td>P3B3</td>\n",
       "      <td>P5B2</td>\n",
       "      <td>62.585687</td>\n",
       "      <td>80.000000</td>\n",
       "    </tr>\n",
       "    <tr>\n",
       "      <th>1</th>\n",
       "      <td>2019-04-07T03:18:25.000</td>\n",
       "      <td>#93396</td>\n",
       "      <td>4.937621</td>\n",
       "      <td>1.279389</td>\n",
       "      <td>S2</td>\n",
       "      <td>W1</td>\n",
       "      <td>P2B4</td>\n",
       "      <td>P3B3</td>\n",
       "      <td>39.085558</td>\n",
       "      <td>62.585687</td>\n",
       "    </tr>\n",
       "    <tr>\n",
       "      <th>2</th>\n",
       "      <td>2019-04-07T03:18:29.000</td>\n",
       "      <td>#93396</td>\n",
       "      <td>4.937605</td>\n",
       "      <td>1.279153</td>\n",
       "      <td>W1</td>\n",
       "      <td>W2</td>\n",
       "      <td>P3B3</td>\n",
       "      <td>P5B2</td>\n",
       "      <td>62.610570</td>\n",
       "      <td>80.000000</td>\n",
       "    </tr>\n",
       "    <tr>\n",
       "      <th>3</th>\n",
       "      <td>2019-04-07T03:18:34.000</td>\n",
       "      <td>#93396</td>\n",
       "      <td>4.937586</td>\n",
       "      <td>1.278860</td>\n",
       "      <td>W1</td>\n",
       "      <td>W2</td>\n",
       "      <td>P3B3</td>\n",
       "      <td>P5B2</td>\n",
       "      <td>62.641690</td>\n",
       "      <td>80.000000</td>\n",
       "    </tr>\n",
       "    <tr>\n",
       "      <th>4</th>\n",
       "      <td>2019-04-07T03:32:01.000</td>\n",
       "      <td>#93396</td>\n",
       "      <td>4.937428</td>\n",
       "      <td>1.231426</td>\n",
       "      <td>S2</td>\n",
       "      <td>W1</td>\n",
       "      <td>P2B4</td>\n",
       "      <td>P3B3</td>\n",
       "      <td>43.169167</td>\n",
       "      <td>76.216268</td>\n",
       "    </tr>\n",
       "  </tbody>\n",
       "</table>\n",
       "</div>"
      ],
      "text/plain": [
       "                       utc    star   azimuth  elevation tel_1 tel_2 pop_1  \\\n",
       "0  2019-04-07T03:18:25.000  #93396  4.937621   1.279389    W1    W2  P3B3   \n",
       "1  2019-04-07T03:18:25.000  #93396  4.937621   1.279389    S2    W1  P2B4   \n",
       "2  2019-04-07T03:18:29.000  #93396  4.937605   1.279153    W1    W2  P3B3   \n",
       "3  2019-04-07T03:18:34.000  #93396  4.937586   1.278860    W1    W2  P3B3   \n",
       "4  2019-04-07T03:32:01.000  #93396  4.937428   1.231426    S2    W1  P2B4   \n",
       "\n",
       "  pop_2     cart_1     cart_2  \n",
       "0  P5B2  62.585687  80.000000  \n",
       "1  P3B3  39.085558  62.585687  \n",
       "2  P5B2  62.610570  80.000000  \n",
       "3  P5B2  62.641690  80.000000  \n",
       "4  P3B3  43.169167  76.216268  "
      ]
     },
     "execution_count": 40,
     "metadata": {},
     "output_type": "execute_result"
    }
   ],
   "source": [
    "df = pd.read_csv('data/2019_04_07.csv')\n",
    "\n",
    "# elevation and azimuth are the wrong way around \n",
    "df = df.rename(columns={'elevation': 'azimuth', 'azimuth': 'elevation'})\n",
    "\n",
    "# change to radians\n",
    "df['azimuth'] = df['azimuth'] * 2 * np.pi / 360\n",
    "df['elevation'] = df['elevation'] * 2 * np.pi / 360\n",
    "\n",
    "df.head()"
   ]
  },
  {
   "cell_type": "code",
   "execution_count": 41,
   "id": "26528c3a",
   "metadata": {},
   "outputs": [
    {
     "data": {
      "text/plain": [
       "(2034, 3)"
      ]
     },
     "execution_count": 41,
     "metadata": {},
     "output_type": "execute_result"
    }
   ],
   "source": [
    "# how to find the s vector \n",
    "theta = df['elevation']\n",
    "phi = df['azimuth']\n",
    "\n",
    "S = np.array([np.cos(theta)*np.sin(phi), np.cos(theta)*np.cos(phi), np.sin(theta)]).T\n",
    "\n",
    "S.shape"
   ]
  },
  {
   "cell_type": "markdown",
   "id": "0948f915",
   "metadata": {},
   "source": [
    "In each row we have:\n",
    "\n",
    "$$\\Delta C = S . \\Delta x + \\Delta d$$\n",
    "\n",
    "therefore for a single row in the design matrix we need to solve this. we can do the s vector with the two components of the\n",
    "\n",
    "Lets make the frist row of data into a design matrix..."
   ]
  },
  {
   "cell_type": "code",
   "execution_count": 42,
   "id": "2a90eb46",
   "metadata": {},
   "outputs": [],
   "source": [
    "# Order is E1, W2, W1, S2, S1, E2 (each having 3 position and 5 POP model parameters)\n",
    "\n",
    "length = len(df)\n",
    "width = 45\n",
    "\n",
    "design_mat = np.zeros((length, width))\n",
    "\n",
    "telescopes = ['W2', 'W1', 'S2', 'S1', 'E2'] # we don't need E1 here as we define this as the zero point\n",
    "\n",
    "for i, telescope in enumerate(telescopes):\n",
    "    \n",
    "    i = 3*i\n",
    "\n",
    "    design_mat[:,i:3+i] += S *  np.where(df['tel_1'] == telescope, 1, 0).reshape(-1,1)\n",
    "    design_mat[:,i:3+i] += - S *  np.where(df['tel_2'] == telescope, 1, 0).reshape(-1,1)\n",
    "    \n",
    "POPs = ['P1B1', 'P2B1', 'P3B1', 'P4B1', 'P5B1', 'P1B2', 'P2B2', 'P3B2', 'P4B2', 'P5B2', 'P1B3', 'P2B3', 'P3B3', 'P4B3', 'P5B3', 'P1B4', 'P2B4', 'P3B4', 'P4B4', 'P5B4', 'P1B5', 'P2B5', 'P3B5', 'P4B5', 'P5B5', 'P1B6', 'P2B6', 'P3B6', 'P4B6', 'P5B6',]\n",
    "\n",
    "for i, POP in enumerate(POPs):\n",
    "\n",
    "    design_mat[:,15+i] += np.where(df['pop_1'] == POP, 1, 0)\n",
    "    design_mat[:,15+i] += -  np.where(df['pop_2'] == POP, 1, 0)"
   ]
  },
  {
   "cell_type": "code",
   "execution_count": 43,
   "id": "f2611acc",
   "metadata": {},
   "outputs": [
    {
     "data": {
      "text/plain": [
       "array([ 1.94432608e+02,  1.06598978e+02, -6.37520967e+00,  3.00408627e+02,\n",
       "        8.96098458e+01,  4.88053282e+00,  1.31083790e+02,  2.72353841e+02,\n",
       "       -6.54767727e+00,  1.25336901e+02,  3.05932678e+02, -5.90805154e+00,\n",
       "        5.49439703e+01,  3.62099024e+01, -3.10685717e+00, -3.36959951e+01,\n",
       "        3.02658229e-13,  3.94249945e+01,  7.60126154e+01,  1.09324719e+02,\n",
       "        1.39856227e-13,  1.27755998e-13, -1.17660875e-13,  4.11484424e-14,\n",
       "       -5.78751704e+01, -9.35835387e+01, -5.70105517e+01, -2.04742521e+01,\n",
       "        1.15695257e-14,  4.94308404e+01,  9.27973122e-15, -4.51711000e+01,\n",
       "       -9.70225354e-15,  2.79865899e+01,  6.12963869e+01, -5.00464033e+01,\n",
       "        0.00000000e+00,  2.30822272e+01,  5.96781000e+01,  9.29891340e+01,\n",
       "       -9.70195406e+01, -6.04419397e+01, -2.39071161e+01,  0.00000000e+00,\n",
       "        0.00000000e+00])"
      ]
     },
     "execution_count": 43,
     "metadata": {},
     "output_type": "execute_result"
    }
   ],
   "source": [
    "pinv = np.linalg.pinv(design_mat)\n",
    "\n",
    "y = df['cart_2'].values - df['cart_1'].values\n",
    "\n",
    "beta = pinv @ y\n",
    "\n",
    "beta\n",
    "# the first 15 elements are the different components of the telescope vectors RELATIVE to E1"
   ]
  },
  {
   "cell_type": "code",
   "execution_count": 44,
   "id": "035b24ba",
   "metadata": {},
   "outputs": [
    {
     "data": {
      "image/png": "[encoded data removed]",
      "text/plain": [
       "<Figure size 432x288 with 1 Axes>"
      ]
     },
     "metadata": {
      "needs_background": "light"
     },
     "output_type": "display_data"
    }
   ],
   "source": [
    "plt.plot(np.arange(length), y - design_mat @ beta)\n",
    "plt.show()"
   ]
  },
  {
   "cell_type": "code",
   "execution_count": 45,
   "id": "c57b4ddb",
   "metadata": {},
   "outputs": [],
   "source": [
    "df2 = pd.read_csv('data/2012_all_v2.csv')\n",
    "\n",
    "df2 = df2.rename(columns={'elevation': 'azimuth', 'azimuth': 'elevation'})\n",
    "\n",
    "l = []\n",
    "\n",
    "for pop in POPs:\n",
    "\n",
    "    l.append(set(df2[df2['pop_1'] == pop]['tel_1']))\n",
    "# l"
   ]
  },
  {
   "cell_type": "code",
   "execution_count": 46,
   "id": "562602bb",
   "metadata": {},
   "outputs": [],
   "source": [
    "S_vector = lambda theta, phi: np.array([np.cos(theta)*np.sin(phi), np.cos(theta)*np.cos(phi), np.sin(theta)]).T\n",
    "\n",
    "def create_design_matrix(df, telescopes, POPs):\n",
    "    '''\n",
    "    Description \n",
    "    '''\n",
    "\n",
    "    length = len(df)\n",
    "    width = 3*len(telescopes) + len(POPs)\n",
    "    design_mat = np.zeros((length, width))\n",
    "\n",
    "    theta = df['elevation']\n",
    "    phi = df['azimuth']\n",
    "    S = S_vector(theta, phi)\n",
    "    \n",
    "    for i, telescope in enumerate(telescopes):\n",
    "    \n",
    "        #i = 3*i\n",
    "\n",
    "        design_mat[:,3*i:3+3*i] += S *  np.where(df['tel_1'] == telescope, 1, 0).reshape(-1,1)\n",
    "        design_mat[:,3*i:3+3*i] += - S *  np.where(df['tel_2'] == telescope, 1, 0).reshape(-1,1)\n",
    "    \n",
    "    for j, POP in enumerate(POPs):\n",
    "\n",
    "        design_mat[:,15+j] += np.where(df['pop_1'] == POP, 1, 0)\n",
    "        design_mat[:,15+j] -= np.where(df['pop_2'] == POP, 1, 0)\n",
    "        \n",
    "    y = df['cart_2'].values - df['cart_1'].values\n",
    "        \n",
    "    return design_mat, y"
   ]
  },
  {
   "cell_type": "code",
   "execution_count": 47,
   "id": "420dd2f6",
   "metadata": {},
   "outputs": [],
   "source": [
    "S_vector = lambda theta, phi: np.array([np.cos(theta)*np.sin(phi), np.cos(theta)*np.cos(phi), np.sin(theta)]).T\n",
    "\n",
    "def create_design_matrix(df, telescopes, POPs):\n",
    "    '''\n",
    "    Description \n",
    "    '''\n",
    "\n",
    "    # ea. row must contain (x, y, z) for ea. telescope (except E1, the zero point) \n",
    "    # and all 30 POP settings for ea. telescope\n",
    "    length = len(df)\n",
    "    width = 3*(len(telescopes) - 1) + len(telescopes)*len(POPs) \n",
    "    design_mat = np.zeros((length, width))\n",
    "\n",
    "    theta = df['elevation']\n",
    "    phi = df['azimuth']\n",
    "    S = S_vector(theta, phi)\n",
    "    \n",
    "    for i, telescope in enumerate(telescopes):\n",
    "        \n",
    "    \n",
    "        # for ea. new telescope must jump 3 places for (x, y, z)\n",
    "        i -= 1\n",
    "        \n",
    "        if telescope != 'E1': # keep 'E1' as the zero point\n",
    "\n",
    "            design_mat[:,3*i:3+3*i] += S *  np.where(df['tel_1'] == telescope, 1, 0).reshape(-1,1)\n",
    "            design_mat[:,3*i:3+3*i] -= S *  np.where(df['tel_2'] == telescope, 1, 0).reshape(-1,1)\n",
    "\n",
    "        for j, POP in enumerate(POPs):\n",
    "            \n",
    "            # for ea. new POP\n",
    "            #j *= 30\n",
    "            \n",
    "            # not working because E1 isn't in the list of telescopes \n",
    "            design_mat[:,15 + 30*i + j] += np.where((df['pop_1'] == POP) & (df['tel_1'] == telescope), 1, 0) # add when it is tel_1\n",
    "            design_mat[:,15 + 30*i + j] -= np.where((df['pop_2'] == POP) & (df['tel_2'] == telescope), 1, 0) # subtract when it is the tel_2\n",
    "        \n",
    "    y = df['cart_2'].values - df['cart_1'].values\n",
    "    \n",
    "    pinv = np.linalg.pinv(design_mat)\n",
    "        \n",
    "    return design_mat, pinv, y"
   ]
  },
  {
   "cell_type": "code",
   "execution_count": 265,
   "id": "b219b9fe",
   "metadata": {},
   "outputs": [
    {
     "data": {
      "text/plain": [
       "array([-1.47338768e-04,  4.62868314e-05, -7.13247386e-05,  6.79279912e-05,\n",
       "       -3.95740580e-05, -2.33139009e-04,  1.47307087e-04,  5.31630216e-05,\n",
       "       -8.67615707e-05, -5.30496828e-05, -1.34860351e-04,  1.59919950e-04,\n",
       "        6.37326380e-05,  7.70160741e-05,  6.50859912e-05,  4.10024055e-05,\n",
       "        9.62206773e-05, -4.06947054e-05, -4.22381170e-05, -2.98613094e-05,\n",
       "        8.61940809e-06,  3.02691205e-12, -5.48265384e-05,  4.02033177e-05,\n",
       "        6.82344321e-07, -2.38105365e-05,  2.18381062e-04,  1.01420119e-05,\n",
       "        1.54415716e-04,  1.19967597e-04,  2.14335678e-05, -4.00513340e-05,\n",
       "       -3.18960984e-05, -2.75513000e-05, -3.87472794e-04,  5.90103951e-05,\n",
       "        4.38041904e-05,  2.17197851e-04, -8.76882709e-08,  3.45641777e-05,\n",
       "        1.60495816e-05, -5.16696457e-05, -8.42984988e-05, -2.93569105e-05,\n",
       "        8.73269467e-05,  9.90778699e-05, -1.56331983e-04,  1.56227086e-04,\n",
       "        2.87457649e-05,  4.43229539e-05,  1.02435192e-05, -5.83128589e-05,\n",
       "        2.89919590e-05,  9.44821078e-05,  5.41707522e-06, -1.48110400e-04,\n",
       "        2.17541156e-05,  3.00472380e-05, -1.20633079e-04,  1.00372013e-04,\n",
       "       -3.71123606e-04, -2.06729964e-04,  1.28797933e-04, -4.34899386e-05,\n",
       "        7.09504711e-05,  2.52780200e-05,  3.05734880e-04, -4.15028605e-05,\n",
       "       -1.00053823e-04, -4.66591985e-05, -1.64788995e-04, -7.49594683e-06,\n",
       "        4.56268703e-05,  2.24703871e-04, -2.69359013e-05,  1.17768749e-04,\n",
       "        1.16622358e-04,  3.41309041e-05, -4.18787272e-06, -4.57494337e-05,\n",
       "       -1.65379606e-04, -4.84059188e-05,  3.43632632e-04, -3.62460436e-05,\n",
       "       -8.60292832e-05,  6.50168362e-05, -5.63232402e-05, -1.11422719e-05,\n",
       "       -1.99181854e-04,  2.50719941e-05, -1.72397557e-04, -7.62898511e-05,\n",
       "        2.15164728e-04,  3.13711021e-04,  8.93404756e-05, -5.61065299e-05,\n",
       "        1.28992251e-04, -1.06355103e-05, -9.53180868e-06, -1.55357249e-04,\n",
       "       -4.73022153e-05, -2.54569654e-04, -7.00955976e-05,  2.58615072e-05,\n",
       "        1.08722761e-04,  1.01904408e-04, -3.63750802e-06,  5.92182196e-05,\n",
       "        2.99713915e-04,  1.02099479e-04,  1.56201801e-05, -1.37001543e-04,\n",
       "        7.74620445e-05,  8.26647392e-05, -6.64389135e-05, -1.72248374e-05,\n",
       "        1.56534132e-05,  1.98834259e-05, -4.58993907e-05,  3.07949893e-05,\n",
       "        3.52110393e-05,  8.88110751e-05, -1.09888843e-04, -1.19078721e-04,\n",
       "        4.87736175e-05, -2.56106456e-05, -7.94581012e-05, -5.24663133e-05,\n",
       "       -9.81693755e-05,  1.27029492e-04,  2.28978225e-04,  3.16132248e-04,\n",
       "        1.20490779e-04,  4.16070004e-06,  7.12293729e-05,  6.81260269e-05,\n",
       "       -1.00149879e-04, -1.96625547e-04,  5.17604570e-05,  3.75249090e-05,\n",
       "        1.95140941e-05, -8.97488795e-05, -7.35828314e-05, -6.29095575e-06,\n",
       "       -5.69266528e-05, -2.08534278e-06,  6.10873857e-05,  9.50929947e-05,\n",
       "       -1.27064843e-04, -4.66927857e-05, -1.17798914e-04,  7.33881037e-05,\n",
       "        3.66295966e-04, -1.59653610e-04, -7.00753238e-05,  1.04862830e-04,\n",
       "        3.33030163e-04,  5.58432328e-05,  8.09922945e-05, -3.13183001e-05,\n",
       "       -4.46330122e-05, -6.08837087e-06, -6.36284638e-05, -6.87518848e-05,\n",
       "       -2.22677462e-05, -1.10727328e-04, -2.90228109e-04,  5.45885754e-05,\n",
       "        8.71759005e-06, -2.91803715e-04, -6.82968895e-05, -4.33104566e-05,\n",
       "        2.19241019e-05, -4.77002212e-04,  1.47414339e-04, -2.99116122e-05,\n",
       "       -1.72011152e-05, -1.92353111e-04, -7.78000940e-05,  1.01686417e-04,\n",
       "        2.13443065e-04,  3.73617745e-05, -4.25199851e-05,  2.85443885e-05,\n",
       "       -1.54326284e-05, -6.89908816e-06, -2.01482413e-05, -3.01101252e-04,\n",
       "        2.29266253e-04,  2.75458758e-05,  1.14052462e-04,  8.15348031e-05,\n",
       "       -2.48930448e-04,  1.46042477e-04,  9.81296655e-05,  8.34647714e-05,\n",
       "        9.05948409e-05, -1.54444780e-05, -5.38372906e-05,  2.56527045e-05,\n",
       "       -1.02678196e-05, -2.90113863e-04,  1.98980244e-05])"
      ]
     },
     "execution_count": 265,
     "metadata": {},
     "output_type": "execute_result"
    }
   ],
   "source": [
    "telescopes = ['E1', 'W2', 'W1', 'S2', 'S1', 'E2']\n",
    "POPs = ['P1B1', 'P2B1', 'P3B1', 'P4B1', 'P5B1', \n",
    "        'P1B2', 'P2B2', 'P3B2', 'P4B2', 'P5B2', \n",
    "        'P1B3', 'P2B3', 'P3B3', 'P4B3', 'P5B3', \n",
    "        'P1B4', 'P2B4', 'P3B4', 'P4B4', 'P5B4', \n",
    "        'P1B5', 'P2B5', 'P3B5', 'P4B5', 'P5B5', \n",
    "        'P1B6', 'P2B6', 'P3B6', 'P4B6', 'P5B6']\n",
    "\n",
    "df = pd.read_csv('data/2019_04_07.csv').sample(frac=0.1)\n",
    "df = df.rename(columns={'elevation': 'azimuth', 'azimuth': 'elevation'})\n",
    "\n",
    "# change to radians\n",
    "df['azimuth'] = df['azimuth'] * 2 * np.pi / 360\n",
    "df['elevation'] = df['elevation'] * 2 * np.pi / 360\n",
    "\n",
    "design_mat, pinv, y = create_design_matrix(df, telescopes, POPs)\n",
    "\n",
    "beta = pinv @ y\n",
    "\n",
    "y - design_mat @ beta"
   ]
  },
  {
   "cell_type": "code",
   "execution_count": 278,
   "id": "98d12d70",
   "metadata": {},
   "outputs": [],
   "source": [
    "n_solutions = 10\n",
    "\n",
    "betas = np.empty((n_solutions,18))\n",
    "\n",
    "for i, frac in enumerate(np.linspace(0.01,0.3,n_solutions)):\n",
    "    \n",
    "    df = pd.read_csv('data/2019_04_07.csv').sample(frac=frac)\n",
    "    df = df.rename(columns={'elevation': 'azimuth', 'azimuth': 'elevation'})\n",
    "    df['azimuth'] = df['azimuth'] * 2 * np.pi / 360\n",
    "    df['elevation'] = df['elevation'] * 2 * np.pi / 360\n",
    "\n",
    "    design_mat, pinv, y = create_design_matrix(df, telescopes, POPs)\n",
    "\n",
    "    beta = pinv @ y\n",
    "    \n",
    "    betas[i] = np.concatenate((beta[:15], np.ones(3)))"
   ]
  },
  {
   "cell_type": "code",
   "execution_count": 297,
   "id": "cdfc4749",
   "metadata": {},
   "outputs": [
    {
     "data": {
      "image/png": "[encoded data removed]",
      "text/plain": [
       "<Figure size 432x288 with 1 Axes>"
      ]
     },
     "metadata": {
      "needs_background": "light"
     },
     "output_type": "display_data"
    },
    {
     "data": {
      "image/png": "[encoded data removed]",
      "text/plain": [
       "<Figure size 432x288 with 1 Axes>"
      ]
     },
     "metadata": {
      "needs_background": "light"
     },
     "output_type": "display_data"
    },
    {
     "data": {
      "image/png": "[encoded data removed]",
      "text/plain": [
       "<Figure size 432x288 with 1 Axes>"
      ]
     },
     "metadata": {
      "needs_background": "light"
     },
     "output_type": "display_data"
    },
    {
     "data": {
      "image/png": "[encoded data removed]",
      "text/plain": [
       "<Figure size 432x288 with 1 Axes>"
      ]
     },
     "metadata": {
      "needs_background": "light"
     },
     "output_type": "display_data"
    },
    {
     "data": {
      "image/png": "[encoded data removed]",
      "text/plain": [
       "<Figure size 432x288 with 1 Axes>"
      ]
     },
     "metadata": {
      "needs_background": "light"
     },
     "output_type": "display_data"
    },
    {
     "data": {
      "image/png": "[encoded data removed]",
      "text/plain": [
       "<Figure size 432x288 with 1 Axes>"
      ]
     },
     "metadata": {
      "needs_background": "light"
     },
     "output_type": "display_data"
    },
    {
     "data": {
      "image/png": "[encoded data removed]",
      "text/plain": [
       "<Figure size 432x288 with 1 Axes>"
      ]
     },
     "metadata": {
      "needs_background": "light"
     },
     "output_type": "display_data"
    },
    {
     "data": {
      "image/png": "[encoded data removed]",
      "text/plain": [
       "<Figure size 432x288 with 1 Axes>"
      ]
     },
     "metadata": {
      "needs_background": "light"
     },
     "output_type": "display_data"
    },
    {
     "data": {
      "image/png": "[encoded data removed]",
      "text/plain": [
       "<Figure size 432x288 with 1 Axes>"
      ]
     },
     "metadata": {
      "needs_background": "light"
     },
     "output_type": "display_data"
    },
    {
     "data": {
      "image/png": "[encoded data removed]",
      "text/plain": [
       "<Figure size 432x288 with 1 Axes>"
      ]
     },
     "metadata": {
      "needs_background": "light"
     },
     "output_type": "display_data"
    },
    {
     "data": {
      "image/png": "[encoded data removed]",
      "text/plain": [
       "<Figure size 432x288 with 1 Axes>"
      ]
     },
     "metadata": {
      "needs_background": "light"
     },
     "output_type": "display_data"
    },
    {
     "data": {
      "image/png": "[encoded data removed]",
      "text/plain": [
       "<Figure size 432x288 with 1 Axes>"
      ]
     },
     "metadata": {
      "needs_background": "light"
     },
     "output_type": "display_data"
    },
    {
     "data": {
      "image/png": "[encoded data removed]",
      "text/plain": [
       "<Figure size 432x288 with 1 Axes>"
      ]
     },
     "metadata": {
      "needs_background": "light"
     },
     "output_type": "display_data"
    },
    {
     "data": {
      "image/png": "[encoded data removed]",
      "text/plain": [
       "<Figure size 432x288 with 1 Axes>"
      ]
     },
     "metadata": {
      "needs_background": "light"
     },
     "output_type": "display_data"
    },
    {
     "data": {
      "image/png": "[encoded data removed]",
      "text/plain": [
       "<Figure size 432x288 with 1 Axes>"
      ]
     },
     "metadata": {
      "needs_background": "light"
     },
     "output_type": "display_data"
    },
    {
     "data": {
      "image/png": "[encoded data removed]",
      "text/plain": [
       "<Figure size 432x288 with 1 Axes>"
      ]
     },
     "metadata": {
      "needs_background": "light"
     },
     "output_type": "display_data"
    },
    {
     "data": {
      "image/png": "[encoded data removed]",
      "text/plain": [
       "<Figure size 432x288 with 1 Axes>"
      ]
     },
     "metadata": {
      "needs_background": "light"
     },
     "output_type": "display_data"
    },
    {
     "data": {
      "image/png": "[encoded data removed]",
      "text/plain": [
       "<Figure size 432x288 with 1 Axes>"
      ]
     },
     "metadata": {
      "needs_background": "light"
     },
     "output_type": "display_data"
    },
    {
     "data": {
      "image/png": "[encoded data removed]",
      "text/plain": [
       "<Figure size 432x288 with 1 Axes>"
      ]
     },
     "metadata": {
      "needs_background": "light"
     },
     "output_type": "display_data"
    },
    {
     "data": {
      "image/png": "[encoded data removed]",
      "text/plain": [
       "<Figure size 432x288 with 1 Axes>"
      ]
     },
     "metadata": {
      "needs_background": "light"
     },
     "output_type": "display_data"
    },
    {
     "ename": "TypeError",
     "evalue": "'PathCollection' object is not iterable",
     "output_type": "error",
     "traceback": [
      "\u001b[0;31m---------------------------------------------------------------------------\u001b[0m",
      "\u001b[0;31mTypeError\u001b[0m                                 Traceback (most recent call last)",
      "\u001b[0;32m/var/folders/yr/nz2d8_8n42g11zxgd7yjxhq40000gn/T/ipykernel_11946/264417771.py\u001b[0m in \u001b[0;36m<module>\u001b[0;34m\u001b[0m\n\u001b[1;32m     30\u001b[0m \u001b[0;34m\u001b[0m\u001b[0m\n\u001b[1;32m     31\u001b[0m \u001b[0;31m# Create the animation\u001b[0m\u001b[0;34m\u001b[0m\u001b[0;34m\u001b[0m\u001b[0;34m\u001b[0m\u001b[0m\n\u001b[0;32m---> 32\u001b[0;31m im_ani = animation.ArtistAnimation(fig, ims, interval=700,\n\u001b[0m\u001b[1;32m     33\u001b[0m repeat_delay=1000, blit=True)\n\u001b[1;32m     34\u001b[0m \u001b[0;34m\u001b[0m\u001b[0m\n",
      "\u001b[0;32m/usr/local/lib/python3.9/site-packages/matplotlib/animation.py\u001b[0m in \u001b[0;36m__init__\u001b[0;34m(self, fig, artists, *args, **kwargs)\u001b[0m\n\u001b[1;32m   1524\u001b[0m         \u001b[0;31m# over by the machinery.\u001b[0m\u001b[0;34m\u001b[0m\u001b[0;34m\u001b[0m\u001b[0;34m\u001b[0m\u001b[0m\n\u001b[1;32m   1525\u001b[0m         \u001b[0mself\u001b[0m\u001b[0;34m.\u001b[0m\u001b[0m_framedata\u001b[0m \u001b[0;34m=\u001b[0m \u001b[0martists\u001b[0m\u001b[0;34m\u001b[0m\u001b[0;34m\u001b[0m\u001b[0m\n\u001b[0;32m-> 1526\u001b[0;31m         \u001b[0msuper\u001b[0m\u001b[0;34m(\u001b[0m\u001b[0;34m)\u001b[0m\u001b[0;34m.\u001b[0m\u001b[0m__init__\u001b[0m\u001b[0;34m(\u001b[0m\u001b[0mfig\u001b[0m\u001b[0;34m,\u001b[0m \u001b[0;34m*\u001b[0m\u001b[0margs\u001b[0m\u001b[0;34m,\u001b[0m \u001b[0;34m**\u001b[0m\u001b[0mkwargs\u001b[0m\u001b[0;34m)\u001b[0m\u001b[0;34m\u001b[0m\u001b[0;34m\u001b[0m\u001b[0m\n\u001b[0m\u001b[1;32m   1527\u001b[0m \u001b[0;34m\u001b[0m\u001b[0m\n\u001b[1;32m   1528\u001b[0m     \u001b[0;32mdef\u001b[0m \u001b[0m_init_draw\u001b[0m\u001b[0;34m(\u001b[0m\u001b[0mself\u001b[0m\u001b[0;34m)\u001b[0m\u001b[0;34m:\u001b[0m\u001b[0;34m\u001b[0m\u001b[0;34m\u001b[0m\u001b[0m\n",
      "\u001b[0;32m/usr/local/lib/python3.9/site-packages/matplotlib/animation.py\u001b[0m in \u001b[0;36m__init__\u001b[0;34m(self, fig, interval, repeat_delay, repeat, event_source, *args, **kwargs)\u001b[0m\n\u001b[1;32m   1465\u001b[0m         \u001b[0;32mif\u001b[0m \u001b[0mevent_source\u001b[0m \u001b[0;32mis\u001b[0m \u001b[0;32mNone\u001b[0m\u001b[0;34m:\u001b[0m\u001b[0;34m\u001b[0m\u001b[0;34m\u001b[0m\u001b[0m\n\u001b[1;32m   1466\u001b[0m             \u001b[0mevent_source\u001b[0m \u001b[0;34m=\u001b[0m \u001b[0mfig\u001b[0m\u001b[0;34m.\u001b[0m\u001b[0mcanvas\u001b[0m\u001b[0;34m.\u001b[0m\u001b[0mnew_timer\u001b[0m\u001b[0;34m(\u001b[0m\u001b[0minterval\u001b[0m\u001b[0;34m=\u001b[0m\u001b[0mself\u001b[0m\u001b[0;34m.\u001b[0m\u001b[0m_interval\u001b[0m\u001b[0;34m)\u001b[0m\u001b[0;34m\u001b[0m\u001b[0;34m\u001b[0m\u001b[0m\n\u001b[0;32m-> 1467\u001b[0;31m         \u001b[0msuper\u001b[0m\u001b[0;34m(\u001b[0m\u001b[0;34m)\u001b[0m\u001b[0;34m.\u001b[0m\u001b[0m__init__\u001b[0m\u001b[0;34m(\u001b[0m\u001b[0mfig\u001b[0m\u001b[0;34m,\u001b[0m \u001b[0mevent_source\u001b[0m\u001b[0;34m=\u001b[0m\u001b[0mevent_source\u001b[0m\u001b[0;34m,\u001b[0m \u001b[0;34m*\u001b[0m\u001b[0margs\u001b[0m\u001b[0;34m,\u001b[0m \u001b[0;34m**\u001b[0m\u001b[0mkwargs\u001b[0m\u001b[0;34m)\u001b[0m\u001b[0;34m\u001b[0m\u001b[0;34m\u001b[0m\u001b[0m\n\u001b[0m\u001b[1;32m   1468\u001b[0m \u001b[0;34m\u001b[0m\u001b[0m\n\u001b[1;32m   1469\u001b[0m     \u001b[0;32mdef\u001b[0m \u001b[0m_step\u001b[0m\u001b[0;34m(\u001b[0m\u001b[0mself\u001b[0m\u001b[0;34m,\u001b[0m \u001b[0;34m*\u001b[0m\u001b[0margs\u001b[0m\u001b[0;34m)\u001b[0m\u001b[0;34m:\u001b[0m\u001b[0;34m\u001b[0m\u001b[0;34m\u001b[0m\u001b[0m\n",
      "\u001b[0;32m/usr/local/lib/python3.9/site-packages/matplotlib/animation.py\u001b[0m in \u001b[0;36m__init__\u001b[0;34m(self, fig, event_source, blit)\u001b[0m\n\u001b[1;32m    967\u001b[0m                                                       self._stop)\n\u001b[1;32m    968\u001b[0m         \u001b[0;32mif\u001b[0m \u001b[0mself\u001b[0m\u001b[0;34m.\u001b[0m\u001b[0m_blit\u001b[0m\u001b[0;34m:\u001b[0m\u001b[0;34m\u001b[0m\u001b[0;34m\u001b[0m\u001b[0m\n\u001b[0;32m--> 969\u001b[0;31m             \u001b[0mself\u001b[0m\u001b[0;34m.\u001b[0m\u001b[0m_setup_blit\u001b[0m\u001b[0;34m(\u001b[0m\u001b[0;34m)\u001b[0m\u001b[0;34m\u001b[0m\u001b[0;34m\u001b[0m\u001b[0m\n\u001b[0m\u001b[1;32m    970\u001b[0m \u001b[0;34m\u001b[0m\u001b[0m\n\u001b[1;32m    971\u001b[0m     \u001b[0;32mdef\u001b[0m \u001b[0m__del__\u001b[0m\u001b[0;34m(\u001b[0m\u001b[0mself\u001b[0m\u001b[0;34m)\u001b[0m\u001b[0;34m:\u001b[0m\u001b[0;34m\u001b[0m\u001b[0;34m\u001b[0m\u001b[0m\n",
      "\u001b[0;32m/usr/local/lib/python3.9/site-packages/matplotlib/animation.py\u001b[0m in \u001b[0;36m_setup_blit\u001b[0;34m(self)\u001b[0m\n\u001b[1;32m   1279\u001b[0m         self._resize_id = self._fig.canvas.mpl_connect('resize_event',\n\u001b[1;32m   1280\u001b[0m                                                        self._on_resize)\n\u001b[0;32m-> 1281\u001b[0;31m         \u001b[0mself\u001b[0m\u001b[0;34m.\u001b[0m\u001b[0m_post_draw\u001b[0m\u001b[0;34m(\u001b[0m\u001b[0;32mNone\u001b[0m\u001b[0;34m,\u001b[0m \u001b[0mself\u001b[0m\u001b[0;34m.\u001b[0m\u001b[0m_blit\u001b[0m\u001b[0;34m)\u001b[0m\u001b[0;34m\u001b[0m\u001b[0;34m\u001b[0m\u001b[0m\n\u001b[0m\u001b[1;32m   1282\u001b[0m \u001b[0;34m\u001b[0m\u001b[0m\n\u001b[1;32m   1283\u001b[0m     \u001b[0;32mdef\u001b[0m \u001b[0m_on_resize\u001b[0m\u001b[0;34m(\u001b[0m\u001b[0mself\u001b[0m\u001b[0;34m,\u001b[0m \u001b[0mevent\u001b[0m\u001b[0;34m)\u001b[0m\u001b[0;34m:\u001b[0m\u001b[0;34m\u001b[0m\u001b[0;34m\u001b[0m\u001b[0m\n",
      "\u001b[0;32m/usr/local/lib/python3.9/site-packages/matplotlib/animation.py\u001b[0m in \u001b[0;36m_post_draw\u001b[0;34m(self, framedata, blit)\u001b[0m\n\u001b[1;32m   1232\u001b[0m             \u001b[0mself\u001b[0m\u001b[0;34m.\u001b[0m\u001b[0m_blit_draw\u001b[0m\u001b[0;34m(\u001b[0m\u001b[0mself\u001b[0m\u001b[0;34m.\u001b[0m\u001b[0m_drawn_artists\u001b[0m\u001b[0;34m)\u001b[0m\u001b[0;34m\u001b[0m\u001b[0;34m\u001b[0m\u001b[0m\n\u001b[1;32m   1233\u001b[0m         \u001b[0;32melse\u001b[0m\u001b[0;34m:\u001b[0m\u001b[0;34m\u001b[0m\u001b[0;34m\u001b[0m\u001b[0m\n\u001b[0;32m-> 1234\u001b[0;31m             \u001b[0mself\u001b[0m\u001b[0;34m.\u001b[0m\u001b[0m_fig\u001b[0m\u001b[0;34m.\u001b[0m\u001b[0mcanvas\u001b[0m\u001b[0;34m.\u001b[0m\u001b[0mdraw_idle\u001b[0m\u001b[0;34m(\u001b[0m\u001b[0;34m)\u001b[0m\u001b[0;34m\u001b[0m\u001b[0;34m\u001b[0m\u001b[0m\n\u001b[0m\u001b[1;32m   1235\u001b[0m \u001b[0;34m\u001b[0m\u001b[0m\n\u001b[1;32m   1236\u001b[0m     \u001b[0;31m# The rest of the code in this class is to facilitate easy blitting\u001b[0m\u001b[0;34m\u001b[0m\u001b[0;34m\u001b[0m\u001b[0;34m\u001b[0m\u001b[0m\n",
      "\u001b[0;32m/usr/local/lib/python3.9/site-packages/matplotlib/backend_bases.py\u001b[0m in \u001b[0;36mdraw_idle\u001b[0;34m(self, *args, **kwargs)\u001b[0m\n\u001b[1;32m   2053\u001b[0m         \u001b[0;32mif\u001b[0m \u001b[0;32mnot\u001b[0m \u001b[0mself\u001b[0m\u001b[0;34m.\u001b[0m\u001b[0m_is_idle_drawing\u001b[0m\u001b[0;34m:\u001b[0m\u001b[0;34m\u001b[0m\u001b[0;34m\u001b[0m\u001b[0m\n\u001b[1;32m   2054\u001b[0m             \u001b[0;32mwith\u001b[0m \u001b[0mself\u001b[0m\u001b[0;34m.\u001b[0m\u001b[0m_idle_draw_cntx\u001b[0m\u001b[0;34m(\u001b[0m\u001b[0;34m)\u001b[0m\u001b[0;34m:\u001b[0m\u001b[0;34m\u001b[0m\u001b[0;34m\u001b[0m\u001b[0m\n\u001b[0;32m-> 2055\u001b[0;31m                 \u001b[0mself\u001b[0m\u001b[0;34m.\u001b[0m\u001b[0mdraw\u001b[0m\u001b[0;34m(\u001b[0m\u001b[0;34m*\u001b[0m\u001b[0margs\u001b[0m\u001b[0;34m,\u001b[0m \u001b[0;34m**\u001b[0m\u001b[0mkwargs\u001b[0m\u001b[0;34m)\u001b[0m\u001b[0;34m\u001b[0m\u001b[0;34m\u001b[0m\u001b[0m\n\u001b[0m\u001b[1;32m   2056\u001b[0m \u001b[0;34m\u001b[0m\u001b[0m\n\u001b[1;32m   2057\u001b[0m     \u001b[0;32mdef\u001b[0m \u001b[0mget_width_height\u001b[0m\u001b[0;34m(\u001b[0m\u001b[0mself\u001b[0m\u001b[0;34m)\u001b[0m\u001b[0;34m:\u001b[0m\u001b[0;34m\u001b[0m\u001b[0;34m\u001b[0m\u001b[0m\n",
      "\u001b[0;32m/usr/local/lib/python3.9/site-packages/matplotlib/backends/backend_agg.py\u001b[0m in \u001b[0;36mdraw\u001b[0;34m(self)\u001b[0m\n\u001b[1;32m    404\u001b[0m              (self.toolbar._wait_cursor_for_draw_cm() if self.toolbar\n\u001b[1;32m    405\u001b[0m               else nullcontext()):\n\u001b[0;32m--> 406\u001b[0;31m             \u001b[0mself\u001b[0m\u001b[0;34m.\u001b[0m\u001b[0mfigure\u001b[0m\u001b[0;34m.\u001b[0m\u001b[0mdraw\u001b[0m\u001b[0;34m(\u001b[0m\u001b[0mself\u001b[0m\u001b[0;34m.\u001b[0m\u001b[0mrenderer\u001b[0m\u001b[0;34m)\u001b[0m\u001b[0;34m\u001b[0m\u001b[0;34m\u001b[0m\u001b[0m\n\u001b[0m\u001b[1;32m    407\u001b[0m             \u001b[0;31m# A GUI class may be need to update a window using this draw, so\u001b[0m\u001b[0;34m\u001b[0m\u001b[0;34m\u001b[0m\u001b[0;34m\u001b[0m\u001b[0m\n\u001b[1;32m    408\u001b[0m             \u001b[0;31m# don't forget to call the superclass.\u001b[0m\u001b[0;34m\u001b[0m\u001b[0;34m\u001b[0m\u001b[0;34m\u001b[0m\u001b[0m\n",
      "\u001b[0;32m/usr/local/lib/python3.9/site-packages/matplotlib/artist.py\u001b[0m in \u001b[0;36mdraw_wrapper\u001b[0;34m(artist, renderer, *args, **kwargs)\u001b[0m\n\u001b[1;32m     72\u001b[0m     \u001b[0;34m@\u001b[0m\u001b[0mwraps\u001b[0m\u001b[0;34m(\u001b[0m\u001b[0mdraw\u001b[0m\u001b[0;34m)\u001b[0m\u001b[0;34m\u001b[0m\u001b[0;34m\u001b[0m\u001b[0m\n\u001b[1;32m     73\u001b[0m     \u001b[0;32mdef\u001b[0m \u001b[0mdraw_wrapper\u001b[0m\u001b[0;34m(\u001b[0m\u001b[0martist\u001b[0m\u001b[0;34m,\u001b[0m \u001b[0mrenderer\u001b[0m\u001b[0;34m,\u001b[0m \u001b[0;34m*\u001b[0m\u001b[0margs\u001b[0m\u001b[0;34m,\u001b[0m \u001b[0;34m**\u001b[0m\u001b[0mkwargs\u001b[0m\u001b[0;34m)\u001b[0m\u001b[0;34m:\u001b[0m\u001b[0;34m\u001b[0m\u001b[0;34m\u001b[0m\u001b[0m\n\u001b[0;32m---> 74\u001b[0;31m         \u001b[0mresult\u001b[0m \u001b[0;34m=\u001b[0m \u001b[0mdraw\u001b[0m\u001b[0;34m(\u001b[0m\u001b[0martist\u001b[0m\u001b[0;34m,\u001b[0m \u001b[0mrenderer\u001b[0m\u001b[0;34m,\u001b[0m \u001b[0;34m*\u001b[0m\u001b[0margs\u001b[0m\u001b[0;34m,\u001b[0m \u001b[0;34m**\u001b[0m\u001b[0mkwargs\u001b[0m\u001b[0;34m)\u001b[0m\u001b[0;34m\u001b[0m\u001b[0;34m\u001b[0m\u001b[0m\n\u001b[0m\u001b[1;32m     75\u001b[0m         \u001b[0;32mif\u001b[0m \u001b[0mrenderer\u001b[0m\u001b[0;34m.\u001b[0m\u001b[0m_rasterizing\u001b[0m\u001b[0;34m:\u001b[0m\u001b[0;34m\u001b[0m\u001b[0;34m\u001b[0m\u001b[0m\n\u001b[1;32m     76\u001b[0m             \u001b[0mrenderer\u001b[0m\u001b[0;34m.\u001b[0m\u001b[0mstop_rasterizing\u001b[0m\u001b[0;34m(\u001b[0m\u001b[0;34m)\u001b[0m\u001b[0;34m\u001b[0m\u001b[0;34m\u001b[0m\u001b[0m\n",
      "\u001b[0;32m/usr/local/lib/python3.9/site-packages/matplotlib/artist.py\u001b[0m in \u001b[0;36mdraw_wrapper\u001b[0;34m(artist, renderer, *args, **kwargs)\u001b[0m\n\u001b[1;32m     49\u001b[0m                 \u001b[0mrenderer\u001b[0m\u001b[0;34m.\u001b[0m\u001b[0mstart_filter\u001b[0m\u001b[0;34m(\u001b[0m\u001b[0;34m)\u001b[0m\u001b[0;34m\u001b[0m\u001b[0;34m\u001b[0m\u001b[0m\n\u001b[1;32m     50\u001b[0m \u001b[0;34m\u001b[0m\u001b[0m\n\u001b[0;32m---> 51\u001b[0;31m             \u001b[0;32mreturn\u001b[0m \u001b[0mdraw\u001b[0m\u001b[0;34m(\u001b[0m\u001b[0martist\u001b[0m\u001b[0;34m,\u001b[0m \u001b[0mrenderer\u001b[0m\u001b[0;34m,\u001b[0m \u001b[0;34m*\u001b[0m\u001b[0margs\u001b[0m\u001b[0;34m,\u001b[0m \u001b[0;34m**\u001b[0m\u001b[0mkwargs\u001b[0m\u001b[0;34m)\u001b[0m\u001b[0;34m\u001b[0m\u001b[0;34m\u001b[0m\u001b[0m\n\u001b[0m\u001b[1;32m     52\u001b[0m         \u001b[0;32mfinally\u001b[0m\u001b[0;34m:\u001b[0m\u001b[0;34m\u001b[0m\u001b[0;34m\u001b[0m\u001b[0m\n\u001b[1;32m     53\u001b[0m             \u001b[0;32mif\u001b[0m \u001b[0martist\u001b[0m\u001b[0;34m.\u001b[0m\u001b[0mget_agg_filter\u001b[0m\u001b[0;34m(\u001b[0m\u001b[0;34m)\u001b[0m \u001b[0;32mis\u001b[0m \u001b[0;32mnot\u001b[0m \u001b[0;32mNone\u001b[0m\u001b[0;34m:\u001b[0m\u001b[0;34m\u001b[0m\u001b[0;34m\u001b[0m\u001b[0m\n",
      "\u001b[0;32m/usr/local/lib/python3.9/site-packages/matplotlib/figure.py\u001b[0m in \u001b[0;36mdraw\u001b[0;34m(self, renderer)\u001b[0m\n\u001b[1;32m   2798\u001b[0m             \u001b[0mself\u001b[0m\u001b[0;34m.\u001b[0m\u001b[0mstale\u001b[0m \u001b[0;34m=\u001b[0m \u001b[0;32mFalse\u001b[0m\u001b[0;34m\u001b[0m\u001b[0;34m\u001b[0m\u001b[0m\n\u001b[1;32m   2799\u001b[0m \u001b[0;34m\u001b[0m\u001b[0m\n\u001b[0;32m-> 2800\u001b[0;31m         \u001b[0mself\u001b[0m\u001b[0;34m.\u001b[0m\u001b[0mcanvas\u001b[0m\u001b[0;34m.\u001b[0m\u001b[0mdraw_event\u001b[0m\u001b[0;34m(\u001b[0m\u001b[0mrenderer\u001b[0m\u001b[0;34m)\u001b[0m\u001b[0;34m\u001b[0m\u001b[0;34m\u001b[0m\u001b[0m\n\u001b[0m\u001b[1;32m   2801\u001b[0m \u001b[0;34m\u001b[0m\u001b[0m\n\u001b[1;32m   2802\u001b[0m     \u001b[0;32mdef\u001b[0m \u001b[0mdraw_artist\u001b[0m\u001b[0;34m(\u001b[0m\u001b[0mself\u001b[0m\u001b[0;34m,\u001b[0m \u001b[0ma\u001b[0m\u001b[0;34m)\u001b[0m\u001b[0;34m:\u001b[0m\u001b[0;34m\u001b[0m\u001b[0;34m\u001b[0m\u001b[0m\n",
      "\u001b[0;32m/usr/local/lib/python3.9/site-packages/matplotlib/backend_bases.py\u001b[0m in \u001b[0;36mdraw_event\u001b[0;34m(self, renderer)\u001b[0m\n\u001b[1;32m   1790\u001b[0m         \u001b[0ms\u001b[0m \u001b[0;34m=\u001b[0m \u001b[0;34m'draw_event'\u001b[0m\u001b[0;34m\u001b[0m\u001b[0;34m\u001b[0m\u001b[0m\n\u001b[1;32m   1791\u001b[0m         \u001b[0mevent\u001b[0m \u001b[0;34m=\u001b[0m \u001b[0mDrawEvent\u001b[0m\u001b[0;34m(\u001b[0m\u001b[0ms\u001b[0m\u001b[0;34m,\u001b[0m \u001b[0mself\u001b[0m\u001b[0;34m,\u001b[0m \u001b[0mrenderer\u001b[0m\u001b[0;34m)\u001b[0m\u001b[0;34m\u001b[0m\u001b[0;34m\u001b[0m\u001b[0m\n\u001b[0;32m-> 1792\u001b[0;31m         \u001b[0mself\u001b[0m\u001b[0;34m.\u001b[0m\u001b[0mcallbacks\u001b[0m\u001b[0;34m.\u001b[0m\u001b[0mprocess\u001b[0m\u001b[0;34m(\u001b[0m\u001b[0ms\u001b[0m\u001b[0;34m,\u001b[0m \u001b[0mevent\u001b[0m\u001b[0;34m)\u001b[0m\u001b[0;34m\u001b[0m\u001b[0;34m\u001b[0m\u001b[0m\n\u001b[0m\u001b[1;32m   1793\u001b[0m \u001b[0;34m\u001b[0m\u001b[0m\n\u001b[1;32m   1794\u001b[0m     \u001b[0;32mdef\u001b[0m \u001b[0mresize_event\u001b[0m\u001b[0;34m(\u001b[0m\u001b[0mself\u001b[0m\u001b[0;34m)\u001b[0m\u001b[0;34m:\u001b[0m\u001b[0;34m\u001b[0m\u001b[0;34m\u001b[0m\u001b[0m\n",
      "\u001b[0;32m/usr/local/lib/python3.9/site-packages/matplotlib/cbook/__init__.py\u001b[0m in \u001b[0;36mprocess\u001b[0;34m(self, s, *args, **kwargs)\u001b[0m\n\u001b[1;32m    273\u001b[0m                 \u001b[0;32mexcept\u001b[0m \u001b[0mException\u001b[0m \u001b[0;32mas\u001b[0m \u001b[0mexc\u001b[0m\u001b[0;34m:\u001b[0m\u001b[0;34m\u001b[0m\u001b[0;34m\u001b[0m\u001b[0m\n\u001b[1;32m    274\u001b[0m                     \u001b[0;32mif\u001b[0m \u001b[0mself\u001b[0m\u001b[0;34m.\u001b[0m\u001b[0mexception_handler\u001b[0m \u001b[0;32mis\u001b[0m \u001b[0;32mnot\u001b[0m \u001b[0;32mNone\u001b[0m\u001b[0;34m:\u001b[0m\u001b[0;34m\u001b[0m\u001b[0;34m\u001b[0m\u001b[0m\n\u001b[0;32m--> 275\u001b[0;31m                         \u001b[0mself\u001b[0m\u001b[0;34m.\u001b[0m\u001b[0mexception_handler\u001b[0m\u001b[0;34m(\u001b[0m\u001b[0mexc\u001b[0m\u001b[0;34m)\u001b[0m\u001b[0;34m\u001b[0m\u001b[0;34m\u001b[0m\u001b[0m\n\u001b[0m\u001b[1;32m    276\u001b[0m                     \u001b[0;32melse\u001b[0m\u001b[0;34m:\u001b[0m\u001b[0;34m\u001b[0m\u001b[0;34m\u001b[0m\u001b[0m\n\u001b[1;32m    277\u001b[0m                         \u001b[0;32mraise\u001b[0m\u001b[0;34m\u001b[0m\u001b[0;34m\u001b[0m\u001b[0m\n",
      "\u001b[0;32m/usr/local/lib/python3.9/site-packages/matplotlib/cbook/__init__.py\u001b[0m in \u001b[0;36m_exception_printer\u001b[0;34m(exc)\u001b[0m\n\u001b[1;32m     87\u001b[0m \u001b[0;32mdef\u001b[0m \u001b[0m_exception_printer\u001b[0m\u001b[0;34m(\u001b[0m\u001b[0mexc\u001b[0m\u001b[0;34m)\u001b[0m\u001b[0;34m:\u001b[0m\u001b[0;34m\u001b[0m\u001b[0;34m\u001b[0m\u001b[0m\n\u001b[1;32m     88\u001b[0m     \u001b[0;32mif\u001b[0m \u001b[0m_get_running_interactive_framework\u001b[0m\u001b[0;34m(\u001b[0m\u001b[0;34m)\u001b[0m \u001b[0;32min\u001b[0m \u001b[0;34m[\u001b[0m\u001b[0;34m\"headless\"\u001b[0m\u001b[0;34m,\u001b[0m \u001b[0;32mNone\u001b[0m\u001b[0;34m]\u001b[0m\u001b[0;34m:\u001b[0m\u001b[0;34m\u001b[0m\u001b[0;34m\u001b[0m\u001b[0m\n\u001b[0;32m---> 89\u001b[0;31m         \u001b[0;32mraise\u001b[0m \u001b[0mexc\u001b[0m\u001b[0;34m\u001b[0m\u001b[0;34m\u001b[0m\u001b[0m\n\u001b[0m\u001b[1;32m     90\u001b[0m     \u001b[0;32melse\u001b[0m\u001b[0;34m:\u001b[0m\u001b[0;34m\u001b[0m\u001b[0;34m\u001b[0m\u001b[0m\n\u001b[1;32m     91\u001b[0m         \u001b[0mtraceback\u001b[0m\u001b[0;34m.\u001b[0m\u001b[0mprint_exc\u001b[0m\u001b[0;34m(\u001b[0m\u001b[0;34m)\u001b[0m\u001b[0;34m\u001b[0m\u001b[0;34m\u001b[0m\u001b[0m\n",
      "\u001b[0;32m/usr/local/lib/python3.9/site-packages/matplotlib/cbook/__init__.py\u001b[0m in \u001b[0;36mprocess\u001b[0;34m(self, s, *args, **kwargs)\u001b[0m\n\u001b[1;32m    268\u001b[0m             \u001b[0;32mif\u001b[0m \u001b[0mfunc\u001b[0m \u001b[0;32mis\u001b[0m \u001b[0;32mnot\u001b[0m \u001b[0;32mNone\u001b[0m\u001b[0;34m:\u001b[0m\u001b[0;34m\u001b[0m\u001b[0;34m\u001b[0m\u001b[0m\n\u001b[1;32m    269\u001b[0m                 \u001b[0;32mtry\u001b[0m\u001b[0;34m:\u001b[0m\u001b[0;34m\u001b[0m\u001b[0;34m\u001b[0m\u001b[0m\n\u001b[0;32m--> 270\u001b[0;31m                     \u001b[0mfunc\u001b[0m\u001b[0;34m(\u001b[0m\u001b[0;34m*\u001b[0m\u001b[0margs\u001b[0m\u001b[0;34m,\u001b[0m \u001b[0;34m**\u001b[0m\u001b[0mkwargs\u001b[0m\u001b[0;34m)\u001b[0m\u001b[0;34m\u001b[0m\u001b[0;34m\u001b[0m\u001b[0m\n\u001b[0m\u001b[1;32m    271\u001b[0m                 \u001b[0;31m# this does not capture KeyboardInterrupt, SystemExit,\u001b[0m\u001b[0;34m\u001b[0m\u001b[0;34m\u001b[0m\u001b[0;34m\u001b[0m\u001b[0m\n\u001b[1;32m    272\u001b[0m                 \u001b[0;31m# and GeneratorExit\u001b[0m\u001b[0;34m\u001b[0m\u001b[0;34m\u001b[0m\u001b[0;34m\u001b[0m\u001b[0m\n",
      "\u001b[0;32m/usr/local/lib/python3.9/site-packages/matplotlib/animation.py\u001b[0m in \u001b[0;36m_start\u001b[0;34m(self, *args)\u001b[0m\n\u001b[1;32m    989\u001b[0m \u001b[0;34m\u001b[0m\u001b[0m\n\u001b[1;32m    990\u001b[0m         \u001b[0;31m# Now do any initial draw\u001b[0m\u001b[0;34m\u001b[0m\u001b[0;34m\u001b[0m\u001b[0;34m\u001b[0m\u001b[0m\n\u001b[0;32m--> 991\u001b[0;31m         \u001b[0mself\u001b[0m\u001b[0;34m.\u001b[0m\u001b[0m_init_draw\u001b[0m\u001b[0;34m(\u001b[0m\u001b[0;34m)\u001b[0m\u001b[0;34m\u001b[0m\u001b[0;34m\u001b[0m\u001b[0m\n\u001b[0m\u001b[1;32m    992\u001b[0m \u001b[0;34m\u001b[0m\u001b[0m\n\u001b[1;32m    993\u001b[0m         \u001b[0;31m# Add our callback for stepping the animation and\u001b[0m\u001b[0;34m\u001b[0m\u001b[0;34m\u001b[0m\u001b[0;34m\u001b[0m\u001b[0m\n",
      "\u001b[0;32m/usr/local/lib/python3.9/site-packages/matplotlib/animation.py\u001b[0m in \u001b[0;36m_init_draw\u001b[0;34m(self)\u001b[0m\n\u001b[1;32m   1531\u001b[0m         \u001b[0mfigs\u001b[0m \u001b[0;34m=\u001b[0m \u001b[0mset\u001b[0m\u001b[0;34m(\u001b[0m\u001b[0;34m)\u001b[0m\u001b[0;34m\u001b[0m\u001b[0;34m\u001b[0m\u001b[0m\n\u001b[1;32m   1532\u001b[0m         \u001b[0;32mfor\u001b[0m \u001b[0mf\u001b[0m \u001b[0;32min\u001b[0m \u001b[0mself\u001b[0m\u001b[0;34m.\u001b[0m\u001b[0mnew_frame_seq\u001b[0m\u001b[0;34m(\u001b[0m\u001b[0;34m)\u001b[0m\u001b[0;34m:\u001b[0m\u001b[0;34m\u001b[0m\u001b[0;34m\u001b[0m\u001b[0m\n\u001b[0;32m-> 1533\u001b[0;31m             \u001b[0;32mfor\u001b[0m \u001b[0martist\u001b[0m \u001b[0;32min\u001b[0m \u001b[0mf\u001b[0m\u001b[0;34m:\u001b[0m\u001b[0;34m\u001b[0m\u001b[0;34m\u001b[0m\u001b[0m\n\u001b[0m\u001b[1;32m   1534\u001b[0m                 \u001b[0martist\u001b[0m\u001b[0;34m.\u001b[0m\u001b[0mset_visible\u001b[0m\u001b[0;34m(\u001b[0m\u001b[0;32mFalse\u001b[0m\u001b[0;34m)\u001b[0m\u001b[0;34m\u001b[0m\u001b[0;34m\u001b[0m\u001b[0m\n\u001b[1;32m   1535\u001b[0m                 \u001b[0martist\u001b[0m\u001b[0;34m.\u001b[0m\u001b[0mset_animated\u001b[0m\u001b[0;34m(\u001b[0m\u001b[0mself\u001b[0m\u001b[0;34m.\u001b[0m\u001b[0m_blit\u001b[0m\u001b[0;34m)\u001b[0m\u001b[0;34m\u001b[0m\u001b[0;34m\u001b[0m\u001b[0m\n",
      "\u001b[0;31mTypeError\u001b[0m: 'PathCollection' object is not iterable"
     ]
    }
   ],
   "source": [
    "# add in ground truth points i.e. the vectors from E1 in the paper to millimetre precision\n",
    "loc_actual = np.array([\n",
    "    [0,0,0], # E1\n",
    "    [194.451, 106.618, 6.318], # W2\n",
    "    [300.442, 89.639, 4.954], # W1\n",
    "    [131.120, 272.382, -6.508], # S2\n",
    "    [125.371, 305.963, -5.865], # S1\n",
    "    [54.970, 36.246, -3.077], # E2\n",
    "])\n",
    "\n",
    "\n",
    "# fig = plt.figure()\n",
    "# ax = plt.axes(projection\n",
    "# ax.scatter3D(telescope_locs[:,0], telescope_locs[:,1], telescope_locs[:,2]);='3d')\n",
    "fig = plt.figure()\n",
    "\n",
    "# Remove the axes for aesthetics\n",
    "plt.axis('off')\n",
    "ims = []\n",
    "\n",
    "for i, beta in enumerate(betas): \n",
    "    plt.axis('off')\n",
    "    fig = plt.figure()\n",
    "    loc_predict = beta.reshape(-1,3)\n",
    "    plt.scatter(loc_actual[:,0], loc_actual[:,1], label='actual locations')\n",
    "    plt.scatter(loc_predict[:,0], loc_predict[:,1], label='predicted locations')\n",
    "    plt.legend()\n",
    "    ims.append((plt.scatter(loc_actual[:,0], loc_actual[:,1], label='actual locations')),)\n",
    "    plt.show()\n",
    "    \n",
    "# Create the animation\n",
    "im_ani = animation.ArtistAnimation(fig, ims, interval=700,\n",
    "repeat_delay=1000, blit=True)\n",
    "\n",
    "# Optional to save the animation\n",
    "im_ani.save('test.gif', writer=\"imagemagick\")"
   ]
  },
  {
   "cell_type": "code",
   "execution_count": 291,
   "id": "24a66e91",
   "metadata": {},
   "outputs": [
    {
     "ename": "ValueError",
     "evalue": "Too many dimensions: 3 > 2.",
     "output_type": "error",
     "traceback": [
      "\u001b[0;31m---------------------------------------------------------------------------\u001b[0m",
      "\u001b[0;31mValueError\u001b[0m                                Traceback (most recent call last)",
      "\u001b[0;32m/var/folders/yr/nz2d8_8n42g11zxgd7yjxhq40000gn/T/ipykernel_11946/2923172162.py\u001b[0m in \u001b[0;36m<module>\u001b[0;34m\u001b[0m\n\u001b[1;32m      4\u001b[0m )\n\u001b[1;32m      5\u001b[0m \u001b[0;34m\u001b[0m\u001b[0m\n\u001b[0;32m----> 6\u001b[0;31m \u001b[0miio\u001b[0m\u001b[0;34m.\u001b[0m\u001b[0mimwrite\u001b[0m\u001b[0;34m(\u001b[0m\u001b[0;34m'error_reduction.gif'\u001b[0m\u001b[0;34m,\u001b[0m \u001b[0mframes\u001b[0m\u001b[0;34m,\u001b[0m \u001b[0mmode\u001b[0m\u001b[0;34m=\u001b[0m\u001b[0;34m\"I\"\u001b[0m\u001b[0;34m)\u001b[0m\u001b[0;34m\u001b[0m\u001b[0;34m\u001b[0m\u001b[0m\n\u001b[0m",
      "\u001b[0;32m/usr/local/lib/python3.9/site-packages/imageio/v3.py\u001b[0m in \u001b[0;36mimwrite\u001b[0;34m(uri, image, plugin, format_hint, **kwargs)\u001b[0m\n\u001b[1;32m    143\u001b[0m \u001b[0;34m\u001b[0m\u001b[0m\n\u001b[1;32m    144\u001b[0m     \u001b[0;32mwith\u001b[0m \u001b[0mimopen\u001b[0m\u001b[0;34m(\u001b[0m\u001b[0muri\u001b[0m\u001b[0;34m,\u001b[0m \u001b[0;34m\"w\"\u001b[0m\u001b[0;34m,\u001b[0m \u001b[0;34m**\u001b[0m\u001b[0mplugin_kwargs\u001b[0m\u001b[0;34m)\u001b[0m \u001b[0;32mas\u001b[0m \u001b[0mimg_file\u001b[0m\u001b[0;34m:\u001b[0m\u001b[0;34m\u001b[0m\u001b[0;34m\u001b[0m\u001b[0m\n\u001b[0;32m--> 145\u001b[0;31m         \u001b[0mencoded\u001b[0m \u001b[0;34m=\u001b[0m \u001b[0mimg_file\u001b[0m\u001b[0;34m.\u001b[0m\u001b[0mwrite\u001b[0m\u001b[0;34m(\u001b[0m\u001b[0mimage\u001b[0m\u001b[0;34m,\u001b[0m \u001b[0;34m**\u001b[0m\u001b[0mkwargs\u001b[0m\u001b[0;34m)\u001b[0m\u001b[0;34m\u001b[0m\u001b[0;34m\u001b[0m\u001b[0m\n\u001b[0m\u001b[1;32m    146\u001b[0m \u001b[0;34m\u001b[0m\u001b[0m\n\u001b[1;32m    147\u001b[0m     \u001b[0;32mreturn\u001b[0m \u001b[0mencoded\u001b[0m\u001b[0;34m\u001b[0m\u001b[0;34m\u001b[0m\u001b[0m\n",
      "\u001b[0;32m/usr/local/lib/python3.9/site-packages/imageio/plugins/pillow.py\u001b[0m in \u001b[0;36mwrite\u001b[0;34m(self, image, mode, format, **kwargs)\u001b[0m\n\u001b[1;32m    280\u001b[0m         \u001b[0mpil_frames\u001b[0m \u001b[0;34m=\u001b[0m \u001b[0mlist\u001b[0m\u001b[0;34m(\u001b[0m\u001b[0;34m)\u001b[0m\u001b[0;34m\u001b[0m\u001b[0;34m\u001b[0m\u001b[0m\n\u001b[1;32m    281\u001b[0m         \u001b[0;32mfor\u001b[0m \u001b[0mframe\u001b[0m \u001b[0;32min\u001b[0m \u001b[0mimage\u001b[0m\u001b[0;34m:\u001b[0m\u001b[0;34m\u001b[0m\u001b[0;34m\u001b[0m\u001b[0m\n\u001b[0;32m--> 282\u001b[0;31m             \u001b[0mpil_frame\u001b[0m \u001b[0;34m=\u001b[0m \u001b[0mImage\u001b[0m\u001b[0;34m.\u001b[0m\u001b[0mfromarray\u001b[0m\u001b[0;34m(\u001b[0m\u001b[0mframe\u001b[0m\u001b[0;34m,\u001b[0m \u001b[0mmode\u001b[0m\u001b[0;34m=\u001b[0m\u001b[0mmode\u001b[0m\u001b[0;34m)\u001b[0m\u001b[0;34m\u001b[0m\u001b[0;34m\u001b[0m\u001b[0m\n\u001b[0m\u001b[1;32m    283\u001b[0m             \u001b[0;32mif\u001b[0m \u001b[0;34m\"bits\"\u001b[0m \u001b[0;32min\u001b[0m \u001b[0mkwargs\u001b[0m\u001b[0;34m:\u001b[0m\u001b[0;34m\u001b[0m\u001b[0;34m\u001b[0m\u001b[0m\n\u001b[1;32m    284\u001b[0m                 \u001b[0mpil_frame\u001b[0m \u001b[0;34m=\u001b[0m \u001b[0mpil_frame\u001b[0m\u001b[0;34m.\u001b[0m\u001b[0mquantize\u001b[0m\u001b[0;34m(\u001b[0m\u001b[0mcolors\u001b[0m\u001b[0;34m=\u001b[0m\u001b[0;36m2\u001b[0m \u001b[0;34m**\u001b[0m \u001b[0mkwargs\u001b[0m\u001b[0;34m[\u001b[0m\u001b[0;34m\"bits\"\u001b[0m\u001b[0;34m]\u001b[0m\u001b[0;34m)\u001b[0m\u001b[0;34m\u001b[0m\u001b[0;34m\u001b[0m\u001b[0m\n",
      "\u001b[0;32m/usr/local/lib/python3.9/site-packages/PIL/Image.py\u001b[0m in \u001b[0;36mfromarray\u001b[0;34m(obj, mode)\u001b[0m\n\u001b[1;32m   2845\u001b[0m         \u001b[0mndmax\u001b[0m \u001b[0;34m=\u001b[0m \u001b[0;36m4\u001b[0m\u001b[0;34m\u001b[0m\u001b[0;34m\u001b[0m\u001b[0m\n\u001b[1;32m   2846\u001b[0m     \u001b[0;32mif\u001b[0m \u001b[0mndim\u001b[0m \u001b[0;34m>\u001b[0m \u001b[0mndmax\u001b[0m\u001b[0;34m:\u001b[0m\u001b[0;34m\u001b[0m\u001b[0;34m\u001b[0m\u001b[0m\n\u001b[0;32m-> 2847\u001b[0;31m         \u001b[0;32mraise\u001b[0m \u001b[0mValueError\u001b[0m\u001b[0;34m(\u001b[0m\u001b[0;34mf\"Too many dimensions: {ndim} > {ndmax}.\"\u001b[0m\u001b[0;34m)\u001b[0m\u001b[0;34m\u001b[0m\u001b[0;34m\u001b[0m\u001b[0m\n\u001b[0m\u001b[1;32m   2848\u001b[0m \u001b[0;34m\u001b[0m\u001b[0m\n\u001b[1;32m   2849\u001b[0m     \u001b[0msize\u001b[0m \u001b[0;34m=\u001b[0m \u001b[0;36m1\u001b[0m \u001b[0;32mif\u001b[0m \u001b[0mndim\u001b[0m \u001b[0;34m==\u001b[0m \u001b[0;36m1\u001b[0m \u001b[0;32melse\u001b[0m \u001b[0mshape\u001b[0m\u001b[0;34m[\u001b[0m\u001b[0;36m1\u001b[0m\u001b[0;34m]\u001b[0m\u001b[0;34m,\u001b[0m \u001b[0mshape\u001b[0m\u001b[0;34m[\u001b[0m\u001b[0;36m0\u001b[0m\u001b[0;34m]\u001b[0m\u001b[0;34m\u001b[0m\u001b[0;34m\u001b[0m\u001b[0m\n",
      "\u001b[0;31mValueError\u001b[0m: Too many dimensions: 3 > 2."
     ]
    }
   ],
   "source": [
    "frames = np.stack(\n",
    "    [iio.imread(f\"{i}.jpg\") for i in range(10)],\n",
    "    axis=0\n",
    ")\n",
    "\n",
    "iio.imwrite('error_reduction.gif', frames, mode=\"I\")"
   ]
  },
  {
   "cell_type": "markdown",
   "id": "a170358a",
   "metadata": {},
   "source": [
    "### Notes \n",
    "\n",
    "- Strange as the errors for 04/07 and 11/06 seem to be find but the other two date seems to have unusually large errors... All of 2012 also has very large errors too\n",
    "- Elevation and azimuth are swapped around for all the 2019 dates"
   ]
  },
  {
   "cell_type": "markdown",
   "id": "a191a5f4",
   "metadata": {},
   "source": [
    "## 2: SVD Error\n",
    "\n",
    "- Analyse all nights for 2019 to see if there is any evidence for the telescopes moving due to seasonal effect \n",
    "- To do this need to estimate the uncertainty of the telescope position solution for EACH MONTH (?)\n",
    "\n",
    "### Two ways to estimate errors\n",
    "1. compare the solutions on two different nights in the same month and use the variation between the solutions to esitmate the solution uncertainty \n",
    "2. derive an uncertainty estimate using Singular Value Decomposition (SVD) of the design matrix to determine U, w and V.T matrixes using:\n",
    "\n",
    "$$\\sigma^2(\\theta_j) = \\sum_i \\left ( \\frac{V_{ji}}{w_i} \\right )^2 \\sigma^2_d$$\n",
    "\n",
    "You can estimate 𝜎𝑑 from the residuals in your data, assuming that 𝜒2 of the best‑fit model approximately equal to the number of degrees of freedom.\n"
   ]
  },
  {
   "cell_type": "code",
   "execution_count": 51,
   "id": "88530e88",
   "metadata": {},
   "outputs": [
    {
     "data": {
      "text/plain": [
       "array([ 1.07474007e-03,  1.54198053e-04, -6.34205597e-03, -7.23506991e-04,\n",
       "        9.46750322e-04, -7.39589303e-03,  7.76466448e-04,  5.94120408e-04,\n",
       "       -5.10380483e-03,  9.04768143e-04,  3.68108611e-04,  2.96045213e-05,\n",
       "        5.50812273e-03, -8.61702611e-03,  4.23875779e-03])"
      ]
     },
     "execution_count": 51,
     "metadata": {},
     "output_type": "execute_result"
    }
   ],
   "source": [
    "# if we compare the solutions for the two different nights in April, we get:\n",
    "\n",
    "df1 = pd.read_csv('data/2019_04_07.csv')\n",
    "df2 = pd.read_csv('data/2019_04_08.csv')\n",
    "\n",
    "df1 = df1.rename(columns={'elevation': 'azimuth', 'azimuth': 'elevation'})\n",
    "df2 = df2.rename(columns={'elevation': 'azimuth', 'azimuth': 'elevation'})\n",
    "df1['azimuth'] = df1['azimuth'] * 2 * np.pi / 360\n",
    "df1['elevation'] = df1['elevation'] * 2 * np.pi / 360\n",
    "df2['azimuth'] = df2['azimuth'] * 2 * np.pi / 360\n",
    "df2['elevation'] = df2['elevation'] * 2 * np.pi / 360\n",
    "\n",
    "\n",
    "design_mat1, pinv1, y1 = create_design_matrix(df1, telescopes, POPs)\n",
    "design_mat2, pinv2, y2 = create_design_matrix(df2, telescopes, POPs)\n",
    "\n",
    "(pinv1 @ y1 - pinv2 @ y2)[:15]"
   ]
  },
  {
   "cell_type": "code",
   "execution_count": 52,
   "id": "ad379a7c",
   "metadata": {},
   "outputs": [
    {
     "data": {
      "text/plain": [
       "array([ 1.14295556e-03,  7.37051381e-04, -2.23857786e-03,  1.08081444e-03,\n",
       "        6.55980207e-04, -2.40966550e-03,  1.35871917e-03, -2.09947979e-04,\n",
       "       -1.32894020e-03,  1.01737450e-03,  1.27827791e-03, -8.45434758e-04,\n",
       "        2.93015586e-12, -9.62477730e-14,  5.92308106e-13])"
      ]
     },
     "execution_count": 52,
     "metadata": {},
     "output_type": "execute_result"
    }
   ],
   "source": [
    "# if we compare the solutions for the two different nights in November, we get:\n",
    "\n",
    "df1 = pd.read_csv('data/2019_11_05.csv')\n",
    "df2 = pd.read_csv('data/2019_11_06.csv')\n",
    "\n",
    "df1 = df1.rename(columns={'elevation': 'azimuth', 'azimuth': 'elevation'})\n",
    "df2 = df2.rename(columns={'elevation': 'azimuth', 'azimuth': 'elevation'})\n",
    "df1['azimuth'] = df1['azimuth'] * 2 * np.pi / 360\n",
    "df1['elevation'] = df1['elevation'] * 2 * np.pi / 360\n",
    "df2['azimuth'] = df2['azimuth'] * 2 * np.pi / 360\n",
    "df2['elevation'] = df2['elevation'] * 2 * np.pi / 360\n",
    "\n",
    "\n",
    "design_mat1, pinv1, y1 = create_design_matrix(df1, telescopes, POPs)\n",
    "design_mat2, pinv2, y2 = create_design_matrix(df2, telescopes, POPs)\n",
    "\n",
    "(pinv1 @ y1 - pinv2 @ y2)[:15]"
   ]
  },
  {
   "cell_type": "markdown",
   "id": "19a922c9",
   "metadata": {},
   "source": [
    "2. derive an uncertainty estimate using Singular Value Decomposition (SVD) of the design matrix to determine U, w and V.T matrixes using:\n",
    "\n",
    "$$\\sigma^2(\\theta_j) = \\sum_i \\left ( \\frac{V_{ji}}{w_i} \\right )^2 \\sigma^2_d$$\n",
    "\n",
    "Where $U, w, V$ come from the SVD. \n",
    "\n",
    "$\\sigma_d$ is the RMS error on the delay measurements, assumed to be the same for all measurements in a given fit. It can be found from the residuals in the data using a $\\chi^2$ distribution.\n",
    "\n",
    "$$\\chi^2 = \\sum_i \\frac{(\\text{Expected}_i - \\text{Observed}_i)^2}{\\text{Expected}_i}$$\n",
    "\n",
    "It is easy to see that the numerator is the residuals squared.\n",
    "\n",
    "We assume that $\\chi^2$ of the best-fit model is approximately equal to the number of degrees of freedom\n",
    " "
   ]
  },
  {
   "cell_type": "code",
   "execution_count": 53,
   "id": "91d49f8f",
   "metadata": {},
   "outputs": [],
   "source": [
    "residuals = y1 - design_mat1 @ (pinv1 @ y1)\n",
    "\n",
    "chi_sq = np.sum(residuals**2/y1)\n",
    "\n",
    "# chi-squared of the best-fit model \n",
    "sigma_d = np.sqrt(chi_sq)"
   ]
  },
  {
   "cell_type": "code",
   "execution_count": 54,
   "id": "eaba143d",
   "metadata": {},
   "outputs": [],
   "source": [
    "U, w, Vt = np.linalg.svd(design_mat1)"
   ]
  },
  {
   "cell_type": "code",
   "execution_count": 55,
   "id": "7aef2e29",
   "metadata": {},
   "outputs": [
    {
     "data": {
      "text/plain": [
       "numpy.float64"
      ]
     },
     "execution_count": 55,
     "metadata": {},
     "output_type": "execute_result"
    }
   ],
   "source": [
    "# for very small values of w_i we just say that 1/w_i = 0\n",
    "# small is N * eps times the maximum singular value, N is the number of data points and eps is the machine precision \n",
    "# we see that we are using numpy.float64\n",
    "type(w[0])"
   ]
  },
  {
   "cell_type": "code",
   "execution_count": 56,
   "id": "3ed8d6e8",
   "metadata": {},
   "outputs": [
    {
     "data": {
      "text/plain": [
       "6.951375306652042e-11"
      ]
     },
     "execution_count": 56,
     "metadata": {},
     "output_type": "execute_result"
    }
   ],
   "source": [
    "# we can find the epsilon of this via \n",
    "eps = np.finfo(float).eps\n",
    "N = len(df1)\n",
    "\n",
    "# w is given as a vector in ascending order\n",
    "small = w[0] * N * eps\n",
    "small"
   ]
  },
  {
   "cell_type": "code",
   "execution_count": 57,
   "id": "debd01b5",
   "metadata": {},
   "outputs": [],
   "source": [
    "# therefore the only singular values that we care about are... \n",
    "\n",
    "w_sig = w[w > small]"
   ]
  },
  {
   "cell_type": "code",
   "execution_count": 58,
   "id": "89f7abeb",
   "metadata": {},
   "outputs": [
    {
     "data": {
      "text/plain": [
       "array([8.06924031e-08, 8.01698343e-08, 2.18159318e-07, 1.42792401e-07,\n",
       "       8.49644912e-08, 2.23300763e-07, 8.18047554e-08, 1.86064576e-07,\n",
       "       2.15297259e-07, 8.96883927e-08, 2.16630461e-07, 2.80211037e-07,\n",
       "       4.51007794e-36, 4.04833148e-36, 1.29135861e-35])"
      ]
     },
     "execution_count": 58,
     "metadata": {},
     "output_type": "execute_result"
    }
   ],
   "source": [
    "np.sum((Vt.T[:,:32]/w_sig)**2 * sigma_d**2, axis=1)[:15] # this seems odd... "
   ]
  },
  {
   "cell_type": "code",
   "execution_count": null,
   "id": "4a3941a7",
   "metadata": {},
   "outputs": [],
   "source": []
  }
 ],
 "metadata": {
  "kernelspec": {
   "display_name": "Python 3 (ipykernel)",
   "language": "python",
   "name": "python3"
  },
  "language_info": {
   "codemirror_mode": {
    "name": "ipython",
    "version": 3
   },
   "file_extension": ".py",
   "mimetype": "text/x-python",
   "name": "python",
   "nbconvert_exporter": "python",
   "pygments_lexer": "ipython3",
   "version": "3.9.6"
  }
 },
 "nbformat": 4,
 "nbformat_minor": 5
}
