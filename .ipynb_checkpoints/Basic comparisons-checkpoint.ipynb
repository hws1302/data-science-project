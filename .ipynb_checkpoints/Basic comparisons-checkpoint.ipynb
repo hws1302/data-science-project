{
 "cells": [
  {
   "cell_type": "markdown",
   "id": "7a4f944a",
   "metadata": {},
   "source": [
    "# Basic comparisons\n",
    "\n",
    "In this notebook look at plotting the positions of different telescopes changes from 2012 to 2019 "
   ]
  },
  {
   "cell_type": "code",
   "execution_count": 2,
   "id": "91721168",
   "metadata": {},
   "outputs": [],
   "source": [
    "from scripts import * \n",
    "\n",
    "import numpy as np\n",
    "import pandas as pd\n",
    "import matplotlib.pyplot as plt"
   ]
  },
  {
   "cell_type": "code",
   "execution_count": 30,
   "id": "dbda9556",
   "metadata": {},
   "outputs": [],
   "source": [
    "# load in all the data, clean it, and find the model parameters \n",
    "design_mat_04_07, pinv_04_07, y_04_07, beta_04_07 = load_and_clean('2019_04_07')\n",
    "design_mat_04_08, pinv_04_08, y_04_08, beta_04_08 = load_and_clean('2019_04_08')\n",
    "design_mat_11_05, pinv_11_05, y_11_05, beta_11_05 = load_and_clean('2019_11_05')\n",
    "design_mat_11_06, pinv_11_06, y_11_06, beta_11_06 = load_and_clean('2019_11_06')\n",
    "\n",
    "sigma_04_07 = svd_uncertainty(design_mat_04_07, y_04_07, beta_04_07)\n",
    "sigma_04_08 = svd_uncertainty(design_mat_04_08, y_04_08, beta_04_08)\n",
    "sigma_11_05 = svd_uncertainty(design_mat_11_05, y_11_05, beta_11_05)\n",
    "sigma_11_06 = svd_uncertainty(design_mat_11_06, y_11_06, beta_11_06)\n",
    "\n",
    "beta_04_07 = beta_04_07[:15].reshape(5,3)\n",
    "beta_04_08 = beta_04_08[:15].reshape(5,3)\n",
    "beta_11_05 = beta_11_05[:15].reshape(5,3)\n",
    "beta_11_06 = beta_11_06[:15].reshape(5,3)"
   ]
  },
  {
   "cell_type": "code",
   "execution_count": 31,
   "id": "78a01e20",
   "metadata": {},
   "outputs": [
    {
     "data": {
      "image/png": "[encoded data removed]",
      "text/plain": [
       "<Figure size 432x288 with 1 Axes>"
      ]
     },
     "metadata": {
      "needs_background": "light"
     },
     "output_type": "display_data"
    }
   ],
   "source": [
    "# for each telescope (wrt E1) it is probably easiest visualise (x, y) and (z) locations\n",
    "i = 0\n",
    "\n",
    "plt.scatter(beta_04_07[i,0], beta_04_07[i,1])\n",
    "plt.scatter(beta_04_08[i,0], beta_04_08[i,1])\n",
    "plt.scatter(beta_11_05[i,0], beta_11_05[i,1])\n",
    "plt.scatter(beta_11_06[i,0], beta_11_06[i,1])\n",
    "plt.show()"
   ]
  },
  {
   "cell_type": "code",
   "execution_count": 32,
   "id": "341e92d7",
   "metadata": {},
   "outputs": [
    {
     "data": {
      "text/plain": [
       "array([[194.43234583, 106.59849106,  -6.37541423],\n",
       "       [300.40829779,  89.60943948,   4.87968621],\n",
       "       [131.08335674, 272.35345759,  -6.54825323],\n",
       "       [125.33651473, 305.93214885,  -5.90810373],\n",
       "       [ 54.94326211,  36.21028149,  -3.10759554]])"
      ]
     },
     "execution_count": 32,
     "metadata": {},
     "output_type": "execute_result"
    }
   ],
   "source": [
    "beta_04_07[:15].reshape(5,3)"
   ]
  },
  {
   "cell_type": "code",
   "execution_count": 34,
   "id": "43717c59",
   "metadata": {},
   "outputs": [
    {
     "data": {
      "image/png": "[encoded data removed]",
      "text/plain": [
       "<Figure size 432x288 with 1 Axes>"
      ]
     },
     "metadata": {
      "needs_background": "light"
     },
     "output_type": "display_data"
    }
   ],
   "source": [
    "plt.scatter(beta_04_07[:,0], beta_04_07[:,1])\n",
    "plt.show()"
   ]
  },
  {
   "cell_type": "code",
   "execution_count": null,
   "id": "2ae5838b",
   "metadata": {},
   "outputs": [],
   "source": []
  }
 ],
 "metadata": {
  "kernelspec": {
   "display_name": "Python 3 (ipykernel)",
   "language": "python",
   "name": "python3"
  },
  "language_info": {
   "codemirror_mode": {
    "name": "ipython",
    "version": 3
   },
   "file_extension": ".py",
   "mimetype": "text/x-python",
   "name": "python",
   "nbconvert_exporter": "python",
   "pygments_lexer": "ipython3",
   "version": "3.9.6"
  }
 },
 "nbformat": 4,
 "nbformat_minor": 5
}
