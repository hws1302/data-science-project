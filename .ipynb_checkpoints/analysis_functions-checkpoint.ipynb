{
 "cells": [
  {
   "cell_type": "code",
   "execution_count": 7,
   "id": "4e41d623",
   "metadata": {},
   "outputs": [],
   "source": [
    "import numpy as np\n",
    "import pandas as pd"
   ]
  },
  {
   "cell_type": "code",
   "execution_count": 12,
   "id": "94ff249b",
   "metadata": {},
   "outputs": [],
   "source": [
    "def create_design_mat(df, tot_width=False):\n",
    "    \"\"\"\n",
    "    Completes the preprocessing of DataFrame to create the design matrix for telescope position problem \n",
    "    \n",
    "            output:\n",
    "            design_mat\n",
    "            pinv\n",
    "            y\n",
    "            beta \n",
    "    \n",
    "    \"\"\"\n",
    "\n",
    "    # ea. row must contain (x, y, z) for ea. telescope (except E1, the zero point)\n",
    "    # and all 30 POP settings for ea. telescope\n",
    "    import pdb; pdb.set_trace()\n",
    "    telescopes = [\"E1\", \"W2\", \"W1\", \"S2\", \"S1\", \"E2\"]\n",
    "    theta = df.elevation\n",
    "    phi = df.azimuth\n",
    "    S = np.array([np.cos(theta)*np.sin(phi), np.cos(theta)*np.cos(phi), np.sin(theta)]).T\n",
    "    k = 0\n",
    "    \n",
    "    tot_unique_pops = []\n",
    "    \n",
    "    width = 15\n",
    "\n",
    "    for telescope in telescopes: \n",
    "\n",
    "        pop_tel_1 = df[df.tel_1 == telescope].pop_1\n",
    "        pop_tel_2 = df[df.tel_2 == telescope].pop_2\n",
    "        tel_1_unique_pops = np.unique(pop_tel_2)\n",
    "        tel_2_unique_pops = np.unique(pop_tel_1)\n",
    "        tel_unique_pops = np.union1d(tel_1_unique_pops, tel_2_unique_pops)\n",
    "        tot_unique_pops.append(tel_unique_pops)\n",
    "        width += len(tel_unique_pops)\n",
    "    \n",
    "    if tot_width: width = 195\n",
    "        \n",
    "    design_mat = np.zeros((len(df), width))\n",
    "\n",
    "    for i, telescope in enumerate(telescopes):\n",
    "\n",
    "        # for ea. new telescope must jump 3 places for (x, y, z)\n",
    "\n",
    "        if telescope != \"E1\":  # keep 'E1' as the zero point\n",
    "\n",
    "            design_mat[:, 3*  i - 3: 3 + 3 * i - 3] += S * np.where(\n",
    "                df[\"tel_1\"] == telescope, 1, 0\n",
    "            ).reshape(-1, 1)\n",
    "            design_mat[:, 3 * i - 3: 3 + 3 * i - 3] -= S * np.where(\n",
    "                df[\"tel_2\"] == telescope, 1, 0\n",
    "            ).reshape(-1, 1)\n",
    "\n",
    "        for pop in tot_unique_pops[i]:\n",
    "            \n",
    "            # not working because E1 isn't in the list of telescopes\n",
    "            design_mat[:, 15 + k] += np.where(\n",
    "                (df[\"pop_1\"] == pop) & (df[\"tel_1\"] == telescope), 1, 0\n",
    "            )  # add when it is tel_1\n",
    "            design_mat[:, 15 + k] -= np.where(\n",
    "                (df[\"pop_2\"] == pop) & (df[\"tel_2\"] == telescope), 1, 0\n",
    "            )  # subtract when it is the tel_2\n",
    "            \n",
    "            k += 1 \n",
    "\n",
    "    y = df[\"cart_2\"].values - df[\"cart_1\"].values\n",
    "\n",
    "    pinv = np.linalg.pinv(design_mat)\n",
    "    \n",
    "    beta = pinv @ y\n",
    "\n",
    "    return design_mat, pinv, y, beta "
   ]
  },
  {
   "cell_type": "code",
   "execution_count": 11,
   "id": "0941fabe",
   "metadata": {},
   "outputs": [],
   "source": [
    "def remove_outlier():\n",
    "    pass"
   ]
  },
  {
   "cell_type": "code",
   "execution_count": 6,
   "id": "3a24b552",
   "metadata": {},
   "outputs": [],
   "source": [
    "def parameter_uncertainty():\n",
    "    pass "
   ]
  },
  {
   "cell_type": "code",
   "execution_count": null,
   "id": "49e62b66",
   "metadata": {},
   "outputs": [],
   "source": []
  }
 ],
 "metadata": {
  "kernelspec": {
   "display_name": "Python 3 (ipykernel)",
   "language": "python",
   "name": "python3"
  },
  "language_info": {
   "codemirror_mode": {
    "name": "ipython",
    "version": 3
   },
   "file_extension": ".py",
   "mimetype": "text/x-python",
   "name": "python",
   "nbconvert_exporter": "python",
   "pygments_lexer": "ipython3",
   "version": "3.9.6"
  }
 },
 "nbformat": 4,
 "nbformat_minor": 5
}
