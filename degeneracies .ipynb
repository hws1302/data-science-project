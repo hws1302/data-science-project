{
 "cells": [
  {
   "cell_type": "code",
   "execution_count": 233,
   "id": "204367f2",
   "metadata": {},
   "outputs": [],
   "source": [
    "from scripts import *\n",
    "\n",
    "import numpy as np\n",
    "import pandas as pd\n",
    "import matplotlib.pyplot as plt \n",
    "import networkx as nx\n",
    "import seaborn as sns"
   ]
  },
  {
   "cell_type": "code",
   "execution_count": 192,
   "id": "54f98cf4",
   "metadata": {},
   "outputs": [
    {
     "data": {
      "text/html": [
       "<div>\n",
       "<style scoped>\n",
       "    .dataframe tbody tr th:only-of-type {\n",
       "        vertical-align: middle;\n",
       "    }\n",
       "\n",
       "    .dataframe tbody tr th {\n",
       "        vertical-align: top;\n",
       "    }\n",
       "\n",
       "    .dataframe thead th {\n",
       "        text-align: right;\n",
       "    }\n",
       "</style>\n",
       "<table border=\"1\" class=\"dataframe\">\n",
       "  <thead>\n",
       "    <tr style=\"text-align: right;\">\n",
       "      <th></th>\n",
       "      <th>utc</th>\n",
       "      <th>star</th>\n",
       "      <th>elevation</th>\n",
       "      <th>azimuth</th>\n",
       "      <th>tel_1</th>\n",
       "      <th>tel_2</th>\n",
       "      <th>pop_1</th>\n",
       "      <th>pop_2</th>\n",
       "      <th>cart_1</th>\n",
       "      <th>cart_2</th>\n",
       "      <th>year</th>\n",
       "      <th>month</th>\n",
       "      <th>day</th>\n",
       "    </tr>\n",
       "  </thead>\n",
       "  <tbody>\n",
       "    <tr>\n",
       "      <th>0</th>\n",
       "      <td>2012-02-03T02:25:39.000</td>\n",
       "      <td>#57100</td>\n",
       "      <td>0.713447</td>\n",
       "      <td>2.464114</td>\n",
       "      <td>S1</td>\n",
       "      <td>W1</td>\n",
       "      <td>P4B5</td>\n",
       "      <td>P1B6</td>\n",
       "      <td>87.558149</td>\n",
       "      <td>23.999987</td>\n",
       "      <td>2012</td>\n",
       "      <td>2</td>\n",
       "      <td>3</td>\n",
       "    </tr>\n",
       "    <tr>\n",
       "      <th>1</th>\n",
       "      <td>2012-02-03T02:25:40.000</td>\n",
       "      <td>#57100</td>\n",
       "      <td>0.713485</td>\n",
       "      <td>2.464196</td>\n",
       "      <td>S1</td>\n",
       "      <td>W1</td>\n",
       "      <td>P4B5</td>\n",
       "      <td>P1B6</td>\n",
       "      <td>87.551523</td>\n",
       "      <td>23.999987</td>\n",
       "      <td>2012</td>\n",
       "      <td>2</td>\n",
       "      <td>3</td>\n",
       "    </tr>\n",
       "    <tr>\n",
       "      <th>2</th>\n",
       "      <td>2012-02-03T02:25:41.000</td>\n",
       "      <td>#57100</td>\n",
       "      <td>0.713523</td>\n",
       "      <td>2.464278</td>\n",
       "      <td>S1</td>\n",
       "      <td>W1</td>\n",
       "      <td>P4B5</td>\n",
       "      <td>P1B6</td>\n",
       "      <td>87.544909</td>\n",
       "      <td>23.999987</td>\n",
       "      <td>2012</td>\n",
       "      <td>2</td>\n",
       "      <td>3</td>\n",
       "    </tr>\n",
       "    <tr>\n",
       "      <th>3</th>\n",
       "      <td>2012-02-03T02:46:21.000</td>\n",
       "      <td>#57100</td>\n",
       "      <td>0.757257</td>\n",
       "      <td>2.570060</td>\n",
       "      <td>S1</td>\n",
       "      <td>W1</td>\n",
       "      <td>P4B5</td>\n",
       "      <td>P1B6</td>\n",
       "      <td>78.534254</td>\n",
       "      <td>23.999992</td>\n",
       "      <td>2012</td>\n",
       "      <td>2</td>\n",
       "      <td>3</td>\n",
       "    </tr>\n",
       "    <tr>\n",
       "      <th>4</th>\n",
       "      <td>2012-02-03T02:46:39.000</td>\n",
       "      <td>#57100</td>\n",
       "      <td>0.757843</td>\n",
       "      <td>2.571662</td>\n",
       "      <td>S1</td>\n",
       "      <td>W1</td>\n",
       "      <td>P4B5</td>\n",
       "      <td>P1B6</td>\n",
       "      <td>78.391951</td>\n",
       "      <td>23.999992</td>\n",
       "      <td>2012</td>\n",
       "      <td>2</td>\n",
       "      <td>3</td>\n",
       "    </tr>\n",
       "    <tr>\n",
       "      <th>...</th>\n",
       "      <td>...</td>\n",
       "      <td>...</td>\n",
       "      <td>...</td>\n",
       "      <td>...</td>\n",
       "      <td>...</td>\n",
       "      <td>...</td>\n",
       "      <td>...</td>\n",
       "      <td>...</td>\n",
       "      <td>...</td>\n",
       "      <td>...</td>\n",
       "      <td>...</td>\n",
       "      <td>...</td>\n",
       "      <td>...</td>\n",
       "    </tr>\n",
       "    <tr>\n",
       "      <th>22270</th>\n",
       "      <td>2012-12-22T11:46:22.000</td>\n",
       "      <td>#153578</td>\n",
       "      <td>0.929092</td>\n",
       "      <td>0.703750</td>\n",
       "      <td>S1</td>\n",
       "      <td>E1</td>\n",
       "      <td>P1B4</td>\n",
       "      <td>P5B6</td>\n",
       "      <td>6.688514</td>\n",
       "      <td>31.956417</td>\n",
       "      <td>2012</td>\n",
       "      <td>12</td>\n",
       "      <td>22</td>\n",
       "    </tr>\n",
       "    <tr>\n",
       "      <th>22271</th>\n",
       "      <td>2012-12-22T11:46:22.000</td>\n",
       "      <td>#153578</td>\n",
       "      <td>0.929092</td>\n",
       "      <td>0.703750</td>\n",
       "      <td>S1</td>\n",
       "      <td>W1</td>\n",
       "      <td>P1B4</td>\n",
       "      <td>P3B5</td>\n",
       "      <td>6.688514</td>\n",
       "      <td>0.000000</td>\n",
       "      <td>2012</td>\n",
       "      <td>12</td>\n",
       "      <td>22</td>\n",
       "    </tr>\n",
       "    <tr>\n",
       "      <th>22272</th>\n",
       "      <td>2012-12-22T11:47:28.000</td>\n",
       "      <td>#153578</td>\n",
       "      <td>0.931664</td>\n",
       "      <td>0.702383</td>\n",
       "      <td>E1</td>\n",
       "      <td>W1</td>\n",
       "      <td>P5B6</td>\n",
       "      <td>P3B5</td>\n",
       "      <td>31.282386</td>\n",
       "      <td>0.000000</td>\n",
       "      <td>2012</td>\n",
       "      <td>12</td>\n",
       "      <td>22</td>\n",
       "    </tr>\n",
       "    <tr>\n",
       "      <th>22273</th>\n",
       "      <td>2012-12-22T11:47:28.000</td>\n",
       "      <td>#153578</td>\n",
       "      <td>0.931664</td>\n",
       "      <td>0.702383</td>\n",
       "      <td>S1</td>\n",
       "      <td>E1</td>\n",
       "      <td>P1B4</td>\n",
       "      <td>P5B6</td>\n",
       "      <td>6.588786</td>\n",
       "      <td>31.282386</td>\n",
       "      <td>2012</td>\n",
       "      <td>12</td>\n",
       "      <td>22</td>\n",
       "    </tr>\n",
       "    <tr>\n",
       "      <th>22274</th>\n",
       "      <td>2012-12-22T11:47:28.000</td>\n",
       "      <td>#153578</td>\n",
       "      <td>0.931664</td>\n",
       "      <td>0.702383</td>\n",
       "      <td>S1</td>\n",
       "      <td>W1</td>\n",
       "      <td>P1B4</td>\n",
       "      <td>P3B5</td>\n",
       "      <td>6.588786</td>\n",
       "      <td>0.000000</td>\n",
       "      <td>2012</td>\n",
       "      <td>12</td>\n",
       "      <td>22</td>\n",
       "    </tr>\n",
       "  </tbody>\n",
       "</table>\n",
       "<p>22275 rows × 13 columns</p>\n",
       "</div>"
      ],
      "text/plain": [
       "                           utc     star  elevation   azimuth tel_1 tel_2  \\\n",
       "0      2012-02-03T02:25:39.000   #57100   0.713447  2.464114    S1    W1   \n",
       "1      2012-02-03T02:25:40.000   #57100   0.713485  2.464196    S1    W1   \n",
       "2      2012-02-03T02:25:41.000   #57100   0.713523  2.464278    S1    W1   \n",
       "3      2012-02-03T02:46:21.000   #57100   0.757257  2.570060    S1    W1   \n",
       "4      2012-02-03T02:46:39.000   #57100   0.757843  2.571662    S1    W1   \n",
       "...                        ...      ...        ...       ...   ...   ...   \n",
       "22270  2012-12-22T11:46:22.000  #153578   0.929092  0.703750    S1    E1   \n",
       "22271  2012-12-22T11:46:22.000  #153578   0.929092  0.703750    S1    W1   \n",
       "22272  2012-12-22T11:47:28.000  #153578   0.931664  0.702383    E1    W1   \n",
       "22273  2012-12-22T11:47:28.000  #153578   0.931664  0.702383    S1    E1   \n",
       "22274  2012-12-22T11:47:28.000  #153578   0.931664  0.702383    S1    W1   \n",
       "\n",
       "      pop_1 pop_2     cart_1     cart_2  year  month  day  \n",
       "0      P4B5  P1B6  87.558149  23.999987  2012      2    3  \n",
       "1      P4B5  P1B6  87.551523  23.999987  2012      2    3  \n",
       "2      P4B5  P1B6  87.544909  23.999987  2012      2    3  \n",
       "3      P4B5  P1B6  78.534254  23.999992  2012      2    3  \n",
       "4      P4B5  P1B6  78.391951  23.999992  2012      2    3  \n",
       "...     ...   ...        ...        ...   ...    ...  ...  \n",
       "22270  P1B4  P5B6   6.688514  31.956417  2012     12   22  \n",
       "22271  P1B4  P3B5   6.688514   0.000000  2012     12   22  \n",
       "22272  P5B6  P3B5  31.282386   0.000000  2012     12   22  \n",
       "22273  P1B4  P5B6   6.588786  31.282386  2012     12   22  \n",
       "22274  P1B4  P3B5   6.588786   0.000000  2012     12   22  \n",
       "\n",
       "[22275 rows x 13 columns]"
      ]
     },
     "execution_count": 192,
     "metadata": {},
     "output_type": "execute_result"
    }
   ],
   "source": [
    "# load the 2012 data set and look for a day with few measurements\n",
    "df_2012 = pd.read_csv('data/2012_all_v2.csv')\n",
    "\n",
    "df_2012"
   ]
  },
  {
   "cell_type": "code",
   "execution_count": 232,
   "id": "b098d608",
   "metadata": {},
   "outputs": [
    {
     "data": {
      "image/png": "[encoded data removed]",
      "text/plain": [
       "<Figure size 432x288 with 1 Axes>"
      ]
     },
     "metadata": {
      "needs_background": "light"
     },
     "output_type": "display_data"
    },
    {
     "data": {
      "image/png": "[encoded data removed]",
      "text/plain": [
       "<Figure size 432x288 with 1 Axes>"
      ]
     },
     "metadata": {
      "needs_background": "light"
     },
     "output_type": "display_data"
    },
    {
     "data": {
      "image/png": "[encoded data removed]",
      "text/plain": [
       "<Figure size 432x288 with 1 Axes>"
      ]
     },
     "metadata": {
      "needs_background": "light"
     },
     "output_type": "display_data"
    },
    {
     "data": {
      "image/png": "[encoded data removed]",
      "text/plain": [
       "<Figure size 432x288 with 1 Axes>"
      ]
     },
     "metadata": {
      "needs_background": "light"
     },
     "output_type": "display_data"
    },
    {
     "data": {
      "image/png": "[encoded data removed]",
      "text/plain": [
       "<Figure size 432x288 with 1 Axes>"
      ]
     },
     "metadata": {
      "needs_background": "light"
     },
     "output_type": "display_data"
    },
    {
     "data": {
      "image/png": "[encoded data removed]",
      "text/plain": [
       "<Figure size 432x288 with 1 Axes>"
      ]
     },
     "metadata": {
      "needs_background": "light"
     },
     "output_type": "display_data"
    },
    {
     "data": {
      "image/png": "[encoded data removed]",
      "text/plain": [
       "<Figure size 432x288 with 1 Axes>"
      ]
     },
     "metadata": {
      "needs_background": "light"
     },
     "output_type": "display_data"
    },
    {
     "data": {
      "image/png": "[encoded data removed]",
      "text/plain": [
       "<Figure size 432x288 with 1 Axes>"
      ]
     },
     "metadata": {
      "needs_background": "light"
     },
     "output_type": "display_data"
    },
    {
     "data": {
      "image/png": "[encoded data removed]",
      "text/plain": [
       "<Figure size 432x288 with 1 Axes>"
      ]
     },
     "metadata": {
      "needs_background": "light"
     },
     "output_type": "display_data"
    },
    {
     "data": {
      "image/png": "[encoded data removed]",
      "text/plain": [
       "<Figure size 432x288 with 1 Axes>"
      ]
     },
     "metadata": {
      "needs_background": "light"
     },
     "output_type": "display_data"
    },
    {
     "data": {
      "image/png": "[encoded data removed]",
      "text/plain": [
       "<Figure size 432x288 with 1 Axes>"
      ]
     },
     "metadata": {
      "needs_background": "light"
     },
     "output_type": "display_data"
    },
    {
     "data": {
      "image/png": "[encoded data removed]",
      "text/plain": [
       "<Figure size 432x288 with 1 Axes>"
      ]
     },
     "metadata": {
      "needs_background": "light"
     },
     "output_type": "display_data"
    }
   ],
   "source": [
    "# look at the amount of measurements per day for the whole of 2012\n",
    "for month in range(1,13):\n",
    "    sns.histplot(df_2012[df_2012.month==month].day)\n",
    "    plt.show()"
   ]
  },
  {
   "cell_type": "code",
   "execution_count": 237,
   "id": "36679213",
   "metadata": {},
   "outputs": [
    {
     "data": {
      "image/png": "[encoded data removed]",
      "text/plain": [
       "<Figure size 432x288 with 1 Axes>"
      ]
     },
     "metadata": {},
     "output_type": "display_data"
    }
   ],
   "source": [
    "df = df_2012[(df_2012.month == 5) & (df_2012.day == 4)]\n",
    "\n",
    "graph_df = df.groupby(['tel_1','tel_2']).size().reset_index().rename(columns={0:'count'})\n",
    "G = nx.from_pandas_edgelist(graph_df, source='tel_1', target='tel_2')\n",
    "\n",
    "nx.draw(G, with_labels=True)\n",
    "plt.show()"
   ]
  },
  {
   "cell_type": "code",
   "execution_count": 212,
   "id": "3827ad54",
   "metadata": {},
   "outputs": [
    {
     "data": {
      "text/plain": [
       "False"
      ]
     },
     "execution_count": 212,
     "metadata": {},
     "output_type": "execute_result"
    }
   ],
   "source": [
    "nx.is_connected(G)"
   ]
  },
  {
   "cell_type": "code",
   "execution_count": 214,
   "id": "da409265",
   "metadata": {},
   "outputs": [],
   "source": [
    "# we can see that the graph is disconnected and this is what the function tell us\n",
    "# lets solve this problem and see if the degeneracies are observable \n",
    "\n",
    "design_mat, pinv, y, beta = create_design_mat(df)"
   ]
  },
  {
   "cell_type": "code",
   "execution_count": 215,
   "id": "897fa371",
   "metadata": {},
   "outputs": [
    {
     "data": {
      "text/plain": [
       "array([  67.61217185,  -31.79130762,   -1.02954313,  300.40057979,\n",
       "         89.61262469,    4.87404459,    4.26467806,  133.96299754,\n",
       "         -1.20360091,  125.33081666,  305.93213165,   -5.91536702,\n",
       "        -71.87684991, -102.17168991,    2.23314404,   49.39169636,\n",
       "          8.18047333,  -46.89531862,  -14.85382856,   -2.49637774,\n",
       "          6.67335523])"
      ]
     },
     "execution_count": 215,
     "metadata": {},
     "output_type": "execute_result"
    }
   ],
   "source": [
    "beta"
   ]
  },
  {
   "cell_type": "code",
   "execution_count": 221,
   "id": "1a399a2e",
   "metadata": {},
   "outputs": [
    {
     "data": {
      "text/plain": [
       "0.00014834138899288973"
      ]
     },
     "execution_count": 221,
     "metadata": {},
     "output_type": "execute_result"
    }
   ],
   "source": [
    "# see that the model is predicting the outcomes well\n",
    "max(y - design_mat @ beta) "
   ]
  },
  {
   "cell_type": "code",
   "execution_count": 230,
   "id": "c2ab1bc9",
   "metadata": {},
   "outputs": [
    {
     "data": {
      "text/plain": [
       "array([ 1.26838828e+02,  1.38409308e+02, -5.28845687e+00,  4.14202103e-02,\n",
       "        2.63753079e-02,  7.99554112e-02,  1.26855322e+02,  1.38419002e+02,\n",
       "       -5.30439909e+00,  4.01833361e-02,  3.08683502e-02,  5.03670226e-02,\n",
       "        1.26846850e+02,  1.38417690e+02, -5.31014404e+00])"
      ]
     },
     "execution_count": 230,
     "metadata": {},
     "output_type": "execute_result"
    }
   ],
   "source": [
    "# here E2, W2 and S2 are only ever seen together -> and they are not zero'd out \n",
    "# expect these to be the ones with strange values\n",
    "loc_actual = np.array([\n",
    "    #[0,0,0], # E1\n",
    "    [194.451, 106.618, - 6.318], # W2\n",
    "    [300.442, 89.639, 4.954], # W1\n",
    "    [131.120, 272.382, -6.508], # S2\n",
    "    [125.371, 305.963, -5.865], # S1\n",
    "    [54.970, 36.246, -3.077], # E2\n",
    "])\n",
    "\n",
    "\n",
    "# so we see that the large errors come for the 1st, 3rd and 5th baselines \n",
    "# these correspond to W2, S2 and E2 i.e. disconnected graphs do not perform well!\n",
    "# but important to remember that the basleines of E2 S2 W2 will still be correct (atleast not really wrong!)\n",
    "loc_actual.reshape(-1,) - beta[:15]"
   ]
  },
  {
   "cell_type": "code",
   "execution_count": 248,
   "id": "160c12c3",
   "metadata": {},
   "outputs": [
    {
     "data": {
      "text/plain": [
       "array([1.54374390e+01, 1.35306077e+01, 1.35306077e+01, 1.26915929e+01,\n",
       "       1.65442388e+00, 1.65442388e+00, 1.54191481e+00, 8.84498233e-01,\n",
       "       5.73478508e-01, 4.21381312e-01, 4.21381312e-01, 3.37327118e-01,\n",
       "       8.93053939e-02, 8.93053939e-02, 6.55140054e-02, 4.63610753e-02,\n",
       "       1.09848269e-15, 7.69188646e-16, 7.14050421e-16, 1.17870290e-16,\n",
       "       6.57237396e-17])"
      ]
     },
     "execution_count": 248,
     "metadata": {},
     "output_type": "execute_result"
    }
   ],
   "source": [
    "# in the SVD these degeneracies should show themselves as zero singular values \n",
    "\n",
    "U, w, Vt = np.linalg.svd(design_mat)\n",
    "\n",
    "# see that we have 5 zero singular values ad 4 others that are very small\n",
    "# something in numerical recipes about getting rid of the smaller ones\n",
    "w"
   ]
  },
  {
   "cell_type": "code",
   "execution_count": 315,
   "id": "b96cb33d",
   "metadata": {},
   "outputs": [
    {
     "data": {
      "text/plain": [
       "array([ 1.16920833e-01, -5.65238206e-01, -8.47978165e-03, -2.99682401e-16,\n",
       "        1.01543328e-16, -2.15467782e-16,  1.16920833e-01, -5.65238206e-01,\n",
       "       -8.47978165e-03, -1.34975576e-16, -1.45147341e-16, -2.16471839e-16,\n",
       "        1.16920833e-01, -5.65238206e-01, -8.47978165e-03, -6.45531842e-04,\n",
       "       -9.81324089e-03, -6.45531842e-04, -9.81324089e-03, -6.45531842e-04,\n",
       "       -9.81324089e-03])"
      ]
     },
     "execution_count": 315,
     "metadata": {},
     "output_type": "execute_result"
    }
   ],
   "source": [
    "# looking at the v vectors that correpond to these zero singular values \n",
    "# v vectors are the columns of V and are therefore the rows of Vt\n",
    "\n",
    "Vt[-1] "
   ]
  },
  {
   "cell_type": "code",
   "execution_count": 287,
   "id": "11a619c8",
   "metadata": {},
   "outputs": [
    {
     "data": {
      "text/plain": [
       "(array([ 0,  1,  2,  6,  7,  8, 12, 13, 14, 15, 16, 17, 18, 19, 20]),)"
      ]
     },
     "execution_count": 287,
     "metadata": {},
     "output_type": "execute_result"
    }
   ],
   "source": [
    "np.where(abs(Vt[-1]) > 0.00001)\n",
    "# this has contributions from W2, S2, E2 and ALL the pop settings\n",
    "# turns out that it is the same for the rest of them... "
   ]
  },
  {
   "cell_type": "code",
   "execution_count": 322,
   "id": "76cb3e31",
   "metadata": {},
   "outputs": [
    {
     "data": {
      "text/plain": [
       "array([ 181.12326188, -875.61630368,  -13.13611675,  181.12326188,\n",
       "       -875.61630368,  -13.13611675,  181.12326188, -875.61630368,\n",
       "        -13.13611675,   -1.        ,  -15.20179215,   -1.        ,\n",
       "        -15.20179215,   -1.        ,  -15.20179215])"
      ]
     },
     "execution_count": 322,
     "metadata": {},
     "output_type": "execute_result"
    }
   ],
   "source": [
    "V1 = Vt[-1]\n",
    "\n",
    "V1 = V1[abs(V1) > 0.00001]\n",
    "\n",
    "# now for the first col we get the values that are significant\n",
    "V1 / min(abs(V1)) \n",
    "\n",
    "# has large values for x and very large values for y componenets"
   ]
  },
  {
   "cell_type": "code",
   "execution_count": 323,
   "id": "6dcaa7b9",
   "metadata": {},
   "outputs": [
    {
     "data": {
      "text/plain": [
       "array([ 1.29393295e+03,  2.69318602e+02, -3.12864863e+01,  1.29393295e+03,\n",
       "        2.69318602e+02, -3.12864863e+01,  1.29393295e+03,  2.69318602e+02,\n",
       "       -3.12864863e+01,  1.00000000e+00, -6.89668531e+01,  1.00000000e+00,\n",
       "       -6.89668531e+01,  1.00000000e+00, -6.89668531e+01])"
      ]
     },
     "execution_count": 323,
     "metadata": {},
     "output_type": "execute_result"
    }
   ],
   "source": [
    "V2 = Vt[-2]\n",
    "\n",
    "V2 = V2[abs(V2) > 0.00001]\n",
    "\n",
    "# now for the first col we get the values that are significant\n",
    "V2 / min(abs(V2))\n",
    "\n",
    "# has very large values for x, large for y "
   ]
  },
  {
   "cell_type": "code",
   "execution_count": 335,
   "id": "59349d00",
   "metadata": {},
   "outputs": [
    {
     "data": {
      "text/plain": [
       "array([ 5.63121414, -1.        , 55.38152132,  5.63121414, -1.        ,\n",
       "       55.38152132,  5.63121414, -1.        , 55.38152132,  2.67542998,\n",
       "       76.66113355,  2.67542998, 76.66113355,  2.67542998, 76.66113355])"
      ]
     },
     "execution_count": 335,
     "metadata": {},
     "output_type": "execute_result"
    }
   ],
   "source": [
    "V3 = Vt[-3]\n",
    "\n",
    "V3 = V3[abs(V3) > 0.00001]\n",
    "\n",
    "# now for the first col we get the values that are significant\n",
    "V3 / min(abs(V3))\n",
    "\n",
    "# the smallest value here is in the y component\n",
    "# largest valeus here are z components \n",
    "# note that all the baseline vectors and pop settings have the same value here "
   ]
  },
  {
   "cell_type": "code",
   "execution_count": 325,
   "id": "a181166c",
   "metadata": {},
   "outputs": [
    {
     "data": {
      "text/plain": [
       "array([   2.5283285 ,    1.        , -186.14286938,    2.5283285 ,\n",
       "          1.        , -186.14286938,    2.5283285 ,    1.        ,\n",
       "       -186.14286938,  -30.01886177,  135.34826075,  -30.01886177,\n",
       "        135.34826075,  -30.01886177,  135.34826075])"
      ]
     },
     "execution_count": 325,
     "metadata": {},
     "output_type": "execute_result"
    }
   ],
   "source": [
    "V4 = Vt[-4]\n",
    "\n",
    "V4 = V4[abs(V4) > 0.00001]\n",
    "\n",
    "# now for the first col we get the values that are significant\n",
    "V4 / min(abs(V4))\n",
    "\n",
    "# again the basline has the same values for all of the the telescopes\n",
    "# large values for z components comparible with the pop "
   ]
  },
  {
   "cell_type": "code",
   "execution_count": 336,
   "id": "d09c24e4",
   "metadata": {},
   "outputs": [
    {
     "data": {
      "text/plain": [
       "array([-1.98345486e+00, -1.00000000e+00, -3.05606972e+02, -1.98345486e+00,\n",
       "       -1.00000000e+00, -3.05606972e+02, -1.98345486e+00, -1.00000000e+00,\n",
       "       -3.05606972e+02,  2.49781592e+03,  1.33736826e+02,  2.49781592e+03,\n",
       "        1.33736826e+02,  2.49781592e+03,  1.33736826e+02])"
      ]
     },
     "execution_count": 336,
     "metadata": {},
     "output_type": "execute_result"
    }
   ],
   "source": [
    "V5 = Vt[-5]\n",
    "\n",
    "V5 = V5[abs(V5) > 0.00001]\n",
    "\n",
    "# now for the first col we get the values that are significant\n",
    "V5 / min(abs(V5))\n",
    "# here the z component fo the pop is large and they are all the same \n",
    "# though the pop settings is by far the largest"
   ]
  },
  {
   "cell_type": "code",
   "execution_count": null,
   "id": "66afc01a",
   "metadata": {},
   "outputs": [],
   "source": [
    "# only one POP setting is used for each telescope"
   ]
  },
  {
   "cell_type": "code",
   "execution_count": null,
   "id": "f0711e6c",
   "metadata": {},
   "outputs": [],
   "source": []
  }
 ],
 "metadata": {
  "kernelspec": {
   "display_name": "Python 3 (ipykernel)",
   "language": "python",
   "name": "python3"
  },
  "language_info": {
   "codemirror_mode": {
    "name": "ipython",
    "version": 3
   },
   "file_extension": ".py",
   "mimetype": "text/x-python",
   "name": "python",
   "nbconvert_exporter": "python",
   "pygments_lexer": "ipython3",
   "version": "3.9.6"
  }
 },
 "nbformat": 4,
 "nbformat_minor": 5
}
